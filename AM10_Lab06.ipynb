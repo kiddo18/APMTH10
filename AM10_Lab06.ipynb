{
 "cells": [
  {
   "cell_type": "code",
   "execution_count": 1,
   "metadata": {
    "colab": {},
    "colab_type": "code",
    "id": "JRL2Dpbn6iJu"
   },
   "outputs": [],
   "source": [
    "import numpy as np\n",
    "import random as rd\n",
    "import matplotlib.pyplot as plt\n",
    "import scipy.integrate as spi\n",
    "import time"
   ]
  },
  {
   "cell_type": "markdown",
   "metadata": {
    "colab_type": "text",
    "id": "_tZNr60p64wA"
   },
   "source": [
    "## Applied Math 10: Computing for Science and Engineering\n",
    "<br>\n",
    "\n",
    "### Lab 6 : Elementary - Numerical Integration of functions\n",
    "\n",
    "**Spring 2020**<br/>\n",
    "<br>\n",
    "**Instructor**: K. Indireshkumar (Kumar)<br/>\n",
    "**Material**: K. Indireshkumar (Kumar)"
   ]
  },
  {
   "cell_type": "markdown",
   "metadata": {
    "colab_type": "text",
    "id": "bNcwuFZX6-OU"
   },
   "source": [
    "### Learning Goals of Lab \n",
    "\n",
    "This lab concentrates on calculating integrals using the rectangular, trapezoidal approximations, and the Simpson's method. By the end of this lab, you will be familiar with:\n",
    "- writing functions for the rectangular, trapezoid, and Simpson's approximations\n",
    "- using the functions for calculting integrals \n",
    "- relative accuracies of the three methods"
   ]
  },
  {
   "cell_type": "markdown",
   "metadata": {
    "colab_type": "text",
    "id": "kWntZvU97DXO"
   },
   "source": [
    "#### A few suggestions:\n",
    "- Have your lecture notebook open\n",
    "- Always try to graph the function you are trying to integrate "
   ]
  },
  {
   "cell_type": "markdown",
   "metadata": {
    "colab_type": "text",
    "id": "LgkhmEHh7Nx9"
   },
   "source": [
    "Reference on numpy functions¶\n",
    "https://docs.scipy.org/doc/numpy-1.13.0/reference/routines.math.html"
   ]
  },
  {
   "cell_type": "markdown",
   "metadata": {
    "colab_type": "text",
    "id": "eFYlUGId7Q5O"
   },
   "source": [
    "###  Functions for Rectangular, trapezoidal, and rectangular approximations"
   ]
  },
  {
   "cell_type": "markdown",
   "metadata": {
    "colab_type": "text",
    "id": "VY577hGg7WX3"
   },
   "source": [
    "In Lecture 6, three methods for approximating a definite integral were explored. It is convenient to cast the methods as functions that can be reused for calculating any integral. We will start by writing a function for the rectangular approximation. Recall the expression for the integral using the rectangular method is:\n",
    "\n",
    "$$ I(a,b) \\approx \\sum_{n=0}^N f(x_n) \\Delta x + {\\cal O}[(\\Delta x)^2]$$\n",
    "\n",
    "The following function implements the above approximation for any function $f$ that has been discretized between the limits $xmin$ and $xmax$. The second term is the error in this approximation (you will not include that in the code)."
   ]
  },
  {
   "cell_type": "code",
   "execution_count": 2,
   "metadata": {
    "colab": {},
    "colab_type": "code",
    "id": "1Yvkyzy_6zez"
   },
   "outputs": [],
   "source": [
    "def rectnv(f, xmin, xmax):\n",
    "    # The input is: discretized values of the function, f;\n",
    "    #               limits of integration, xmin and xmax\n",
    "    # The output is: the integral of the function f between\n",
    "    #                the limits xmin and xmax\n",
    "    \n",
    "    #Find Nx from the discretized function f\n",
    "\n",
    "    Nx=len(f)-1\n",
    "    \n",
    "    #Find Dx \n",
    "    \n",
    "    Dx = (xmax - xmin) / Nx\n",
    "    \n",
    "    #Write the expression for integral\n",
    "    \n",
    "    Ints = Dx * np.sum(f)-Dx*f[Nx]\n",
    "    \n",
    "    return Ints"
   ]
  },
  {
   "cell_type": "code",
   "execution_count": 3,
   "metadata": {
    "colab": {},
    "colab_type": "code",
    "id": "JntxA1Oo7kKz"
   },
   "outputs": [],
   "source": [
    "# This is the same function that was used as an example in Lecture 6.\n",
    "\n",
    "def fofx(x):\n",
    "# check to make sure function does not blow up\n",
    "    if x==1.0:\n",
    "        return 0.0\n",
    "    else:\n",
    "        return np.cos(4.0*np.pi*x)/np.sqrt(1.0-x)\n",
    "\n",
    "\n",
    "Iexact=-0.115881"
   ]
  },
  {
   "cell_type": "code",
   "execution_count": 4,
   "metadata": {
    "colab": {},
    "colab_type": "code",
    "id": "qppdBaK07pUR"
   },
   "outputs": [],
   "source": [
    "#Define the limits and discretize the function\n",
    "\n",
    "xmin=-np.pi/4.0\n",
    "xmax=np.pi/4.0\n",
    "Nx=64\n",
    "x=np.linspace(xmin,xmax,Nx+1)\n",
    "f=np.zeros(Nx+1)\n",
    "for n in range(Nx+1):\n",
    "    f[n]=fofx(x[n])"
   ]
  },
  {
   "cell_type": "code",
   "execution_count": 5,
   "metadata": {
    "colab": {},
    "colab_type": "code",
    "id": "HkCshVdk70JS"
   },
   "outputs": [
    {
     "name": "stdout",
     "output_type": "stream",
     "text": [
      "-0.09968755411904563\n"
     ]
    }
   ],
   "source": [
    "#Call the function rectnv to compute the approximate value of the integral.\n",
    "I_rect=rectnv(f, xmin, xmax)\n",
    "print(I_rect)"
   ]
  },
  {
   "cell_type": "markdown",
   "metadata": {
    "colab_type": "text",
    "id": "y6Fv3xMI770L"
   },
   "source": [
    "#### The trapezoidal method"
   ]
  },
  {
   "cell_type": "markdown",
   "metadata": {
    "colab_type": "text",
    "id": "iEV7fBpb7-Az"
   },
   "source": [
    "From Lecture 6, recall the trapezoidal approximation for the integral is:\n",
    "\n",
    "$$ I(a,b) \\approx \\frac{1}{2} \\left [ f(x_0) + 2 \\sum_{n=1}^{N-1} f(x_n) + f(x_{N}) \\right ] \\Delta x + {\\cal O}[(\\Delta x)^3]$$\n",
    "\n",
    "As the second term indicates, this method is more accurate than the rectangular method."
   ]
  },
  {
   "cell_type": "markdown",
   "metadata": {
    "colab_type": "text",
    "id": "VYbFojMr8CuC"
   },
   "source": [
    "**Exercise 1: Write a function for the trapezoidal method.** "
   ]
  },
  {
   "cell_type": "markdown",
   "metadata": {
    "colab_type": "text",
    "id": "DoALviSG8HsV"
   },
   "source": [
    "The function should take as input:\n",
    "- the Discretized function whose integral needs to be evaluated\n",
    "- the integration limits (xmin and xmax)\n",
    "\n",
    "The function should return:\n",
    "- the integral"
   ]
  },
  {
   "cell_type": "code",
   "execution_count": 6,
   "metadata": {
    "colab": {},
    "colab_type": "code",
    "id": "eFXCVRrT8Rs7"
   },
   "outputs": [],
   "source": [
    "# Trapezoidal approximation template\n",
    "\n",
    "def trapznv(f, xmin, xmax):\n",
    "    \n",
    "    ''' 1) Put here your comments about the input \n",
    "           and output of your code\n",
    "        2) Compute the number of intervals - Nx\n",
    "        3) Find the interval size -- Dx\n",
    "        4) Compute the integral\n",
    "    '''\n",
    "    # The input is: discretized values of the function, f;\n",
    "    #               limits of integration, xmin and xmax\n",
    "    # The output is: the integral of the function f between\n",
    "    #                the limits xmin and xmax\n",
    "    \n",
    "    #Find Nx from the discretized function f\n",
    "\n",
    "    Nx= len(f) - 1\n",
    "    \n",
    "    #Find Dx \n",
    "    \n",
    "    Dx = (xmax - xmin) / Nx\n",
    "    \n",
    "    #Write the expression for integral\n",
    "    \n",
    "    Ints = (Dx * np.sum(f)) - (.5*Dx*f[0]) - (.5*Dx*f[Nx]) # Look at trapezoidal formula!!\n",
    "\n",
    "    return Ints"
   ]
  },
  {
   "cell_type": "markdown",
   "metadata": {
    "colab_type": "text",
    "id": "1w4YQfFn8Mfy"
   },
   "source": [
    "#### The Simpson's method"
   ]
  },
  {
   "cell_type": "markdown",
   "metadata": {
    "colab_type": "text",
    "id": "w24wWssK8aAM"
   },
   "source": [
    "Again, from Lecture 6, recall resulting expression for the Simpson's approximation is:\n",
    "\n",
    "$$ I(a,b) \\approx \\frac{1}{3} \\left [ f(x_0) + 4 \\sum_{n=1}^{N/2} f(x_{2n-1}) \n",
    "+ 2 \\sum_{n=1}^{N/2-1} f(x_{2n}) + f(x_{N}) \\right ] \\Delta x + {\\cal O}[(\\Delta x)^4]$$\n",
    "\n",
    "where $N$ must be an even number. As indicated by the error term (second term above), this method is more accurate than the trapezoidal method."
   ]
  },
  {
   "cell_type": "markdown",
   "metadata": {
    "colab_type": "text",
    "id": "MQtyAwKx8emk"
   },
   "source": [
    "**A function for the Simpson method.**"
   ]
  },
  {
   "cell_type": "markdown",
   "metadata": {
    "colab_type": "text",
    "id": "H2y_L6YU8kcV"
   },
   "source": [
    "The function should take as input:\n",
    "- the Discretized function whose integral needs to be evaluated\n",
    "- the integration limits (xmin and xmax)\n",
    "\n",
    "The function should return:\n",
    "- the integral"
   ]
  },
  {
   "cell_type": "code",
   "execution_count": 7,
   "metadata": {
    "colab": {},
    "colab_type": "code",
    "id": "97eh_BZg86zL"
   },
   "outputs": [],
   "source": [
    "def simpnv(f, xmin, xmax):\n",
    "    \n",
    "    # The input is: discretized values of the function, f;\n",
    "    #               limits of integration, xmin and xmax\n",
    "    # The output is: the integral of the function f between\n",
    "    #                the limits xmin and xmax\n",
    "    \n",
    "    # Find Nx and Dx\n",
    "    \n",
    "    Nx=len(f)-1\n",
    "    Dx = (xmax - xmin) / Nx\n",
    "    \n",
    "    sum1 = 0.0\n",
    "    sum2 = 0.0\n",
    "    \n",
    "    #Compute the sums for even and odd terms\n",
    "    \n",
    "    for n in range(1, Nx):\n",
    "        if n % 2 == 1:    # check n is odd and compute sum1\n",
    "            sum1 += f[n]  \n",
    "        if n % 2 == 0:    # check n is even and compute sum2 \n",
    "            sum2 += f[n]  \n",
    "    \n",
    "    Ints = (1.0 / 3.0) * Dx * (f[0] + 4.0 * sum1 + 2.0 * sum2 + f[Nx])\n",
    "    \n",
    "    return Ints"
   ]
  },
  {
   "cell_type": "markdown",
   "metadata": {
    "colab_type": "text",
    "id": "H6vx4H708qzd"
   },
   "source": [
    "## Problem 1"
   ]
  },
  {
   "cell_type": "markdown",
   "metadata": {
    "colab_type": "text",
    "id": "BUN6i6m49SBg"
   },
   "source": [
    "Using the functions you have constructed, evaluate the following integral:\n",
    "$$\\int_{\\pi/3}^{2\\pi/3} \\sin{x^6} dx$$\n",
    "\n",
    "Evaluate the integral for values of Nx from 16 to 1048576 (as done in class) using functions you wrote and compare it to the exact value (0.0665582)."
   ]
  },
  {
   "cell_type": "code",
   "execution_count": 9,
   "metadata": {
    "colab": {},
    "colab_type": "code",
    "id": "XeepuA3VXnWa"
   },
   "outputs": [],
   "source": [
    "# Function definition\n",
    "def gofx(x):\n",
    "    return np.sin(x**6)\n",
    "\n",
    "Iexact1=0.0665582"
   ]
  },
  {
   "cell_type": "code",
   "execution_count": 19,
   "metadata": {
    "colab": {},
    "colab_type": "code",
    "id": "PpA2kHX1Xvhs"
   },
   "outputs": [
    {
     "data": {
      "image/png": "[encoded data removed]",
      "text/plain": [
       "<Figure size 432x288 with 1 Axes>"
      ]
     },
     "metadata": {
      "needs_background": "light"
     },
     "output_type": "display_data"
    }
   ],
   "source": [
    "#Define the limits of integration and discretize\n",
    "#the independent variable and the function.\n",
    "# Plot the function for a few values of Nx (say for 64, 512) to get a feel for what to expect.\n",
    "\n",
    "xmin= np.pi/3.0\n",
    "xmax= 2*np.pi/3.0\n",
    "Nx=512\n",
    "x=np.linspace(xmin,xmax,Nx+1)\n",
    "g=np.zeros(Nx+1)\n",
    "for n in range(Nx+1):\n",
    "    g[n]=gofx(x[n])\n",
    "    \n",
    "plt.plot(g, x, 'ro')\n",
    "plt.show()"
   ]
  },
  {
   "cell_type": "code",
   "execution_count": 20,
   "metadata": {
    "colab": {},
    "colab_type": "code",
    "id": "XhCtR9O-YFjr"
   },
   "outputs": [
    {
     "name": "stdout",
     "output_type": "stream",
     "text": [
      "      16    0.1467912    0.1284800    0.1090597\n",
      "      64    0.0641971    0.0596193    0.0189240\n",
      "     256    0.0673873    0.0662428    0.0665805\n",
      "    1024    0.0668249    0.0665388    0.0665583\n",
      "    4096    0.0666285    0.0665570    0.0665582\n",
      "   16384    0.0665760    0.0665582    0.0665582\n",
      "   65536    0.0665627    0.0665582    0.0665582\n",
      "  262144    0.0665594    0.0665582    0.0665582\n",
      " 1048576    0.0665585    0.0665582    0.0665582\n"
     ]
    }
   ],
   "source": [
    "# We will calculate the integral \n",
    "\n",
    "Ms=9\n",
    "for m in range(Ms):\n",
    "    Nx=4**(m+2) # N is the number of segments increasing over time\n",
    "    Dx=(xmax-xmin)/Nx\n",
    "    x=np.linspace(xmin,xmax,Nx+1)\n",
    "    g=np.zeros(Nx+1)\n",
    "    for n in range(Nx+1):\n",
    "        g[n]=gofx(x[n])\n",
    "\n",
    "    # Now you have discretized function and the limits of\n",
    "    # integration. Compute the integral using Rectangular,\n",
    "    # trapezoid and Simpson's methods\n",
    "\n",
    "    Intrect= rectnv(g, xmin, xmax)\n",
    "    Inttrap= trapznv(g, xmin, xmax)\n",
    "    Intsimp= simpnv(g, xmin, xmax)\n",
    "\n",
    "    # Print the results. Note: exact answer=0.0665582\n",
    "    \n",
    "    print('%8i'%Nx,'%12.7f'%Intrect,'%12.7f'%Inttrap,'%12.7f'%Intsimp)"
   ]
  },
  {
   "cell_type": "code",
   "execution_count": null,
   "metadata": {},
   "outputs": [],
   "source": []
  }
 ],
 "metadata": {
  "colab": {
   "collapsed_sections": [],
   "name": "AM10_L06_lab_spring_2020_deliver",
   "provenance": []
  },
  "kernelspec": {
   "display_name": "Python 3",
   "language": "python",
   "name": "python3"
  },
  "language_info": {
   "codemirror_mode": {
    "name": "ipython",
    "version": 3
   },
   "file_extension": ".py",
   "mimetype": "text/x-python",
   "name": "python",
   "nbconvert_exporter": "python",
   "pygments_lexer": "ipython3",
   "version": "3.7.3"
  }
 },
 "nbformat": 4,
 "nbformat_minor": 1
}
