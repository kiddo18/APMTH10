{
  "nbformat": 4,
  "nbformat_minor": 0,
  "metadata": {
    "kernelspec": {
      "display_name": "Python 3",
      "language": "python",
      "name": "python3"
    },
    "language_info": {
      "codemirror_mode": {
        "name": "ipython",
        "version": 3
      },
      "file_extension": ".py",
      "mimetype": "text/x-python",
      "name": "python",
      "nbconvert_exporter": "python",
      "pygments_lexer": "ipython3",
      "version": "3.7.1"
    },
    "colab": {
      "name": "2D_3D_plots.ipynb",
      "provenance": [],
      "include_colab_link": true
    }
  },
  "cells": [
    {
      "cell_type": "markdown",
      "metadata": {
        "id": "view-in-github",
        "colab_type": "text"
      },
      "source": [
        "<a href=\"https://colab.research.google.com/github/kiddo18/APMTH10/blob/master/2D_3D_plots.ipynb\" target=\"_parent\"><img src=\"https://colab.research.google.com/assets/colab-badge.svg\" alt=\"Open In Colab\"/></a>"
      ]
    },
    {
      "cell_type": "code",
      "metadata": {
        "id": "aU7Q82ZTo1S7",
        "colab_type": "code",
        "colab": {}
      },
      "source": [
        "import numpy as np\n",
        "import matplotlib\n",
        "import matplotlib.pyplot as plt\n",
        "import matplotlib.cm as cm\n",
        "from mpl_toolkits.mplot3d import Axes3D  "
      ],
      "execution_count": 0,
      "outputs": []
    },
    {
      "cell_type": "code",
      "metadata": {
        "id": "MMQbWpOho1TB",
        "colab_type": "code",
        "colab": {}
      },
      "source": [
        "xmin=-4.0\n",
        "xmax=4.0\n",
        "dx=0.25\n",
        "x = np.arange(xmin, xmax, dx)\n",
        "\n",
        "ymin=-4.0\n",
        "ymax=4.0\n",
        "dy=0.25\n",
        "y = np.arange(ymin, ymax, dy)\n",
        "\n",
        "X, Y = np.meshgrid(x, y)\n",
        "\n",
        "Z=np.loadtxt('AM10_L03_2humps.txt')\n",
        "Zplot=-Z\n",
        "\n",
        "fig, ax = plt.subplots(figsize=(8,8))\n",
        "\n",
        "ax.set_title('Contour plot of 2 wells')\n",
        "levels=np.arange(-0.3,0,0.025)\n",
        "CS = ax.contour(X,Y,Zplot, levels)\n",
        "\n",
        "ax.clabel(CS, inline=1, fontsize=8)\n",
        "plt.savefig('Wells_2Dplot.pdf')\n",
        "plt.show()"
      ],
      "execution_count": 0,
      "outputs": []
    },
    {
      "cell_type": "code",
      "metadata": {
        "id": "BK17K9g_o1TG",
        "colab_type": "code",
        "colab": {}
      },
      "source": [
        "Nx=np.size(x)\n",
        "Ny=np.size(y)\n",
        "zmax=-1.0e10\n",
        "zmin=1.0e10\n",
        "for n2 in range(Nx):\n",
        "    for n1 in range (Ny):\n",
        "        zz=Zplot[n1,n2]\n",
        "        if zz<zmin:\n",
        "            zmin=zz        \n",
        "        if zz>zmax:\n",
        "            zmax=zz\n",
        "\n",
        "fig = plt.figure(figsize=(10,7))\n",
        "ax = fig.add_subplot(111, projection='3d')\n",
        "#Z = Z.reshape(X.shape)\n",
        "#ax.plot_surface(X, Y, Z)\n",
        "ax.plot_surface(X, Y, Zplot, rstride=1, cstride=1, cmap=cm.jet, linewidth=0,\n",
        "    antialiased=False)\n",
        "ax.set_zlim(zmin*1.02,zmax*1.02)\n",
        "\n",
        "ax.set_xlabel('X')\n",
        "ax.set_ylabel('Y')\n",
        "ax.set_zlabel('Z')\n",
        "plt.savefig('Wells_3Dplot.pdf')\n",
        "plt.show()"
      ],
      "execution_count": 0,
      "outputs": []
    }
  ]
}