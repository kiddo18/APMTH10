{
 "cells": [
  {
   "cell_type": "markdown",
   "metadata": {},
   "source": [
    "## Exploratory Data Analysis of the COVID-19 Pandemic in the United States\n",
    "\n",
    "## The Forced SIR model\n",
    "\n",
    "#### By Paul Doan (April 2020)\n",
    "#### Adapted from Harvard APMTH10 by Profs. Eleni Angelaki Kaxiras, Efthimios Kaxiras"
   ]
  },
  {
   "cell_type": "code",
   "execution_count": 1,
   "metadata": {},
   "outputs": [],
   "source": [
    "import numpy as np\n",
    "import matplotlib\n",
    "import matplotlib.pyplot as plt\n",
    "#matplotlib.style.use('ggplot')\n",
    "%matplotlib inline"
   ]
  },
  {
   "cell_type": "code",
   "execution_count": 2,
   "metadata": {},
   "outputs": [],
   "source": [
    "import scipy.stats as st\n",
    "from scipy.optimize import curve_fit\n",
    "from scipy.stats import norm"
   ]
  },
  {
   "cell_type": "code",
   "execution_count": 3,
   "metadata": {},
   "outputs": [],
   "source": [
    "import pandas as pd\n",
    "import seaborn as sns\n",
    "import warnings\n",
    "import glob\n",
    "# extend pandas printing instead of ...\n",
    "pd.options.display.max_columns = 500  \n",
    "pd.options.display.max_rows = 3000     \n",
    "pd.options.display.max_colwidth = 200\n",
    "pd.options.display.precision = 3"
   ]
  },
  {
   "cell_type": "markdown",
   "metadata": {},
   "source": [
    "### Import Daily Data from:\n",
    "https://github.com/nytimes/covid-19-data\n",
    "(Sourced from the European Centre for Disease Control)"
   ]
  },
  {
   "cell_type": "code",
   "execution_count": 5,
   "metadata": {},
   "outputs": [
    {
     "data": {
      "text/html": [
       "<div>\n",
       "<style scoped>\n",
       "    .dataframe tbody tr th:only-of-type {\n",
       "        vertical-align: middle;\n",
       "    }\n",
       "\n",
       "    .dataframe tbody tr th {\n",
       "        vertical-align: top;\n",
       "    }\n",
       "\n",
       "    .dataframe thead th {\n",
       "        text-align: right;\n",
       "    }\n",
       "</style>\n",
       "<table border=\"1\" class=\"dataframe\">\n",
       "  <thead>\n",
       "    <tr style=\"text-align: right;\">\n",
       "      <th></th>\n",
       "      <th>date</th>\n",
       "      <th>state</th>\n",
       "      <th>fips</th>\n",
       "      <th>cases</th>\n",
       "      <th>deaths</th>\n",
       "    </tr>\n",
       "  </thead>\n",
       "  <tbody>\n",
       "    <tr>\n",
       "      <th>0</th>\n",
       "      <td>2020-01-21</td>\n",
       "      <td>Washington</td>\n",
       "      <td>53</td>\n",
       "      <td>1</td>\n",
       "      <td>0</td>\n",
       "    </tr>\n",
       "    <tr>\n",
       "      <th>1</th>\n",
       "      <td>2020-01-22</td>\n",
       "      <td>Washington</td>\n",
       "      <td>53</td>\n",
       "      <td>1</td>\n",
       "      <td>0</td>\n",
       "    </tr>\n",
       "    <tr>\n",
       "      <th>2</th>\n",
       "      <td>2020-01-23</td>\n",
       "      <td>Washington</td>\n",
       "      <td>53</td>\n",
       "      <td>1</td>\n",
       "      <td>0</td>\n",
       "    </tr>\n",
       "    <tr>\n",
       "      <th>3</th>\n",
       "      <td>2020-01-24</td>\n",
       "      <td>Illinois</td>\n",
       "      <td>17</td>\n",
       "      <td>1</td>\n",
       "      <td>0</td>\n",
       "    </tr>\n",
       "    <tr>\n",
       "      <th>4</th>\n",
       "      <td>2020-01-24</td>\n",
       "      <td>Washington</td>\n",
       "      <td>53</td>\n",
       "      <td>1</td>\n",
       "      <td>0</td>\n",
       "    </tr>\n",
       "  </tbody>\n",
       "</table>\n",
       "</div>"
      ],
      "text/plain": [
       "         date       state  fips  cases  deaths\n",
       "0  2020-01-21  Washington    53      1       0\n",
       "1  2020-01-22  Washington    53      1       0\n",
       "2  2020-01-23  Washington    53      1       0\n",
       "3  2020-01-24    Illinois    17      1       0\n",
       "4  2020-01-24  Washington    53      1       0"
      ]
     },
     "execution_count": 5,
     "metadata": {},
     "output_type": "execute_result"
    }
   ],
   "source": [
    "data = 'https://raw.githubusercontent.com/nytimes/covid-19-data/master/us-states.csv'\n",
    "daily_coronadata = pd.read_csv(data, index_col=False)\n",
    "daily_coronadata.head()"
   ]
  },
  {
   "cell_type": "code",
   "execution_count": 92,
   "metadata": {},
   "outputs": [
    {
     "data": {
      "text/html": [
       "<div>\n",
       "<style scoped>\n",
       "    .dataframe tbody tr th:only-of-type {\n",
       "        vertical-align: middle;\n",
       "    }\n",
       "\n",
       "    .dataframe tbody tr th {\n",
       "        vertical-align: top;\n",
       "    }\n",
       "\n",
       "    .dataframe thead th {\n",
       "        text-align: right;\n",
       "    }\n",
       "</style>\n",
       "<table border=\"1\" class=\"dataframe\">\n",
       "  <thead>\n",
       "    <tr style=\"text-align: right;\">\n",
       "      <th></th>\n",
       "      <th>date</th>\n",
       "      <th>state</th>\n",
       "      <th>fips</th>\n",
       "      <th>cases</th>\n",
       "      <th>deaths</th>\n",
       "    </tr>\n",
       "  </thead>\n",
       "  <tbody>\n",
       "    <tr>\n",
       "      <th>1833</th>\n",
       "      <td>2020-04-05</td>\n",
       "      <td>California</td>\n",
       "      <td>6</td>\n",
       "      <td>15076</td>\n",
       "      <td>349</td>\n",
       "    </tr>\n",
       "    <tr>\n",
       "      <th>1888</th>\n",
       "      <td>2020-04-06</td>\n",
       "      <td>California</td>\n",
       "      <td>6</td>\n",
       "      <td>16284</td>\n",
       "      <td>386</td>\n",
       "    </tr>\n",
       "    <tr>\n",
       "      <th>1943</th>\n",
       "      <td>2020-04-07</td>\n",
       "      <td>California</td>\n",
       "      <td>6</td>\n",
       "      <td>17540</td>\n",
       "      <td>447</td>\n",
       "    </tr>\n",
       "    <tr>\n",
       "      <th>1998</th>\n",
       "      <td>2020-04-08</td>\n",
       "      <td>California</td>\n",
       "      <td>6</td>\n",
       "      <td>19043</td>\n",
       "      <td>506</td>\n",
       "    </tr>\n",
       "    <tr>\n",
       "      <th>2054</th>\n",
       "      <td>2020-04-09</td>\n",
       "      <td>California</td>\n",
       "      <td>6</td>\n",
       "      <td>20191</td>\n",
       "      <td>548</td>\n",
       "    </tr>\n",
       "  </tbody>\n",
       "</table>\n",
       "</div>"
      ],
      "text/plain": [
       "            date       state  fips  cases  deaths\n",
       "1833  2020-04-05  California     6  15076     349\n",
       "1888  2020-04-06  California     6  16284     386\n",
       "1943  2020-04-07  California     6  17540     447\n",
       "1998  2020-04-08  California     6  19043     506\n",
       "2054  2020-04-09  California     6  20191     548"
      ]
     },
     "execution_count": 92,
     "metadata": {},
     "output_type": "execute_result"
    }
   ],
   "source": [
    "#\n",
    "#  Display all the data for a state\n",
    "#\n",
    "state1 = 'California'\n",
    "state2 = 'Massachusetts'\n",
    "# California\n",
    "daily_coronadata[daily_coronadata['state']==state1].tail()"
   ]
  },
  {
   "cell_type": "code",
   "execution_count": 93,
   "metadata": {},
   "outputs": [
    {
     "data": {
      "text/html": [
       "<div>\n",
       "<style scoped>\n",
       "    .dataframe tbody tr th:only-of-type {\n",
       "        vertical-align: middle;\n",
       "    }\n",
       "\n",
       "    .dataframe tbody tr th {\n",
       "        vertical-align: top;\n",
       "    }\n",
       "\n",
       "    .dataframe thead th {\n",
       "        text-align: right;\n",
       "    }\n",
       "</style>\n",
       "<table border=\"1\" class=\"dataframe\">\n",
       "  <thead>\n",
       "    <tr style=\"text-align: right;\">\n",
       "      <th></th>\n",
       "      <th>date</th>\n",
       "      <th>state</th>\n",
       "      <th>fips</th>\n",
       "      <th>cases</th>\n",
       "      <th>deaths</th>\n",
       "    </tr>\n",
       "  </thead>\n",
       "  <tbody>\n",
       "    <tr>\n",
       "      <th>1851</th>\n",
       "      <td>2020-04-05</td>\n",
       "      <td>Massachusetts</td>\n",
       "      <td>25</td>\n",
       "      <td>12500</td>\n",
       "      <td>231</td>\n",
       "    </tr>\n",
       "    <tr>\n",
       "      <th>1906</th>\n",
       "      <td>2020-04-06</td>\n",
       "      <td>Massachusetts</td>\n",
       "      <td>25</td>\n",
       "      <td>13837</td>\n",
       "      <td>260</td>\n",
       "    </tr>\n",
       "    <tr>\n",
       "      <th>1961</th>\n",
       "      <td>2020-04-07</td>\n",
       "      <td>Massachusetts</td>\n",
       "      <td>25</td>\n",
       "      <td>15202</td>\n",
       "      <td>356</td>\n",
       "    </tr>\n",
       "    <tr>\n",
       "      <th>2016</th>\n",
       "      <td>2020-04-08</td>\n",
       "      <td>Massachusetts</td>\n",
       "      <td>25</td>\n",
       "      <td>16790</td>\n",
       "      <td>433</td>\n",
       "    </tr>\n",
       "    <tr>\n",
       "      <th>2072</th>\n",
       "      <td>2020-04-09</td>\n",
       "      <td>Massachusetts</td>\n",
       "      <td>25</td>\n",
       "      <td>18941</td>\n",
       "      <td>503</td>\n",
       "    </tr>\n",
       "  </tbody>\n",
       "</table>\n",
       "</div>"
      ],
      "text/plain": [
       "            date          state  fips  cases  deaths\n",
       "1851  2020-04-05  Massachusetts    25  12500     231\n",
       "1906  2020-04-06  Massachusetts    25  13837     260\n",
       "1961  2020-04-07  Massachusetts    25  15202     356\n",
       "2016  2020-04-08  Massachusetts    25  16790     433\n",
       "2072  2020-04-09  Massachusetts    25  18941     503"
      ]
     },
     "execution_count": 93,
     "metadata": {},
     "output_type": "execute_result"
    }
   ],
   "source": [
    "daily_coronadata[daily_coronadata['state']==state2].tail()"
   ]
  },
  {
   "cell_type": "code",
   "execution_count": 76,
   "metadata": {},
   "outputs": [
    {
     "name": "stdout",
     "output_type": "stream",
     "text": [
      "[    1     2     2     2     2     2     3     3     6     6     6     6\n",
      "     6     6     6     6     7     7     7     7     7     7     7     7\n",
      "     7     7     8     9     9     9    11    11    26    26    27    28\n",
      "    33    38    45    55    67    81   100   112   172   179   202   252\n",
      "   320   381   478   588   732   893  1067  1283  1544  1851  2240  2644\n",
      "  3183  4060  4914  5565  6266  7421  8582  9816 11190 12569 13796 15076\n",
      " 16284 17540 19043 20191]\n",
      "[   1    1    0    0    0    0    1    0    3    0    0    0    0    0\n",
      "    0    0    1    0    0    0    0    0    0    0    0    0    1    1\n",
      "    0    0    2    0   15    0    1    1    5    5    7   10   12   14\n",
      "   19   12   60    7   23   50   68   61   97  110  144  161  174  216\n",
      "  261  307  389  404  539  877  854  651  701 1155 1161 1234 1374 1379\n",
      " 1227 1280 1208 1256 1503 1148]\n",
      "[   1    1    5    5    7   10   12   14   19   12   60    7   23   50\n",
      "   68   61   97  110  144  161  174  216  261  307  389  404  539  877\n",
      "  854  651  701 1155 1161 1234 1374 1379 1227 1280 1208 1256 1503 1148]\n"
     ]
    }
   ],
   "source": [
    "cummulative_all_CA = daily_coronadata[daily_coronadata['state']==state1]['cases'].to_numpy()[::1]\n",
    "print(cummulative_all_CA)\n",
    "\n",
    "daily_all_CA = np.empty([len(cummulative_all_CA)], dtype=int)\n",
    "daily_all_CA[0] = cummulative_all_CA[0]\n",
    "for number in range(1, len(cummulative_all_CA), 1):\n",
    "    daily_all_CA[number] = int(cummulative_all_CA[number] - cummulative_all_CA[number - 1])\n",
    "print(daily_all_CA)\n",
    "\n",
    "daily_CA = daily_all_CA[34:]\n",
    "print(daily_CA)"
   ]
  },
  {
   "cell_type": "code",
   "execution_count": 78,
   "metadata": {},
   "outputs": [
    {
     "name": "stdout",
     "output_type": "stream",
     "text": [
      "[    1     1     1     1     1     1     1     1     1     1     1     1\n",
      "     1     1     1     1     1     1     1     1     1     1     1     1\n",
      "     1     1     1     1     1     1     2     2     2     3     8    13\n",
      "    28    41    92    95   108   123   138   164   197   218   256   328\n",
      "   413   525   646   777  1159  1838  2417  3240  4257  4955  5752  6620\n",
      "  7738  8966 10402 11736 12500 13837 15202 16790 18941]\n",
      "[   1    0    0    0    0    0    0    0    0    0    0    0    0    0\n",
      "    0    0    0    0    0    0    0    0    0    0    0    0    0    0\n",
      "    0    0    1    0    0    1    5    5   15   13   51    3   13   15\n",
      "   15   26   33   21   38   72   85  112  121  131  382  679  579  823\n",
      " 1017  698  797  868 1118 1228 1436 1334  764 1337 1365 1588 2151]\n",
      "[   1    5    5   15   13   51    3   13   15   15   26   33   21   38\n",
      "   72   85  112  121  131  382  679  579  823 1017  698  797  868 1118\n",
      " 1228 1436 1334  764 1337 1365 1588 2151]\n"
     ]
    }
   ],
   "source": [
    "cummulative_all_MA = daily_coronadata[daily_coronadata['state']==state2]['cases'].to_numpy()[::1]\n",
    "print(cummulative_all_MA)\n",
    "\n",
    "daily_all_MA = np.empty([len(cummulative_all_MA)], dtype=int)\n",
    "daily_all_MA[0] = cummulative_all_MA[0]\n",
    "for number in range(1, len(cummulative_all_MA), 1):\n",
    "    daily_all_MA[number] = int(cummulative_all_MA[number] - cummulative_all_MA[number - 1])\n",
    "print(daily_all_MA)\n",
    "\n",
    "daily_MA = daily_all_MA[33:]\n",
    "print(daily_MA)"
   ]
  },
  {
   "cell_type": "code",
   "execution_count": 79,
   "metadata": {},
   "outputs": [
    {
     "data": {
      "image/png": "[encoded data removed]",
      "text/plain": [
       "<Figure size 432x360 with 1 Axes>"
      ]
     },
     "metadata": {
      "needs_background": "light"
     },
     "output_type": "display_data"
    }
   ],
   "source": [
    "fig=plt.figure(figsize=(6,5))\n",
    "plt.plot(daily_CA,label='CA')\n",
    "plt.plot(daily_MA,label='MA')\n",
    "plt.xlabel('Day since $t_0$')\n",
    "plt.ylabel('Daily cases')\n",
    "plt.legend()\n",
    "plt.title('Daily number of cases in CA and MA since t0')\n",
    "fig.savefig('Daily_number_of_cases_in_CA_MA_since_t0.png',format='png')"
   ]
  },
  {
   "cell_type": "markdown",
   "metadata": {},
   "source": [
    "___________________________________________________________________________________________________________________________"
   ]
  },
  {
   "cell_type": "markdown",
   "metadata": {},
   "source": [
    "## Using sigmoid function to approximate SIR model"
   ]
  },
  {
   "cell_type": "code",
   "execution_count": 46,
   "metadata": {},
   "outputs": [],
   "source": [
    "# Fit to model\n",
    "def sigmoid(a,t0,t):\n",
    "    return 1.0/(1.0+np.exp(-a*(t-t0)))"
   ]
  },
  {
   "cell_type": "code",
   "execution_count": 47,
   "metadata": {},
   "outputs": [],
   "source": [
    "# Define here the model function for I(t) -difference of 2 sigmoids\n",
    "# return the predicted graph of Infected(t)\n",
    "def daily_fit(t,t1,dt,N2):\n",
    "    a1=0.25\n",
    "    a2=0.25\n",
    "    t01=t1\n",
    "    t02=t01+dt\n",
    "    return N2*(sigmoid(a1,t01,t)-sigmoid(a2,t02,t))"
   ]
  },
  {
   "cell_type": "markdown",
   "metadata": {},
   "source": [
    "## Application to CA"
   ]
  },
  {
   "cell_type": "code",
   "execution_count": 100,
   "metadata": {},
   "outputs": [
    {
     "name": "stdout",
     "output_type": "stream",
     "text": [
      "[  28.58624998   17.42233832 1672.55074283]\n",
      "[[ 4.39294956e-01 -1.41647732e+00  8.23262204e+01]\n",
      " [-1.41647732e+00  5.97529971e+00 -3.21999564e+02]\n",
      " [ 8.23262204e+01 -3.21999564e+02  1.87346988e+04]]\n",
      "[1.29930208e+00 1.66795929e+00 2.14107989e+00 2.74817576e+00\n",
      " 3.52703864e+00 4.52602574e+00 5.80695250e+00 7.44873754e+00\n",
      " 9.55197010e+00 1.22445908e+01 1.56888880e+01 2.00899998e+01\n",
      " 2.57060590e+01 3.28599922e+01 4.19527342e+01 5.34771909e+01\n",
      " 6.80315796e+01 8.63297163e+01 1.09204343e+02 1.37597730e+02\n",
      " 1.72531829e+02 2.15048909e+02 2.66114107e+02 3.26475647e+02\n",
      " 3.96488312e+02 4.75921687e+02 5.63793434e+02 6.58281302e+02\n",
      " 7.56764296e+02 8.56015580e+02 9.52521980e+02 1.04285737e+03\n",
      " 1.12401521e+03 1.19362223e+03 1.25000100e+03 1.29210026e+03\n",
      " 1.31934549e+03 1.33147151e+03 1.32838896e+03 1.31011885e+03\n",
      " 1.27680949e+03 1.22883244e+03]\n"
     ]
    },
    {
     "data": {
      "image/png": "[encoded data removed]",
      "text/plain": [
       "<Figure size 720x360 with 1 Axes>"
      ]
     },
     "metadata": {
      "needs_background": "light"
     },
     "output_type": "display_data"
    }
   ],
   "source": [
    "# CA daily data and parameters\n",
    "fdat = daily_CA\n",
    "xdat = np.arange(len(fdat))\n",
    "    \n",
    "popt, pcov = curve_fit(daily_fit, xdat, fdat)\n",
    "print(popt)\n",
    "print(pcov)\n",
    "t1=popt[0]\n",
    "dt=popt[1]\n",
    "N2=popt[2]\n",
    "\n",
    "ffit=daily_fit(xdat, t1, dt, N2)\n",
    "print(ffit)\n",
    "\n",
    "fig=plt.figure(figsize=(10,5))\n",
    "plt.plot(xdat,fdat,'ro')\n",
    "plt.plot(xdat,ffit,'g')\n",
    "plt.title('Daily cases in CA as of 4/09/2020')\n",
    "plt.ylabel('Daily cases')\n",
    "plt.xlabel('$t-t_0$ (days)')\n",
    "plt.show();\n",
    "#fig.savefig('Daily_CA.png',format='png')"
   ]
  },
  {
   "cell_type": "code",
   "execution_count": 101,
   "metadata": {},
   "outputs": [
    {
     "data": {
      "image/png": "[encoded data removed]",
      "text/plain": [
       "<Figure size 720x360 with 1 Axes>"
      ]
     },
     "metadata": {
      "needs_background": "light"
     },
     "output_type": "display_data"
    },
    {
     "name": "stdout",
     "output_type": "stream",
     "text": [
      "Total cases: 27648 cases, Days until peak: 9 days\n",
      "-----------------------------------------------------------------------------------------\n"
     ]
    }
   ],
   "source": [
    "# CA CUMULATIVE data and time-extension (PREDICTION)\n",
    "\n",
    "cumm_dat=np.zeros(len(fdat))\n",
    "cumm_dat[0]=fdat[0]\n",
    "for i in range (1,len(fdat)):\n",
    "    cumm_dat[i]=cumm_dat[i-1]+fdat[i]\n",
    "\n",
    "T_ext=10\n",
    "xdat_ext = np.arange(len(fdat)+T_ext)\n",
    "ffit_ext=daily_fit(xdat_ext, t1, dt, N2)\n",
    "cumm_fit=np.zeros(len(fdat)+T_ext)\n",
    "cumm_fit[0]=ffit[0]\n",
    "for i in range (1,len(fdat)+T_ext):\n",
    "    cumm_fit[i]=cumm_fit[i-1]+ffit_ext[i]\n",
    "\n",
    "fig=plt.figure(figsize=(10,5))\n",
    "plt.scatter(xdat,cumm_dat)\n",
    "plt.plot(xdat_ext,cumm_fit,'g')\n",
    "plt.title('Cummulative number of cases in CA as of 4/09/2020')\n",
    "plt.ylabel('Total cases')\n",
    "plt.xlabel('$t-t_0$ (days)')\n",
    "#plt.legend()\n",
    "plt.show();\n",
    "#fig.savefig('Total_CA.png',format='png')\n",
    "\n",
    "# Estimating\n",
    "Nt=cumm_fit[-1]\n",
    "Ncut=0.99*Nt\n",
    "for i in range (len(xdat_ext)):\n",
    "    if cumm_fit[i] > Ncut:\n",
    "        imax=i\n",
    "        break\n",
    "\n",
    "print(f'Total cases: {int(Nt)} cases, Days until peak: {imax-len(xdat)} days') \n",
    "print('-----------------------------------------------------------------------------------------')"
   ]
  },
  {
   "cell_type": "markdown",
   "metadata": {},
   "source": [
    "## Application to MA"
   ]
  },
  {
   "cell_type": "code",
   "execution_count": 102,
   "metadata": {},
   "outputs": [
    {
     "name": "stdout",
     "output_type": "stream",
     "text": [
      "[  24.18064049 4020.55152585 1660.83865162]\n",
      "[[inf inf inf]\n",
      " [inf inf inf]\n",
      " [inf inf inf]]\n",
      "[   3.92572617    5.03735035    6.46251872    8.28887762   10.62806417\n",
      "   13.6219461    17.45027402   22.33992793   28.57586337   36.51369785\n",
      "   46.59357065   59.35438622   75.44672705   95.64151106  120.82984233\n",
      "  152.00757941  190.23634273  236.57192026  291.95284189  357.04823497\n",
      "  432.07643076  516.62340496  609.50789668  708.74803976  811.6715931\n",
      "  915.17467296 1016.08338305 1111.53281066 1199.2707871  1277.82376765\n",
      " 1346.5119468  1405.34485682 1454.85051877 1495.8896249  1529.49066571\n",
      " 1556.72338497]\n"
     ]
    },
    {
     "name": "stderr",
     "output_type": "stream",
     "text": [
      "/Users/paul/anaconda3/lib/python3.7/site-packages/scipy/optimize/minpack.py:787: OptimizeWarning: Covariance of the parameters could not be estimated\n",
      "  category=OptimizeWarning)\n"
     ]
    },
    {
     "data": {
      "image/png": "[encoded data removed]",
      "text/plain": [
       "<Figure size 720x360 with 1 Axes>"
      ]
     },
     "metadata": {
      "needs_background": "light"
     },
     "output_type": "display_data"
    }
   ],
   "source": [
    "# MA daily data and parameters\n",
    "fdat = daily_MA\n",
    "xdat = np.arange(len(fdat))\n",
    "    \n",
    "popt, pcov = curve_fit(daily_fit, xdat, fdat)\n",
    "print(popt)\n",
    "print(pcov)\n",
    "t1=popt[0]\n",
    "dt=popt[1]\n",
    "N2=popt[2]\n",
    "\n",
    "ffit=daily_fit(xdat, t1, dt, N2)\n",
    "print(ffit)\n",
    "\n",
    "fig=plt.figure(figsize=(10,5))\n",
    "plt.plot(xdat,fdat,'ro')\n",
    "plt.plot(xdat,ffit,'g')\n",
    "plt.title('Daily cases in MA as of 4/09/2020')\n",
    "plt.ylabel('Daily cases')\n",
    "plt.xlabel('$t-t_0$ (days)')\n",
    "plt.show();\n",
    "#fig.savefig('Daily_MA.png',format='png')"
   ]
  },
  {
   "cell_type": "code",
   "execution_count": 103,
   "metadata": {},
   "outputs": [
    {
     "data": {
      "image/png": "[encoded data removed]",
      "text/plain": [
       "<Figure size 720x360 with 1 Axes>"
      ]
     },
     "metadata": {
      "needs_background": "light"
     },
     "output_type": "display_data"
    },
    {
     "name": "stdout",
     "output_type": "stream",
     "text": [
      "Total cases: 35426 cases, Days until peak: 9 days\n",
      "-----------------------------------------------------------------------------------------\n"
     ]
    }
   ],
   "source": [
    "# MA CUMULATIVE data and time-extension (PREDICTION)\n",
    "\n",
    "cumm_dat=np.zeros(len(fdat))\n",
    "cumm_dat[0]=fdat[0]\n",
    "for i in range (1,len(fdat)):\n",
    "    cumm_dat[i]=cumm_dat[i-1]+fdat[i]\n",
    "\n",
    "T_ext=10\n",
    "xdat_ext = np.arange(len(fdat)+T_ext)\n",
    "ffit_ext=daily_fit(xdat_ext, t1, dt, N2)\n",
    "cumm_fit=np.zeros(len(fdat)+T_ext)\n",
    "cumm_fit[0]=ffit[0]\n",
    "for i in range (1,len(fdat)+T_ext):\n",
    "    cumm_fit[i]=cumm_fit[i-1]+ffit_ext[i]\n",
    "\n",
    "fig=plt.figure(figsize=(10,5))\n",
    "plt.scatter(xdat,cumm_dat)\n",
    "plt.plot(xdat_ext,cumm_fit,'g')\n",
    "plt.title('Cummulative number of cases in MA as of 4/09/2020')\n",
    "plt.ylabel('Total cases')\n",
    "plt.xlabel('$t-t_0$ (days)')\n",
    "#plt.legend()\n",
    "plt.show();\n",
    "#fig.savefig('Total_MA.png',format='png')\n",
    "\n",
    "# Estimating\n",
    "Nt=cumm_fit[-1]\n",
    "Ncut=0.99*Nt\n",
    "for i in range (len(xdat_ext)):\n",
    "    if cumm_fit[i] > Ncut:\n",
    "        imax=i\n",
    "        break\n",
    "\n",
    "print(f'Total cases: {int(Nt)} cases, Days until peak: {imax-len(xdat)} days') \n",
    "print('-----------------------------------------------------------------------------------------')"
   ]
  },
  {
   "cell_type": "markdown",
   "metadata": {},
   "source": [
    "## See your own state!"
   ]
  },
  {
   "cell_type": "code",
   "execution_count": 111,
   "metadata": {},
   "outputs": [],
   "source": [
    "states = {\"Alaska\":\"AL\", \"Arkansas\":\"AK\", \"Arizona\":\"AZ\", \"Arkansas\":\"AR\", \"California\":\"CA\", \n",
    "          \"Colorado\":\"CO\", \"Connecticut\":\"CT\", \"Delaware\":\"DE\", \n",
    "          \"Florida\":\"FL\",\"Georgia\":\"GA\", \n",
    "          \"Hawaii\":\"HI\", \"Indiana\":\"ID\", \"Illinois\":\"IL\", \"Indiana\":\"IN\", \"Iowa\":\"IA\", \"Kansas\":\"KS\", \n",
    "          \"Kentucky\":\"KY\", \"Lousiana\":\"LA\", \"Maine\":\"ME\", \"Maryland\":\"MD\", \n",
    "          \"Massachusetts\":\"MA\", \"Maine\":\"MI\", \"Minnesota\":\"MN\", \"Missouri\":\"MS\", \"Missouri\":\"MO\",\n",
    "          \"Montana\":\"MT\", \"Nebraska\":\"NE\", \"Nevada\":\"NV\", \"New Hampshire\":\"NH\", \"New Jersey\":\"NJ\", \n",
    "          \"New Mexico\":\"NM\", \"New York\":\"NY\", \"North Carolina\":\"NC\", \"North Dakota\":\"ND\",\n",
    "          \"Ohio\":\"OH\", \"Oklahoma\":\"OK\", \"Oregon\":\"OR\", \"Pennsylvania\":\"PA\", \"Rhode Island\":\"RI\",\n",
    "          \"South Carolina\":\"SC\", \"South Dakota\":\"SD\", \"Tennessee\":\"TN\", \"Texas\":\"TX\", \n",
    "          \"Utah\":\"UT\", \"Vermost\":\"VT\", \"Virginia\":\"VA\", \"Washington\":\"WA\", \"West Virginia\":\"WV\",\n",
    "          \"Wisconsin\":\"WI\", \"Wyoming\":\"WY\"}"
   ]
  },
  {
   "cell_type": "code",
   "execution_count": 118,
   "metadata": {},
   "outputs": [
    {
     "name": "stdin",
     "output_type": "stream",
     "text": [
      "Input state's name:  New York\n"
     ]
    },
    {
     "name": "stdout",
     "output_type": "stream",
     "text": [
      "NY\n"
     ]
    },
    {
     "data": {
      "text/html": [
       "<div>\n",
       "<style scoped>\n",
       "    .dataframe tbody tr th:only-of-type {\n",
       "        vertical-align: middle;\n",
       "    }\n",
       "\n",
       "    .dataframe tbody tr th {\n",
       "        vertical-align: top;\n",
       "    }\n",
       "\n",
       "    .dataframe thead th {\n",
       "        text-align: right;\n",
       "    }\n",
       "</style>\n",
       "<table border=\"1\" class=\"dataframe\">\n",
       "  <thead>\n",
       "    <tr style=\"text-align: right;\">\n",
       "      <th></th>\n",
       "      <th>date</th>\n",
       "      <th>state</th>\n",
       "      <th>fips</th>\n",
       "      <th>cases</th>\n",
       "      <th>deaths</th>\n",
       "    </tr>\n",
       "  </thead>\n",
       "  <tbody>\n",
       "    <tr>\n",
       "      <th>1862</th>\n",
       "      <td>2020-04-05</td>\n",
       "      <td>New York</td>\n",
       "      <td>36</td>\n",
       "      <td>122911</td>\n",
       "      <td>4161</td>\n",
       "    </tr>\n",
       "    <tr>\n",
       "      <th>1917</th>\n",
       "      <td>2020-04-06</td>\n",
       "      <td>New York</td>\n",
       "      <td>36</td>\n",
       "      <td>130703</td>\n",
       "      <td>4758</td>\n",
       "    </tr>\n",
       "    <tr>\n",
       "      <th>1972</th>\n",
       "      <td>2020-04-07</td>\n",
       "      <td>New York</td>\n",
       "      <td>36</td>\n",
       "      <td>140081</td>\n",
       "      <td>5563</td>\n",
       "    </tr>\n",
       "    <tr>\n",
       "      <th>2027</th>\n",
       "      <td>2020-04-08</td>\n",
       "      <td>New York</td>\n",
       "      <td>36</td>\n",
       "      <td>149401</td>\n",
       "      <td>6268</td>\n",
       "    </tr>\n",
       "    <tr>\n",
       "      <th>2083</th>\n",
       "      <td>2020-04-09</td>\n",
       "      <td>New York</td>\n",
       "      <td>36</td>\n",
       "      <td>159937</td>\n",
       "      <td>7067</td>\n",
       "    </tr>\n",
       "  </tbody>\n",
       "</table>\n",
       "</div>"
      ],
      "text/plain": [
       "            date     state  fips   cases  deaths\n",
       "1862  2020-04-05  New York    36  122911    4161\n",
       "1917  2020-04-06  New York    36  130703    4758\n",
       "1972  2020-04-07  New York    36  140081    5563\n",
       "2027  2020-04-08  New York    36  149401    6268\n",
       "2083  2020-04-09  New York    36  159937    7067"
      ]
     },
     "execution_count": 118,
     "metadata": {},
     "output_type": "execute_result"
    }
   ],
   "source": [
    "# Data trimming\n",
    "#\n",
    "#  Display all the data for a state\n",
    "#\n",
    "state_of_interest = input(\"Input state's name: \")\n",
    "code_state_of_interest = states[state_of_interest]\n",
    "print(code_state_of_interest)\n",
    "daily_coronadata[daily_coronadata['state']==state_of_interest].tail()"
   ]
  },
  {
   "cell_type": "code",
   "execution_count": 123,
   "metadata": {},
   "outputs": [
    {
     "name": "stdout",
     "output_type": "stream",
     "text": [
      "[    1     0     1     9    11    22    45    17    36    31    44   109\n",
      "    95   189   122   218   424  1008  1770  2950  3254  4812  5707  4790\n",
      "  7401  5921  5648  8728  6205  7606  8658  8057  8881 10100 12126  7915\n",
      "  7792  9378  9320 10536]\n"
     ]
    }
   ],
   "source": [
    "cummulative_all_SOI = daily_coronadata[daily_coronadata['state']==state_of_interest]['cases'].to_numpy()[::1]\n",
    "\n",
    "daily_all_SOI = np.empty([len(cummulative_all_SOI)], dtype=int)\n",
    "daily_all_SOI[0] = cummulative_all_SOI[0]\n",
    "for number in range(1, len(cummulative_all_SOI), 1):\n",
    "    daily_all_SOI[number] = int(cummulative_all_SOI[number] - cummulative_all_SOI[number - 1])\n",
    "\n",
    "print('Nu')\n",
    "print(daily_all_SOI)"
   ]
  },
  {
   "cell_type": "code",
   "execution_count": 121,
   "metadata": {},
   "outputs": [
    {
     "name": "stdin",
     "output_type": "stream",
     "text": [
      "Choose the start date of outbreak since t0: 0\n"
     ]
    },
    {
     "name": "stdout",
     "output_type": "stream",
     "text": [
      "[    1     0     1     9    11    22    45    17    36    31    44   109\n",
      "    95   189   122   218   424  1008  1770  2950  3254  4812  5707  4790\n",
      "  7401  5921  5648  8728  6205  7606  8658  8057  8881 10100 12126  7915\n",
      "  7792  9378  9320 10536]\n"
     ]
    }
   ],
   "source": [
    "# Choose the start date of the outbreak\n",
    "start_of_outbreak = int(input(\"Choose the start date of outbreak since t0:\"))\n",
    "daily_SOI = daily_all_SOI[start_of_outbreak:]\n",
    "print(daily_SOI)"
   ]
  },
  {
   "cell_type": "code",
   "execution_count": 122,
   "metadata": {},
   "outputs": [
    {
     "name": "stderr",
     "output_type": "stream",
     "text": [
      "/Users/paul/anaconda3/lib/python3.7/site-packages/scipy/optimize/minpack.py:787: OptimizeWarning: Covariance of the parameters could not be estimated\n",
      "  category=OptimizeWarning)\n"
     ]
    },
    {
     "data": {
      "image/png": "[encoded data removed]",
      "text/plain": [
       "<Figure size 720x360 with 1 Axes>"
      ]
     },
     "metadata": {
      "needs_background": "light"
     },
     "output_type": "display_data"
    },
    {
     "data": {
      "image/png": "[encoded data removed]",
      "text/plain": [
       "<Figure size 720x360 with 1 Axes>"
      ]
     },
     "metadata": {
      "needs_background": "light"
     },
     "output_type": "display_data"
    },
    {
     "name": "stdout",
     "output_type": "stream",
     "text": [
      "Total cases: 262655 cases, Days until peak: 9 days\n",
      "-----------------------------------------------------------------------------------------\n"
     ]
    }
   ],
   "source": [
    "# SOI daily data and parameters\n",
    "fdat = daily_SOI\n",
    "xdat = np.arange(len(fdat))\n",
    "    \n",
    "popt, pcov = curve_fit(daily_fit, xdat, fdat)\n",
    "\n",
    "t1=popt[0]\n",
    "dt=popt[1]\n",
    "N2=popt[2]\n",
    "\n",
    "ffit=daily_fit(xdat, t1, dt, N2)\n",
    "\n",
    "\n",
    "fig=plt.figure(figsize=(10,5))\n",
    "plt.plot(xdat,fdat,'ro')\n",
    "plt.plot(xdat,ffit,'g')\n",
    "plt.title(f'Daily cases in {code_state_of_interest} as of 4/09/2020')\n",
    "plt.ylabel('Daily cases')\n",
    "plt.xlabel('$t-t_0$ (days)')\n",
    "plt.show();\n",
    "#fig.savefig(f'Daily_{code_state_of_interest}.png',format='png')\n",
    "\n",
    "\n",
    "# SOI CUMULATIVE data and time-extension (PREDICTION)\n",
    "\n",
    "cumm_dat=np.zeros(len(fdat))\n",
    "cumm_dat[0]=fdat[0]\n",
    "for i in range (1,len(fdat)):\n",
    "    cumm_dat[i]=cumm_dat[i-1]+fdat[i]\n",
    "\n",
    "T_ext=10\n",
    "xdat_ext = np.arange(len(fdat)+T_ext)\n",
    "ffit_ext=daily_fit(xdat_ext, t1, dt, N2)\n",
    "cumm_fit=np.zeros(len(fdat)+T_ext)\n",
    "cumm_fit[0]=ffit[0]\n",
    "for i in range (1,len(fdat)+T_ext):\n",
    "    cumm_fit[i]=cumm_fit[i-1]+ffit_ext[i]\n",
    "\n",
    "fig=plt.figure(figsize=(10,5))\n",
    "plt.scatter(xdat,cumm_dat)\n",
    "plt.plot(xdat_ext,cumm_fit,'g')\n",
    "plt.title(f'Cummulative number of cases in {code_state_of_interest} as of 4/09/2020')\n",
    "plt.ylabel('Total cases')\n",
    "plt.xlabel('$t-t_0$ (days)')\n",
    "#plt.legend()\n",
    "plt.show();\n",
    "#fig.savefig(f'Total_{code_state_of_interest}.png',format='png')\n",
    "\n",
    "# Estimating\n",
    "Nt=cumm_fit[-1]\n",
    "Ncut=0.99*Nt\n",
    "for i in range (len(xdat_ext)):\n",
    "    if cumm_fit[i] > Ncut:\n",
    "        imax=i\n",
    "        break\n",
    "\n",
    "print(f'Total cases: {int(Nt)} cases, Days until peak: {imax-len(xdat)} days') \n",
    "print('-----------------------------------------------------------------------------------------')"
   ]
  },
  {
   "cell_type": "code",
   "execution_count": null,
   "metadata": {},
   "outputs": [],
   "source": []
  }
 ],
 "metadata": {
  "kernelspec": {
   "display_name": "Python 3",
   "language": "python",
   "name": "python3"
  },
  "language_info": {
   "codemirror_mode": {
    "name": "ipython",
    "version": 3
   },
   "file_extension": ".py",
   "mimetype": "text/x-python",
   "name": "python",
   "nbconvert_exporter": "python",
   "pygments_lexer": "ipython3",
   "version": "3.7.3"
  }
 },
 "nbformat": 4,
 "nbformat_minor": 2
}
