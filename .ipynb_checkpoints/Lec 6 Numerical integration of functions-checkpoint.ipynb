{
 "cells": [
  {
   "cell_type": "markdown",
   "metadata": {},
   "source": [
    "# Lec6: Numerical Integration of functions"
   ]
  },
  {
   "cell_type": "code",
   "execution_count": 3,
   "metadata": {},
   "outputs": [],
   "source": [
    "import numpy as np\n",
    "import matplotlib.pyplot as plt\n",
    "import time\n",
    "import scipy.integrate as spi\n",
    "pi = np.pi"
   ]
  },
  {
   "cell_type": "code",
   "execution_count": 2,
   "metadata": {},
   "outputs": [],
   "source": [
    "# Define function\n",
    "def fofx(x):\n",
    "    if x == 1:\n",
    "        return 0.\n",
    "    else:\n",
    "        return np.cos(4. * np.pi * x) / np.sqrt(1. - x)"
   ]
  },
  {
   "cell_type": "code",
   "execution_count": 7,
   "metadata": {},
   "outputs": [
    {
     "data": {
      "image/png": "[encoded data removed]",
      "text/plain": [
       "<Figure size 432x288 with 1 Axes>"
      ]
     },
     "metadata": {
      "needs_background": "light"
     },
     "output_type": "display_data"
    }
   ],
   "source": [
    "xmin = -pi / 4.\n",
    "xmax = pi / 4.\n",
    "Nx = 64\n",
    "x = np.linspace(xmin, xmax, Nx + 1)\n",
    "f = np.zeros(Nx + 1)\n",
    "\n",
    "for n in range(Nx + 1):\n",
    "    f[n] = fofx(x[n])\n",
    "\n",
    "\n",
    "# Plot\n",
    "plt.plot(x, f, 'bo')\n",
    "# Plot zero horizontal line\n",
    "xp = np.zeros(2)\n",
    "yp = np.zeros(2)\n",
    "xp[0] = x[0]\n",
    "yp[0] = 0.\n",
    "xp[1] = x[Nx]\n",
    "yp[1] = 0.\n",
    "plt.plot(xp,yp,'k--')\n",
    "plt.show()"
   ]
  },
  {
   "cell_type": "markdown",
   "metadata": {},
   "source": [
    "## Rectangular Approximation of Integral"
   ]
  },
  {
   "cell_type": "code",
   "execution_count": 10,
   "metadata": {},
   "outputs": [
    {
     "name": "stdout",
     "output_type": "stream",
     "text": [
      "     256    -0.111939     0.003942           1.4460e-03\n"
     ]
    }
   ],
   "source": [
    "# Exact value of this integral\n",
    "Iexact = -.115881\n",
    "# Calculate integral by rectangular approximation for Nx = 16\n",
    "\n",
    "Nx = 256\n",
    "xmin = -pi/4.\n",
    "xmax = pi/4.\n",
    "Dx = (xmax-xmin) / Nx\n",
    "x = np.linspace(xmin, xmax, Nx + 1)\n",
    "\n",
    "fint = np.zeros(Nx + 1) # Nx is the number of deltax so (Nx + 1) is the number of points\n",
    "\n",
    "start = time.time()\n",
    "\n",
    "for n in range(Nx):\n",
    "    fint[n] = fofx(x[n])\n",
    "\n",
    "end = time.time()\n",
    "\n",
    "Tims = end - start\n",
    "\n",
    "Ints = Dx * np.sum(fint) # Integral = sum of many (dx * fint)\n",
    "\n",
    "Difs = Ints - Iexact # see how close our approx is to exact value\n",
    "\n",
    "print('%8i' %Nx, '%12.6f' %Ints, '%12.6f' %Difs, '%20.4e' %Tims)"
   ]
  },
  {
   "cell_type": "code",
   "execution_count": 12,
   "metadata": {},
   "outputs": [
    {
     "name": "stdout",
     "output_type": "stream",
     "text": [
      "      16    -0.044227     0.071654           1.3208e-04\n",
      "      64    -0.099688     0.016193           3.6621e-04\n",
      "     256    -0.111939     0.003942           1.0812e-03\n",
      "    1024    -0.114902     0.000979           3.1931e-03\n",
      "    4096    -0.115636     0.000245           1.6699e-02\n",
      "   16384    -0.115820     0.000061           5.1327e-02\n",
      "   65536    -0.115865     0.000016           1.9505e-01\n",
      "  262144    -0.115877     0.000004           7.5329e-01\n",
      " 1048576    -0.115880     0.000001           2.9204e+00\n"
     ]
    }
   ],
   "source": [
    "# Calculate integral by rectangular approximation for Nx = 4**i where i = 2, 3, .., 10\n",
    "xmin = -pi/4.\n",
    "xmax = pi/4.\n",
    "# Define Nx and calcualte Dx & define x-array\n",
    "Ms = 9 \n",
    "for m in range(Ms): #\n",
    "    Nx = 4 ** (m+2)\n",
    "    Dx = (xmax - xmin) / Nx\n",
    "    x = np.linspace(xmin, xmax, Nx + 1)\n",
    "\n",
    "    fint = np.zeros(Nx + 1) # Nx is the number of deltax so (Nx + 1) is the number of points\n",
    "\n",
    "    start = time.time()\n",
    "\n",
    "    for n in range(Nx):\n",
    "        fint[n] = fofx(x[n])\n",
    "\n",
    "    end = time.time()\n",
    "\n",
    "    Tims = end - start\n",
    "\n",
    "    Ints = Dx * np.sum(fint) # Integral = sum of many (dx * fint)\n",
    "\n",
    "    Difs = Ints - Iexact # see how close our approx is to exact value\n",
    "\n",
    "    print('%8i' %Nx, '%12.6f' %Ints, '%12.6f' %Difs, '%20.4e' %Tims)"
   ]
  },
  {
   "cell_type": "markdown",
   "metadata": {},
   "source": [
    "## Trapezoidal Approximation of Integral"
   ]
  },
  {
   "cell_type": "code",
   "execution_count": 13,
   "metadata": {},
   "outputs": [
    {
     "name": "stdout",
     "output_type": "stream",
     "text": [
      "      16    -0.011065     0.104816           6.8903e-05\n",
      "      64    -0.091397     0.024484           1.9026e-04\n",
      "     256    -0.109867     0.006014           7.7987e-04\n",
      "    1024    -0.114384     0.001497           3.6678e-03\n",
      "    4096    -0.115507     0.000374           1.4549e-02\n",
      "   16384    -0.115787     0.000094           5.6231e-02\n",
      "   65536    -0.115857     0.000024           1.9619e-01\n",
      "  262144    -0.115875     0.000006           7.5740e-01\n",
      " 1048576    -0.115879     0.000002           2.8342e+00\n"
     ]
    }
   ],
   "source": [
    "# Calculate integral by trapezoidal approximation for Nx = 4**i where i = 2, 3, .., 10\n",
    "xmin = -pi/4.\n",
    "xmax = pi/4.\n",
    "# Define Nx and calcualte Dx & define x-array\n",
    "Ms = 9 \n",
    "for m in range(Ms): #\n",
    "    Nx = 4 ** (m+2)\n",
    "    Dx = (xmax - xmin) / Nx\n",
    "    x = np.linspace(xmin, xmax, Nx + 1)\n",
    "\n",
    "    fint = np.zeros(Nx + 1) # Nx is the number of deltax so (Nx + 1) is the number of points\n",
    "\n",
    "    start = time.time()\n",
    "\n",
    "    for n in range(Nx):\n",
    "        fint[n] = fofx(x[n])\n",
    "\n",
    "    end = time.time()\n",
    "\n",
    "    Tims = end - start\n",
    "\n",
    "    Ints = (Dx * np.sum(fint)) - (.5 * Dx * fint[0]) - (.5 * Dx * fint[Nx]) # Look at trapezoidal formula!!\n",
    "\n",
    "    Difs = Ints - Iexact # see how close our approx is to exact value\n",
    "\n",
    "    print('%8i' %Nx, '%12.6f' %Ints, '%12.6f' %Difs, '%20.4e' %Tims)"
   ]
  },
  {
   "cell_type": "code",
   "execution_count": null,
   "metadata": {},
   "outputs": [],
   "source": []
  }
 ],
 "metadata": {
  "kernelspec": {
   "display_name": "Python 3",
   "language": "python",
   "name": "python3"
  },
  "language_info": {
   "codemirror_mode": {
    "name": "ipython",
    "version": 3
   },
   "file_extension": ".py",
   "mimetype": "text/x-python",
   "name": "python",
   "nbconvert_exporter": "python",
   "pygments_lexer": "ipython3",
   "version": "3.7.3"
  }
 },
 "nbformat": 4,
 "nbformat_minor": 2
}
