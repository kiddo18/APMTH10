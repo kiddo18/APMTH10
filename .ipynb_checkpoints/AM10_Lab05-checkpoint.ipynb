{
 "cells": [
  {
   "cell_type": "code",
   "execution_count": null,
   "metadata": {},
   "outputs": [],
   "source": [
    "import numpy as np\n",
    "import matplotlib.pyplot as plt\n",
    "%matplotlib notebook"
   ]
  },
  {
   "cell_type": "markdown",
   "metadata": {},
   "source": [
    "# Applied Math 10: Computing for Science and Engineering\n",
    "\n",
    "## Lab 5 : Elementary - Random Numbers\n",
    "\n",
    "**Fall 2019**<br/>\n",
    "**Instructor**: Nishant Sule<br/>\n",
    "**Material**: Nishant Sule\n",
    "\n",
    "---"
   ]
  },
  {
   "cell_type": "markdown",
   "metadata": {},
   "source": [
    "### Structure of the labs\n",
    "The labs for this class are designed to quide you through experimenting with code on your own. The labs have examples and exercises that we will go through during the lab time and a few problems at the end that you have to work on, on your own.  \n",
    "\n",
    "### Learning Goals of Lab \n",
    "\n",
    "By the end of this lab, you will feel familiar with:\n",
    "- How to generate psuedo random number sequences with a uniform distribution\n",
    "- Some simple tests for randomness\n",
    "- How to transform uniformly distributed random numbers to other distributions\n",
    "- Some common applications of random numbers"
   ]
  },
  {
   "cell_type": "markdown",
   "metadata": {},
   "source": [
    "### 1 Generating Random Numbers"
   ]
  },
  {
   "cell_type": "markdown",
   "metadata": {},
   "source": [
    "#### 1.1 Linear Congruential Generators\n",
    "In this section we will revisit the modulo algorithm for generating random numbers from the lecture. The modulo algorithm is also known as Linear Congruential Generator (LCG) and is one of the most widely known methods of generating random numnber sequences. However, as you have seen from the lecture, the sequence of random numbers you can generate using LCG is not truely random. We call such sequences pseudorandom numbers (PRN). As you have heard from the lecture, the sequence of random numbers generated using this method starts repeating. In the examples and problems below you will explore how PRN sequences have a periodicity and how choosing the right constants for the LCG algorithm is key to generating longer periods. "
   ]
  },
  {
   "cell_type": "markdown",
   "metadata": {},
   "source": [
    "Let's begin by creating a function implementing the modulo algorithm (or LCG). The LCG update equation for generating a sequence of PRN is shown below.\n",
    "$r_{n+1} = (Ar_{n} + B) \\,\\mathrm{mod}\\, M$.\n",
    "Here, $r$ is the sequence of PRNs, $M$ is known as the'modulus' and is a positive integer, $A$ is known as the 'multiplier' and is a positive, non-zero integer smaller than $M$, $B$ is called the 'increment', and is an integer smaller than $M$. The first number of the sequence is also known as the 'seed', which is also an integer smaller than $M$."
   ]
  },
  {
   "cell_type": "code",
   "execution_count": null,
   "metadata": {},
   "outputs": [],
   "source": [
    "def linear_congruential_generator(X0, M, A, B):\n",
    "    # This function requires the following input arguments: \n",
    "    # X0 = seed\n",
    "    # M = modulus\n",
    "    # A = multiplier\n",
    "    # B = increment\n",
    "    # and returns a uniformly distributed PRN between 0 and 1\n",
    "    r = np.mod((A * X0 + B), M)\n",
    "    return r / M"
   ]
  },
  {
   "cell_type": "markdown",
   "metadata": {},
   "source": [
    "### Exercise 1.1\n",
    "Write code below to generate two different PRN sequences using the constants provided below. Plot the resulting sequences. Find which sequence has the shorter period? "
   ]
  },
  {
   "cell_type": "code",
   "execution_count": null,
   "metadata": {},
   "outputs": [],
   "source": [
    "length_of_sequence = 50\n",
    "\n",
    "# Use constants below\n",
    "seed1 = 5\n",
    "multiplier1 = 5\n",
    "increment1 = 1\n",
    "modulus1 = 16\n",
    "rand_seq1 = np.zeros(length_of_sequence)\n",
    "\n",
    "seed2 = 5\n",
    "multiplier2 = 5\n",
    "increment2 = 2\n",
    "modulus2 = 16\n",
    "rand_seq2 = np.zeros(length_of_sequence)\n",
    "\n",
    "# Write for loop to genenrate sequence of required length\n",
    "\n",
    "\n",
    "# Write plotting code here\n",
    "fig_ex11, ax_ex11 = plt.subplots(figsize=(12, 4))\n",
    "ax_ex11.plot(rand_seq1, color='xkcd:blue', marker='o', linestyle='-')\n",
    "ax_ex11.plot(rand_seq2, color='xkcd:orange', marker='s', linestyle='-')\n",
    "ax_ex11.set_xlabel('index')\n",
    "ax_ex11.set_ylabel('PRN')\n",
    "plt.show()"
   ]
  },
  {
   "cell_type": "markdown",
   "metadata": {},
   "source": [
    "It turns out that the maximum period that can be generated using the above LCG method is $M$. For generating a period of length $M$ irrespective of the seed value, the following conditions have to be met:\n",
    "1. $M$ and $B$ have to be relatively prime, i.e., the only positive integer that divides them both is 1.\n",
    "2. $A-1$ is divisible by all prime factors of M.\n",
    "3. $A-1$ is divisible by 4 if M is divisible by 4.\n",
    "\n",
    "### Exercise 1.2\n",
    "Using the rules above find another set of constants $(A, B)$ for which the PRNs generated by LCG has the maximum possible period. Use a 'modulus' (M) value of 18. Generate a set of PRNs and plot them. What issue does the sequence have?"
   ]
  },
  {
   "cell_type": "code",
   "execution_count": null,
   "metadata": {},
   "outputs": [],
   "source": [
    "length_of_sequence = 50\n",
    "# Use constants below\n",
    "seed3 =   # X0\n",
    "modulus3 = 18  # M\n",
    "multiplier3 =   # A\n",
    "increment3 =   # B\n",
    "rand_seq3 = np.zeros(length_of_sequence)\n",
    "\n",
    "# Write for loop here\n",
    "\n",
    "# Write plotting code here\n"
   ]
  },
  {
   "cell_type": "markdown",
   "metadata": {},
   "source": [
    "Since the longest period possible for PRNs generated using LCG is $M$, a very large number is chosen. Typically, $M > 2^{31}$. The multiplier $(A)$ and and the increment $(B)$ are then carefully chosen to minimize correlations. If $A$ and $B$ are optimally chozen then the value of the seed is irrelevant. Some examples of values for $M$, $A$, and $B$ can be found [here](https://en.wikipedia.org/wiki/Linear_congruential_generator#Parameters_in_common_use). One fairly straightforward way to increase the period of the PRNs generated using LCG is to use multiple previous $r$ values as shown below.\n",
    "$r_n = (A_1r_{n-1} + A_2r_{n-2} + \\cdots + A_kr_{n-k})\\,\\mathrm{mod}\\, M$, where $k>1$.\n",
    "\n",
    "### Exercise 1.3\n",
    "Complete the code below to create a function implementing the multiple recrusive LCG method. Use $k=3$, make $A$ and the seed $(X0)$ be arrays of length $k$ and calculate their dot product. Generate two sequences of PRNs using the `multiple_recursive_LCG` and the `linear_congruential_generator` functions using the following constants, $A1=5$, $A2=7$, $A3=9$. For the seeds, use $X0_1 = 5$, $X0_2 = 1$, and $X0_3 = 7$. For both sequences use an increment ($B$) of 1. Plot the resulting PRN sequence. Which sequence has a longer period? What is it?"
   ]
  },
  {
   "cell_type": "code",
   "execution_count": null,
   "metadata": {},
   "outputs": [],
   "source": [
    "def multiple_recursive_LCG(X0, M, A, B):\n",
    "    # This function requires the following input arguments: \n",
    "    # X0 = seed\n",
    "    # M = modulus\n",
    "    # A = multiplier\n",
    "    # B = increment\n",
    "    # and returns a uniformly distributed PRN between 0 and 1"
   ]
  },
  {
   "cell_type": "code",
   "execution_count": null,
   "metadata": {},
   "outputs": [],
   "source": [
    "length_of_sequence = 50\n",
    "# Define constants here\n",
    "M = 16\n",
    "\n",
    "# Write the for loop here\n",
    "\n",
    "\n",
    "# Write the plotting code here\n"
   ]
  },
  {
   "cell_type": "markdown",
   "metadata": {},
   "source": [
    "#### 1.2 Tests for Randomness\n",
    "As you might have noticed from the above problem that generating good PRN sequences is not straight forward. Say, we have a sequence of numbers that seems random. How do we tell whether it is or isn't truely random? Turns out, this is not an easy question to answer. However, there are certain tests for randomness that can be used to compare random sequences. In this section, we will go thorough some of these tests for randomness and compare the psuedorandom sequences that we generate. It is useful to note that, even though psedorandom number seuqences are not truely random, they can pass many of the tests for randomness and are hence useful depending on the sequence and the application they are used for. "
   ]
  },
  {
   "cell_type": "markdown",
   "metadata": {},
   "source": [
    "**Mean value test:** One of the simplest test one can do for a uniform random distribution is to calculate its mean and quantify how diferent it is from the theoretical mean of a truely uniform random distribution. For quantifying the difference between two numerical values one could use many different statistical tests, such as the chi-squared test. Here we will not perform any of the statistical test, but simply compare the means of two PRN sequences. The theoretical mean of a continuous uniform distribution of truely random numbers in the range (0,1) is 0.5. \n",
    "\n",
    "**Frequency test:** This is another simple test where you generate a histogram of the PRN sequence using 10 bins. For an ideal uniform random number sequence, all the bins would have the same count. The flatter the histogram the better the PRN sequence.\n",
    "\n",
    "**Spectral test:** As you saw in the lecture, plotting a PRN sequence on a 2D plane revealed a structure (or lattice) in the sequence implying that there were unwanted correlations in the sequence. The spectral test essentially, compares the distance between these lattice planes. The larger the distance the worse the sequence. An ideal random number sequence would have so such lattice planes, i.e., implying the distance to be zero.\n",
    "\n",
    "### Exercise 1.4\n",
    "Complete the code below to generate five PRN sequences with two sets of constants, using the `linear_congurential_generator` function from above. For the first sequence use the following constants, $M = 2^{31}$, $A = 65539$, and $B = 0$. For the second sequence choose an arbitrary $M$, say $M=12562$, and any arbitrary $A$, and $B<M$. Use the same seed values for PRNs of both sets of constants however, for generating the five sequences for each set, use different seed values. Calculate the mean value (include full sequences for the five different seed values) for the two sets of PRN sequences. Also, calculate the difference between the mean value for each set with the theoretical value. What do you conclude?"
   ]
  },
  {
   "cell_type": "code",
   "execution_count": null,
   "metadata": {},
   "outputs": [],
   "source": [
    "# Define constants\n",
    "length_of_sequence = 50000\n",
    "\n",
    "X01 = [5, 104, 41, 567, 1]\n",
    "M1 = 2**31\n",
    "A1 = 65539\n",
    "B1 = 0\n",
    "rs1 = np.zeros(length_of_sequence)\n",
    "\n",
    "X02 = [5, 104, 41, 567, 1]\n",
    "M2 = 12562\n",
    "A2 = 166\n",
    "B2 = 10\n",
    "rs2 = np.zeros(length_of_sequence)\n",
    "\n",
    "# Write for loop to generate sequence and calculate mean\n",
    "\n",
    "\n",
    "# Print out the means and error from theoretical mean\n"
   ]
  },
  {
   "cell_type": "markdown",
   "metadata": {},
   "source": [
    "### Exercise  1.5\n",
    "Now, for the last generated PRNs with the two sets of constants, perform the frequency test. Complete the code below to plot the histograms using 10 bins for each of the two sets. What is your conclusion from this test?"
   ]
  },
  {
   "cell_type": "code",
   "execution_count": null,
   "metadata": {},
   "outputs": [],
   "source": [
    "# Write plotting code \n"
   ]
  },
  {
   "cell_type": "markdown",
   "metadata": {},
   "source": [
    "### Exercise 1.6 \n",
    "Next, perfom the spectral test in three dimensions. Meaning, generate a 3D plot for each set of PRNs, where each point represents three consecutive values from the PRN. What do you observe? What are your conclusions? (You don't have to calculate the distance between the planes)"
   ]
  },
  {
   "cell_type": "code",
   "execution_count": null,
   "metadata": {
    "scrolled": false
   },
   "outputs": [],
   "source": [
    "from mpl_toolkits.mplot3d import Axes3D\n",
    "# Write plotting code\n"
   ]
  },
  {
   "cell_type": "markdown",
   "metadata": {},
   "source": [
    "**Note:** The first set of constants that you used, i.e., $M = 2^{31}$, $A = 65539$, and $B = 0$, are from an infamous random number generator RANDU from IBM. It was widely used on computers in the 1960s until its drawbacks were discovered. This exercise mainly shows that even though some PRNs might pass a bunch of tests for randomness, it could still spectacularly fail others. In practice, for use in python, always use the random number from the package numpy as it is extensively tested."
   ]
  },
  {
   "cell_type": "markdown",
   "metadata": {},
   "source": [
    "#### 1.3 Random Numbers with Different Distributions\n",
    "As you have heard from lecture, we can scale and shift psuedorandom numbers in the range $[0, 1)$ to cover any other range uniformly. Here, we will look at how we can transform a uniform distribution of random numbers into other types of distributions. For many applications one requires random numbers with a particular distribution. For example, in order to simulate Brownian motion, i.e., the random motions of micoscopic particles in viscous fluids, one requires normally distributed random numbers. \n",
    "\n",
    "Say, we have a uniform distribution of random numbers in the range $[0,1)$. Mathematically, we can write the probability density function (PDF) as follows:\n",
    "\\begin{equation}\n",
    "f(u)du=\\left\\{\\begin{array}{ll}{du} & { : 0 \\leq u \\lt 1} \\\\ {0} & { : \\mathrm{otherwise}} \\end{array}\\right.\n",
    "\\end{equation}\n",
    "Using the identity of transformation of probablilities it can be shown that given any continnuous PDF $f(x)dx$, the following is true.\n",
    "\\begin{equation}\n",
    "u=\\frac{\\int_{a}^{x_{r}} f(x) d x} { \\int_{a}^{b} f(x) d x},\n",
    "\\end{equation}\n",
    "where $u$ is a uniform random variable sampled from the range $[0,1)$. Thus, to transform $u$ to any other random number $(x_r)$ that is sampled from the distribution $f(x)$, one simply has to invert the above equation and solve for $x_r$. As an example, say $f(x)$ is also a uniform distribution in the range $[a, b)$, then by solving for $x_r$, we obtain the formula to scale and shift random number $u$ from range $[0,1)$ to the range $[a, b)$, which is,\n",
    "\\begin{equation}\n",
    "x_r = a + u(b-a)\n",
    "\\end{equation}"
   ]
  },
  {
   "cell_type": "markdown",
   "metadata": {},
   "source": [
    "### Exercise 1.7 \n",
    "Using the above expression scale a sequence of 10000 PRNs generated using the function `np.random.random` to the range $[10, 20)$. Plot the resulting numbers on the 2D plane, i.e., each point represents two consequtive values from the PRN sequence."
   ]
  },
  {
   "cell_type": "code",
   "execution_count": null,
   "metadata": {
    "scrolled": false
   },
   "outputs": [],
   "source": [
    "u_ran = np.random.random(10000)\n",
    "u_ran_scaled = 10 + u_ran * (20 - 10)\n",
    "\n",
    "fig_ex17, ax_ex17 = plt.subplots(figsize=(5,5))\n",
    "ax_ex17.scatter(u_ran_scaled[0:-1], u_ran_scaled[1:], marker='.')\n",
    "plt.show()"
   ]
  },
  {
   "cell_type": "markdown",
   "metadata": {},
   "source": [
    "#### 1.3.1 Exponential distribution\n",
    "Random numbers with an exponential distribution, as the name would suggest have a PDF as shown below.\n",
    "\\begin{equation}\n",
    "f(x)dx=\\left\\{\\begin{array}{ll}{\\lambda\\exp{-\\lambda x}} & { : x \\geq 0} \\\\ {0} & { : \\mathrm{otherwise}} \\end{array}\\right.\n",
    "\\end{equation}\n",
    "In this case, solving the transformation of probabilities equation from above yeilds the following result. $x_r = -\\ln{u}/\\lambda$, where $u$ is a random number sampled from a uniform distribution and $x_r$ is a random number with the exponential distribution defined by $f(x)$.\n",
    "\n",
    "### Exercise 1.8 \n",
    "Using the above expression transform a sequence of 1000 PRNs generated using the function `np.random.random` to an exponential distribution with $\\lambda=10$. Plot a histogram of the resulting sequence with 20 bins. Use the keyword `density=True` to normalize the counts. On the same plot also add a line representing the following equation. $y(x) = 10e^{-10x}$."
   ]
  },
  {
   "cell_type": "code",
   "execution_count": null,
   "metadata": {},
   "outputs": [],
   "source": [
    "u_ran = np.random.random(1000)\n",
    "lambda_exp = 10\n",
    "num_zeros = len(u_ran) - np.count_nonzero(u_ran)\n",
    "u_ran[u_ran == 0.0] = np.random.random(num_zeros)\n",
    "u_exp = -np.log(u_ran) / lambda_exp\n",
    "\n",
    "fig_ex18, ax_ex18 = plt.subplots()\n",
    "ax_ex18.hist(u_exp, bins=20, density=True, edgecolor='w')\n",
    "x = np.linspace(0, 1, 100)\n",
    "y = lambda_exp * np.exp(-lambda_exp * x)\n",
    "ax_ex18.plot(x, y, color='xkcd:orange', linestyle='-')\n",
    "ax_ex18.set_xlabel('x')\n",
    "ax_ex18.set_ylabel('y')\n",
    "plt.show()"
   ]
  },
  {
   "cell_type": "markdown",
   "metadata": {},
   "source": [
    "#### 1.3.2 Normal distribution\n",
    "\n",
    "Random numbers with a normal distribution are very useful in many kinds of Monte Carlo simulation. One way to generate normally distributed PRNs is by using the Box-Muller method, which arises from a polar transformation. It is given by the following transformation equations.\n",
    "\n",
    "\\begin{equation}\n",
    "x_1 = \\sqrt{-2\\ln(u_1)}\\cos{2\\pi u_2} \\\\\n",
    "x_2 = \\sqrt{-2\\ln(u_1)}\\sin{2\\pi u_2},\n",
    "\\end{equation}\n",
    "where $u_1$ and $u_2$ are independent uniform random variables and $x_1$ and $x_2$ are the transformed independent standard normal random variables.\n",
    "\n",
    "Note that in the numpy package random class there are built-in functions to generate PRNs with many different distributions. However, it is still useful to know simple transformation techniques. \n",
    "\n",
    "### Exercise 1.9\n",
    "Compare the time required to generate 100000 PRNs using the Box-Muller method transformation and directly using `np.random.randn()`. In order to generate the uniform PRNs required for Box-Muller, use the function `np.random.random()` and the equations above. Note that you can time the execution of a cell using the built-in 'magic' command `%%timeit`. Simply use this command as the first line of the cell that you want to time. Also, note that when using this command the variables are not stored in memory."
   ]
  },
  {
   "cell_type": "code",
   "execution_count": null,
   "metadata": {},
   "outputs": [],
   "source": [
    "%%timeit \n",
    "u1_normal = np.random.randn(100000)\n",
    "u2_normal = np.random.randn(100000)"
   ]
  },
  {
   "cell_type": "code",
   "execution_count": null,
   "metadata": {},
   "outputs": [],
   "source": [
    "%%timeit\n",
    "u1 = np.random.random(100000)\n",
    "u2 = np.random.random(100000)\n",
    "# Write code to implement Box-Muller method and \n",
    "# generate two sets of normally distributed random numbers"
   ]
  },
  {
   "cell_type": "markdown",
   "metadata": {},
   "source": [
    "#### 1.3.3 Rejection method \n",
    "So far we have seen transformation of uniform random number distribution into other distribution whose PDFs were expressions that we could integrate. However, this is not always the case, a more general algorithm for transformations is the Rejection method. This method works as follows.\n",
    "\n",
    "Say, we have a function $f(x)$ that represents the desired distribution function. Let $C$ be a positive constant such that $C\\geq f(x)$ in the interval $(a, b)$. Also, let $u_1$ and $u_1^{\\prime}$ are random numbers sampled from a uniform distribution in the interval $(0, 1)$. Then, we can transform the pair $u_1$ and $u_1^{\\prime}$ to $x_1$ and $f_1$ such that they are uniformly distributed in the interval $(a, b)$ and $(0, C)$, respectively using \n",
    "\\begin{equation}\n",
    "x_{1}=a+(b-a) u_{1} \\quad \\text { and } \\quad f_{1}=u_{1}^{\\prime} C\n",
    "\\end{equation}\n",
    "\n",
    "Now, if $f_1 \\leq f(x_1)$, then $x_1$ is picked as a random number sampled from the distribution $f(x)$, otherwise $x_1$ is rejected and a new pair $u_2$ and $u_2^\\prime$ are generated. This process can be repeated until sufficient number of random numbers sampled from $f(x)$ are picked. The above procedure always works for any bounded $f(x)$, however, if $f(x)$ is sharply peaked then it can be ineffecient. In which case, one can use a known integrable function $Kg(x) \\geq f(x)$ and combine the direct integration technique (i.e. the one discussed above for generating the exponentially distributed random numbers) with the simple rejection method. "
   ]
  },
  {
   "cell_type": "markdown",
   "metadata": {},
   "source": [
    "### Exercise 1.10\n",
    "Using the Rejection method, generate 1000 random numbers sampled from the distribution \n",
    "\\begin{equation}\n",
    "f(x) = \\frac{1}{x^2+1}\n",
    "\\end{equation}\n",
    "in the interval (-5, 5).\n",
    "Plot a histogram of the generated PRNs. Also plot a line given by the above expression fitted to the histogram."
   ]
  },
  {
   "cell_type": "code",
   "execution_count": null,
   "metadata": {},
   "outputs": [],
   "source": [
    "# Define constants\n",
    "\n",
    "# Write loop to generate 1000 random numbers using rejection\n",
    "\n",
    "# Plotting code\n"
   ]
  },
  {
   "cell_type": "markdown",
   "metadata": {},
   "source": [
    "#### 1.4 The Random class from Numpy\n",
    "\n",
    "We have seen how to generate psuedorandom numbers algorithmically and how to test the quality of the randoness. However, as you might have realized genenrating good random numbers is not easy. Often PRNs could lead to a catastrophic failure because of not truely being random, like the RANDU generator from IBM. Therefore, it is always recommended to use random number generators that are extensively tested. Python has a built-in random number generator in the class `random`. You can generate PRNs by calling the function `random.random()`. See the documentation [here](https://docs.python.org/3/library/random.html). The Numpy package also has a class called `random` that has more types of distributions. Both these packages use the same method to generate their PRNs, known as the [Mersenne Twister](https://en.wikipedia.org/wiki/Mersenne_Twister) algorithm, which is tested extensively and and known to be good. You can get familiar with the Numpy Random class through its [documentation](https://docs.scipy.org/doc/numpy/reference/routines.random.html). The `np.random` class contains several functions to generate random real numbers, integers, bytes, etc. We used the function `np.random.random()` in a previous example. Also there are functions to generate random numbers with different distributions like exponential, normal, gamma, beta, etc. In the following exercises, we will exclusively use functions from the class `np.random`."
   ]
  },
  {
   "cell_type": "markdown",
   "metadata": {},
   "source": [
    "### 2 Some Applications of Random Numbers"
   ]
  },
  {
   "cell_type": "markdown",
   "metadata": {},
   "source": [
    "Now that we know how to genenrate random numbers, we will use them for some applications in the exercises below."
   ]
  },
  {
   "cell_type": "markdown",
   "metadata": {},
   "source": [
    "#### 2.1 Simulating a 1D Brownian Walk\n",
    "\n",
    "### Exercise 2.1 \n",
    "In its simplest form, a one dimentional Brownian walk is given by the following equation, $\\lambda dr/dt = \\eta$, where $\\lambda$ is a damping factor and $\\eta$ is a Gaussian noise term. Assuming $\\lambda=1$ and sampling from a normally distributed random variable, simulate three 50 second long trajectories of the 1D Brownian walk, i.e., calculate position as a function of time. Use a resolution of 0.1 seconds and plot the trajectories as a function of time. *Hint:* $r(t+dt) = r(t) + \\eta_i dt$. (We will look at propagation of solution in a later lecture and lab)"
   ]
  },
  {
   "cell_type": "code",
   "execution_count": null,
   "metadata": {},
   "outputs": [],
   "source": [
    "# Define constants\n",
    "\n",
    "# Setup plots\n",
    "\n",
    "# Write loop to calculate trajectory and add to plot\n",
    "\n",
    "# Show plot"
   ]
  },
  {
   "cell_type": "markdown",
   "metadata": {},
   "source": [
    "#### 2.2 Monte Carlo Integration\n",
    "\n",
    "From the lecture you have seen how random numbers can be used to integrate (i.e. find the area under the curve for a 1D function). This method, known as Monte Carlo integration can be very useful to integrate functions that cannot be integrated analytically. In its basic form, Monte Carlo intgration is simply a way to randomly sample a function to estimate its integral. If $F$ is the integral of the function $f(x)$ over the interval $(a, b)$. Then using the Monte Carlo integration method we can estimate $F$ as follows.\n",
    "\\begin{equation}\n",
    "F = \\frac{b-a}{N-1}\\sum_{i=0}^N f(X_i),\n",
    "\\end{equation}\n",
    "where, $X_i$ is a sampled from a uniform distribution in the interval $(a, b)$ and $N$ is the total number samples of $X$. Intuitively, this can be thought of as evaluating the mean of the function $f(x)$ over the interval $(a, b)$ and multiplying by the length of the interval, i.e., $(b-a)$."
   ]
  },
  {
   "cell_type": "markdown",
   "metadata": {},
   "source": [
    "### Exercise 2.2\n",
    "Complete the code below to create a function that implements the Monte Carlo method for integration as described above. The inputs to the function should be \n",
    "1. A python function that describes the mathematical function to be evaluated.\n",
    "2. The number of random samples to use for Monte Carlo.\n",
    "3. The minimum and the maximum of the range over which the integral needs to be evaluated."
   ]
  },
  {
   "cell_type": "code",
   "execution_count": null,
   "metadata": {},
   "outputs": [],
   "source": [
    "def MC_integration(func, num_points, range_min, range_max):\n",
    "    # This function requires the following argugments\n",
    "    # func = a function object that defines the function to be integrated\n",
    "    # num_points = number of Monte Carlo samples to be drawn\n",
    "    # range_min = lower bound of the integration\n",
    "    # range_max = upper bound of the integration\n"
   ]
  },
  {
   "cell_type": "markdown",
   "metadata": {},
   "source": [
    "### Exercise 2.3\n",
    "Following the problem from the lecture, evaluate the integral of $x^3$ from $x=-1$ to $x=2$ using function `MC_integration` created in the previous problem for $N=10$, 100, 1000 ... 1000000. Print the value of the estimated integral for each value of $N$. "
   ]
  },
  {
   "cell_type": "code",
   "execution_count": null,
   "metadata": {},
   "outputs": [],
   "source": [
    "# Define a function for x^3\n",
    "\n",
    "# Define constants\n",
    "\n",
    "\n",
    "# Call MC_integrgation in a loop\n",
    "\n",
    "    \n",
    "# Print result\n"
   ]
  },
  {
   "cell_type": "markdown",
   "metadata": {},
   "source": [
    "### Exercise 2.4\n",
    "Using the function `MC_integration` evaluate the numerical integral of the following function from 0 to $\\pi$.\n",
    "\\begin{equation}\n",
    "g(x) = \\frac{\\sin{x}}{\\sqrt{x^2+1}}\n",
    "\\end{equation}"
   ]
  },
  {
   "cell_type": "code",
   "execution_count": null,
   "metadata": {},
   "outputs": [],
   "source": [
    "# Define a function for g(x)\n",
    "\n",
    "# Define constants\n",
    "\n",
    "\n",
    "# Call MC_integrgation \n",
    "\n",
    "    \n",
    "# Print result\n"
   ]
  },
  {
   "cell_type": "markdown",
   "metadata": {},
   "source": [
    "### Problem 1: \n",
    "Simulate a two-dimensional binary random walk (i.e. move both $x$ and $y$ positions by $\\pm 1$ depending on whether the sampled random number is greater than or less than 0.5, respectively) starting from the origin. Sample random numbers from the following distributions:\n",
    "1. Uniform distribution (between 0 and 1) \n",
    "2. Standard Normal distribution (mean of 0 and standard deviation of 0.5)\n",
    "3. Standard Cauchy distribution (centered at 0 with a scaling factor of 1) (The distribution from exercise 10)\n",
    "\n",
    "Generate three subplots showing the trajectories, one for each of the distributions and label them accordingly. Use a total of 1000 steps.\n",
    "\n",
    "*Hint:* Seach the documentation for `numpy.random` and find the appropriate functions to generate the random numbers with the desired distributions."
   ]
  },
  {
   "cell_type": "code",
   "execution_count": null,
   "metadata": {},
   "outputs": [],
   "source": []
  },
  {
   "cell_type": "markdown",
   "metadata": {},
   "source": [
    "### Problem 3:\n",
    "Simulate a 6-sided unfair dice that lands on a face with a probability proportional to the number on that face. Generate an array containing the values of 1000 throws of the dice. Count and display the number of 1s and 6s in that array. Also, show a plot of the distribution of the numbers in the array. Use, the `plt.hist` functions with 6 bins. \n",
    "\n",
    "*Hint:* First fiugre out what is the distribution of the random numbers that this dice gegnerates and then use the rejection method to generate throws with the desired distribution."
   ]
  },
  {
   "cell_type": "code",
   "execution_count": null,
   "metadata": {},
   "outputs": [],
   "source": []
  },
  {
   "cell_type": "code",
   "execution_count": null,
   "metadata": {},
   "outputs": [],
   "source": []
  }
 ],
 "metadata": {
  "kernelspec": {
   "display_name": "Python 3",
   "language": "python",
   "name": "python3"
  },
  "language_info": {
   "codemirror_mode": {
    "name": "ipython",
    "version": 3
   },
   "file_extension": ".py",
   "mimetype": "text/x-python",
   "name": "python",
   "nbconvert_exporter": "python",
   "pygments_lexer": "ipython3",
   "version": "3.6.2"
  }
 },
 "nbformat": 4,
 "nbformat_minor": 2
}
