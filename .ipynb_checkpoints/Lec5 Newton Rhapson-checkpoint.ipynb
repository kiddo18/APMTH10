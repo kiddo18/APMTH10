{
 "cells": [
  {
   "cell_type": "markdown",
   "metadata": {},
   "source": [
    "## Lecture 5\n",
    "\n",
    "Finding the solutions/roots of the functions: bracketing, use of derivatives (Newton-Raphson method)."
   ]
  },
  {
   "cell_type": "markdown",
   "metadata": {},
   "source": [
    "# Taylor series\n",
    "f(x) = f(c) + (x-c)f'(x-c) + 1/2! (x-c)^2 f''(x-c)\n",
    "\n",
    "1st order (line): y(x) = a0 + a1x --> a0 = f(x0) - x0 f'(x0)\n",
    "\n",
    "Root value of "
   ]
  },
  {
   "cell_type": "code",
   "execution_count": 1,
   "metadata": {},
   "outputs": [],
   "source": [
    "import numpy as np\n",
    "import matplotlib.pyplot as plt"
   ]
  },
  {
   "cell_type": "code",
   "execution_count": 16,
   "metadata": {},
   "outputs": [],
   "source": [
    "def f2ofx(x, a0, a1, a2):\n",
    "    return a0 + a1 * x + a2 * (x**2)\n",
    "\n",
    "def d1f2ofx(x, a1, a2):\n",
    "    return a1 + 2 * a2 * x\n",
    "\n",
    "def f3ofx(x,a0,a1,a2,a3):\n",
    "    return a0 + a1 * x + a2 * (x**2) + a3 * (x**3)"
   ]
  },
  {
   "cell_type": "code",
   "execution_count": 11,
   "metadata": {},
   "outputs": [
    {
     "name": "stdout",
     "output_type": "stream",
     "text": [
      "2\n",
      "1 -2.08974358974359 -1.9615384615384617\n",
      "2 0.9871794871794872 1.115384615384615\n"
     ]
    },
    {
     "data": {
      "image/png": "[encoded data removed]",
      "text/plain": [
       "<Figure size 432x288 with 1 Axes>"
      ]
     },
     "metadata": {
      "needs_background": "light"
     },
     "output_type": "display_data"
    }
   ],
   "source": [
    "# Example 1: finding roots of second-order polynomial\n",
    "xmin = -3.5\n",
    "xmax = 1.5\n",
    "Nx = 40\n",
    "x = np.linspace(xmin, xmax, Nx)\n",
    "dx = x[1] - x[0]\n",
    "\n",
    "a0 = -2.\n",
    "a1 = 1.\n",
    "a2 = 1.\n",
    "fx = f2ofx(x,a0,a1,a2)\n",
    "\n",
    "# Finding the roots\n",
    "m = 0\n",
    "xa2 = np.zeros(2)\n",
    "xb2 = np.zeros(2)\n",
    "for n in range(0,Nx-1):\n",
    "    fprod = fx[n] * fx[n+1]\n",
    "    if fprod < 0: # when the consecutive elements have opposite sign\n",
    "        xa2[m] = x[n]\n",
    "        xb2[m] = x[n+1]\n",
    "        m = m + 1\n",
    "    \n",
    "print(m)\n",
    "\n",
    "for nm in range(m): #nm is just a counter\n",
    "    print(nm+1, xa2[nm], xb2[nm])\n",
    "    # plot the values immediately before and after the roots\n",
    "    plt.plot(xa2[nm], f2ofx(xa2[nm], a0, a1, a2),'ro',markersize=5)\n",
    "    plt.plot(xb2[nm], f2ofx(xb2[nm], a0, a1, a2),'ro',markersize=5)\n",
    "\n",
    "\n",
    "plt.plot(x,fx)\n",
    "\n",
    "xlin = np.zeros(2)\n",
    "ylin = np.zeros(2)\n",
    "xlin[0] = xmin\n",
    "xlin[1] = xmax\n",
    "ylin[0] = 0.\n",
    "ylin[1] = 0.\n",
    "\n",
    "plt.plot(xlin, ylin, 'k--')\n",
    "plt.show()\n",
    "\n"
   ]
  },
  {
   "cell_type": "markdown",
   "metadata": {},
   "source": [
    "## Newton-Rhapson method \n",
    "Instead of bisectional search for the root in the interval between the red dots, we can use Taylor series to approximate the root"
   ]
  },
  {
   "cell_type": "code",
   "execution_count": 17,
   "metadata": {},
   "outputs": [
    {
     "name": "stdout",
     "output_type": "stream",
     "text": [
      "1\n",
      "1 0.474358974358974 0.6025641025641022\n"
     ]
    },
    {
     "data": {
      "image/png": "[encoded data removed]",
      "text/plain": [
       "<Figure size 432x288 with 1 Axes>"
      ]
     },
     "metadata": {
      "needs_background": "light"
     },
     "output_type": "display_data"
    }
   ],
   "source": [
    "# Example 1: finding roots of second-order polynomial\n",
    "xmin = -3.5\n",
    "xmax = 1.5\n",
    "Nx = 40\n",
    "x = np.linspace(xmin, xmax, Nx)\n",
    "dx = x[1] - x[0]\n",
    "\n",
    "a0 = -1.\n",
    "a1 = 1.\n",
    "a2 = 1.\n",
    "a3 = 0.5\n",
    "fx = f3ofx(x,a0,a1,a2,a3)\n",
    "\n",
    "# Finding the roots\n",
    "m = 0\n",
    "xa3 = np.zeros(3) # expecting 3 roots\n",
    "xb3 = np.zeros(3) # expecting 3 roots\n",
    "for n in range(0,Nx-1):\n",
    "    fprod = fx[n] * fx[n+1]\n",
    "    if fprod < 0: # when the consecutive elements have opposite sign\n",
    "        xa3[m] = x[n]\n",
    "        xb3[m] = x[n+1]\n",
    "        m = m + 1\n",
    "    \n",
    "print(m)\n",
    "\n",
    "for nm in range(m): #nm is just a counter\n",
    "    print(nm+1, xa3[nm], xb3[nm])\n",
    "    # plot the values immediately before and after the roots\n",
    "    plt.plot(xa3[nm], f3ofx(xa2[nm], a0, a1, a2, a3),'ro',markersize=5)\n",
    "    plt.plot(xb3[nm], f3ofx(xb2[nm], a0, a1, a2, a3),'ro',markersize=5)\n",
    "\n",
    "\n",
    "plt.plot(x,fx)\n",
    "\n",
    "xlin = np.zeros(2)\n",
    "ylin = np.zeros(2)\n",
    "xlin[0] = xmin\n",
    "xlin[1] = xmax\n",
    "ylin[0] = 0.\n",
    "ylin[1] = 0.\n",
    "\n",
    "plt.plot(xlin, ylin, 'k--')\n",
    "plt.show()\n",
    "\n"
   ]
  },
  {
   "cell_type": "code",
   "execution_count": null,
   "metadata": {},
   "outputs": [],
   "source": []
  }
 ],
 "metadata": {
  "kernelspec": {
   "display_name": "Python 3",
   "language": "python",
   "name": "python3"
  },
  "language_info": {
   "codemirror_mode": {
    "name": "ipython",
    "version": 3
   },
   "file_extension": ".py",
   "mimetype": "text/x-python",
   "name": "python",
   "nbconvert_exporter": "python",
   "pygments_lexer": "ipython3",
   "version": "3.7.3"
  }
 },
 "nbformat": 4,
 "nbformat_minor": 2
}
