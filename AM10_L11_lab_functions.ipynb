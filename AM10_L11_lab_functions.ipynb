{
 "cells": [
  {
   "cell_type": "code",
   "execution_count": 1,
   "metadata": {
    "collapsed": true
   },
   "outputs": [],
   "source": [
    "import numpy as np\n",
    "import random as rd\n",
    "import matplotlib.pyplot as plt\n",
    "import time"
   ]
  },
  {
   "cell_type": "markdown",
   "metadata": {},
   "source": [
    "# Applied Math 10: Computing for Science and Engineering\n",
    "<br>\n",
    "## Lab 11 : Advanced - Higher-order Ordinary Differential Equations (ODEs)\n",
    "\n",
    "**Fall 2019**<br/>\n",
    "<br>\n",
    "**Instructors**: K. Indireshkumar (Kumar)<br/>\n",
    "**Material**: K. Indireshkumar (Kumar)"
   ]
  },
  {
   "cell_type": "markdown",
   "metadata": {},
   "source": [
    "### Function for Euler's method (via three point formula for derivative)\n",
    "\n",
    "We will write a function for the second order ODE discussed at the beginning of lecture 11. The equation is:\n",
    "\n",
    "$$ \\frac{d^2 u}{dx^2} = g(x,u,u') $$\n",
    "\n",
    "where $g(x,u,u')$ can be changed without modifying the core of the integration routine."
   ]
  },
  {
   "cell_type": "code",
   "execution_count": 1,
   "metadata": {
    "collapsed": true
   },
   "outputs": [],
   "source": [
    "#Function to integrate a second-order ODE \n",
    "#Euler's method with three point formula for derivative\n",
    "\n",
    "def ode2_euler(Nx,xmin,xmax,uf0,ud0):\n",
    "    \n",
    "    x = np.linspace(xmin, xmax, Nx)\n",
    "    dx = x[1] - x[0]\n",
    "    dx2=2.0*dx\n",
    "\n",
    "    uf=np.zeros(Nx)\n",
    "    ud=np.zeros(Nx)\n",
    "    \n",
    "    uf[0]=uf0\n",
    "    ud[0]=ud0\n",
    "    gf0=gf(x[0],uf[0],ud[0])\n",
    "    \n",
    "    uf[1]=uf[0]+ud[0]*dx\n",
    "    ud[1]=ud[0]+gf0*dx\n",
    "\n",
    "    for n in range(1,Nx-1):\n",
    "        ud[n+1]=ud[n-1]+dx2*gf(x[n],uf[n],ud[n])\n",
    "        uf[n+1]=uf[n-1]+dx2*ud[n]\n",
    "    return uf   "
   ]
  },
  {
   "cell_type": "markdown",
   "metadata": {},
   "source": [
    "### Function for the Runge-Kutta method"
   ]
  },
  {
   "cell_type": "code",
   "execution_count": 2,
   "metadata": {
    "collapsed": true
   },
   "outputs": [],
   "source": [
    "#Function to find the solution of second order ODE with\n",
    "#Runge-Kutta 4th order method (RK4)\n",
    "\n",
    "def ode2_rk4(Nx, xmin, xmax, uf0, ud0):\n",
    "    #Diff eqns of form: \n",
    "    #                 d(uf)/dx=ff(x,uf,ud)\n",
    "    #                 d(ud)/dx=gf(x,uf,ud)\n",
    "    #Nx: Number of points to be used for integration\n",
    "    #xmin, xmax: Initial and final values of the independent variable (x)\n",
    "    #uf0, ud0: Initial (boundary) values of the dependent variables at x=xmin\n",
    "     \n",
    "    x = np.linspace(xmin, xmax, Nx)\n",
    "    dx = x[1] - x[0] # dx = h (lecture 11)\n",
    "    \n",
    "    uf = np.zeros(Nx) # uf = u (lecture 11)\n",
    "    ud = np.zeros(Nx) # ud = v (lecture 11)\n",
    "    \n",
    "    uf[0] = uf0\n",
    "    ud[0] = ud0\n",
    "    \n",
    "    #We define two variables that minimize the repetitive computations\n",
    "    \n",
    "    dxovr6 = dx / 6.0\n",
    "    dxovr2 = dx * 0.5\n",
    "\n",
    "    for n in range(Nx - 1):\n",
    "        #We need to suppy the functions ff(x,uf,ud) and gf(x,uf,ud)\n",
    "        # These are the same as f(x,u,v) and g(x,u,v) in Lecture 11.\n",
    "        kn1 = ff(x[n], uf[n], ud[n]) \n",
    "        ln1 = gf(x[n], uf[n], ud[n])\n",
    "        \n",
    "        kn2 = ff(x[n] + dxovr2, uf[n] + dxovr2 * kn1, ud[n]+dxovr2 * ln1)\n",
    "        ln2 = gf(x[n] + dxovr2, uf[n] + dxovr2 * kn1, ud[n]+dxovr2 * ln1)\n",
    "        \n",
    "        kn3 = ff(x[n] + dxovr2, uf[n] + dxovr2 * kn2, ud[n]+dxovr2 * ln2)\n",
    "        ln3 = gf(x[n] + dxovr2, uf[n] + dxovr2 * kn2, ud[n]+dxovr2 * ln2)\n",
    "        \n",
    "        kn4 = ff(x[n] + dx, uf[n] + dx * kn3, ud[n]+dx * ln3)\n",
    "        ln4 = gf(x[n] + dx, uf[n] + dx * kn3, ud[n]+dx * ln3)\n",
    "             \n",
    "        uf[n+1] = uf[n] + dxovr6 * (kn1 + 2.0 * kn2 + 2.0 * kn3 + kn4)\n",
    "        ud[n+1] = ud[n] + dxovr6 * (ln1 + 2.0 * ln2 + 2.0 * ln3 + ln4)\n",
    "    return uf"
   ]
  },
  {
   "cell_type": "code",
   "execution_count": null,
   "metadata": {
    "collapsed": true
   },
   "outputs": [],
   "source": []
  }
 ],
 "metadata": {
  "anaconda-cloud": {},
  "kernelspec": {
   "display_name": "Python 3",
   "language": "python",
   "name": "python3"
  },
  "language_info": {
   "codemirror_mode": {
    "name": "ipython",
    "version": 3
   },
   "file_extension": ".py",
   "mimetype": "text/x-python",
   "name": "python",
   "nbconvert_exporter": "python",
   "pygments_lexer": "ipython3",
   "version": "3.7.3"
  }
 },
 "nbformat": 4,
 "nbformat_minor": 2
}
