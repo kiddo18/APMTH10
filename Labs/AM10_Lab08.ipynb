{
 "cells": [
  {
   "cell_type": "code",
   "execution_count": 1,
   "metadata": {
    "colab": {},
    "colab_type": "code",
    "id": "YVxHJzvtLx51"
   },
   "outputs": [],
   "source": [
    "import numpy as np\n",
    "import random as rd\n",
    "import matplotlib.pyplot as plt\n",
    "import time"
   ]
  },
  {
   "cell_type": "markdown",
   "metadata": {
    "colab_type": "text",
    "id": "lq3BsJ3ILx5-"
   },
   "source": [
    "# Applied Math 10: Computing for Science and Engineering\n"
   ]
  },
  {
   "cell_type": "markdown",
   "metadata": {
    "colab_type": "text",
    "id": "-zrTp8GJMbVx"
   },
   "source": [
    "## Lab 8 : Elementary - Second-order Ordinary Differential Equations (ODEs)\n",
    "\n",
    "**Spring 2020**<br/>\n",
    "<br>\n",
    "**Instructors**: K. Indireshkumar (Kumar)<br/>\n",
    "**Material**: K. Indireshkumar (Kumar)"
   ]
  },
  {
   "cell_type": "markdown",
   "metadata": {
    "colab_type": "text",
    "id": "OFvL804HLx6A"
   },
   "source": [
    "### Learning Goals of Lab \n",
    "In this lab, we continue the work started in lecture 8. Our objective in this lab is to:\n",
    "- write python functions for the Euler and Runge-Kutta 4th order (RK) methods of solving second order ODEs discussed in lecture 8\n",
    "- solve some interesting and practical second order ODEs"
   ]
  },
  {
   "cell_type": "markdown",
   "metadata": {},
   "source": [
    "## Second-order differential equations\n",
    "\n",
    "\n",
    "A second-order ODE is then given by:\n",
    "\n",
    "$$ \\frac{d^2 u}{dx^2} = g(x,u,u') $$\n",
    "\n",
    "where $g(u,u',x)$ is a given function of the function $u$, its first derivative $u'=du/dx$, and the variable $x$.  We also need to know the value of the function $u(x)$ and its derivative $u'(x)$ for some specific value of $x$, so that we can try to solve for the function $u(x)$ that satisfies this equation. "
   ]
  },
  {
   "cell_type": "markdown",
   "metadata": {},
   "source": [
    "___________________________________________________________________________________________________________________________"
   ]
  },
  {
   "cell_type": "markdown",
   "metadata": {
    "colab_type": "text",
    "id": "pmBvcV2yLx6B"
   },
   "source": [
    "### The Euler's method: Function for Euler's method (via the three-point formula for derivative)\n",
    "\n",
    "As presented in Lecture 8, the formulas for the Euler (three-point) method  are:\n",
    "\n",
    "$$u'(x_{n+1})=u'(x_{n-1}) + 2 \\; \\Delta x \\; g(x_n, u(x_n), u'(x_n)) ~~~~ (1)$$\n",
    "\n",
    "$$u(x_{n+1})=u(x_{n-1}) + 2 \\; \\Delta x \\; u'(x_n) ~~~~~~~~~~~~~~~~~~~~~~~~~~~ (2) $$\n",
    "\n",
    "with formulas for $x_1$ as:\n",
    "\n",
    "$$u'(x_1) = u'(x_0) + \\Delta x \\cdot g(x_0, u_0, u'_0) ~~~~~~~~~~~~~~~~~~~~~~(3)$$\n",
    "\n",
    "$$u(x_1) = u(x_0) + \\Delta x \\; u'(x_0) ~~~~~~~~~~~~~~~~~~~~~~~~~~~~~~~~~~~~~ (4)$$\n",
    "\n",
    "We will code these formulas with the *notation* replacements $\\bf{u'}$ by $\\bf{ud}$, $\\bf{u}$ by $\\bf{uf}$, and $\\bf{g(x,u,u')}$ by $\\bf{gf}$."
   ]
  },
  {
   "cell_type": "markdown",
   "metadata": {
    "colab_type": "text",
    "id": "d5dHHiu7nL01"
   },
   "source": [
    "**Exercise 1**: \"Translate\" the Euler formulas into code by completing the designated sections."
   ]
  },
  {
   "cell_type": "code",
   "execution_count": 22,
   "metadata": {
    "colab": {},
    "colab_type": "code",
    "id": "T-lu5MUaLx6D"
   },
   "outputs": [],
   "source": [
    "#Function to integrate a second-order ODE \n",
    "#Euler's method with three point formula for derivative\n",
    "#-------------------------------------------------------------------------\n",
    "#Note: We are using the following replacements in the formulas (1) - (4):\n",
    "#    ud for u', uf for u, gf for g\n",
    "#---------------------------------------------------------------------------\n",
    "\n",
    "def ode2_euler(Nx,xmin,xmax,uf0,ud0):\n",
    "    #Nx: Number of points to be used for integration.\n",
    "    #xmin, xmax: Integration limits\n",
    "    #uf0: Intial condition on uf at xmin\n",
    "    #ud0: Initial condition on ud at xmin\n",
    "\n",
    "    x = np.linspace(xmin, xmax, Nx)\n",
    "    dx = x[1] - x[0]\n",
    "    dx2=2.0*dx\n",
    "\n",
    "    uf=np.zeros(Nx)\n",
    "    ud=np.zeros(Nx)\n",
    "    \n",
    "    #Initial (boundary) conditions\n",
    "    uf[0]=uf0\n",
    "    ud[0]=ud0\n",
    "    #We will write a separate python function for \n",
    "    # gf(x[n],uf[n],ud[n]) later. The initial value will be:\n",
    "\n",
    "    gf0=gf(x[0],uf[0],ud[0])\n",
    "    \n",
    "    #Formulas (3) and (4) with above mentioned replacements:\n",
    "    ud[1]=ud[0]+dx*gf0\n",
    "    uf[1]=uf[0]+dx*ud[0]\n",
    "    \n",
    "    for n in range(1, Nx-1):\n",
    "    # Fill in the code for ud[n+1] and uf[n+1]; \n",
    "    # Refer to formulas (1) and (2) shown above with the appropriate notation replacements\n",
    "        \n",
    "        ud[n+1]=ud[n-1]+dx2*gf(x[n],uf[n],ud[n])\n",
    "        uf[n+1]=uf[n-1]+dx2*ud[n]\n",
    "    \n",
    "    return uf   "
   ]
  },
  {
   "cell_type": "markdown",
   "metadata": {},
   "source": [
    "___________________________________________________________________________________________________________________________"
   ]
  },
  {
   "cell_type": "markdown",
   "metadata": {
    "colab_type": "text",
    "id": "IgXnjg0fS2zq"
   },
   "source": [
    "### The Runge-Kutta method: Function for the Runge-Kutta 4th order method\n",
    "The formulas from lecture 8:\n",
    "\n",
    "$$k^{(1)}_n =f(x_n,u_n,v_n), \\; \\; \\; l^{(1)}_n =g(x_n,u_n,v_n) ~~~~~~(5)$$\n",
    "\n",
    "$$k^{(2)}_n=f(x_n+\\frac{h}{2},u_n+\\frac{h k^{(1)}_n}{2}, v_n+\\frac{h l^{(1)}_n}{2} ),\\; \\; \\; \n",
    "l^{(2)}_n=g(x_n+\\frac{h}{2},u_n+\\frac{h k^{(1)}_n}{2}, v_n+\\frac{h l^{(1)}_n}{2} )~~~~~~(6)$$ \n",
    "\n",
    "$$k^{(3)}_n=f(x_n+\\frac{h}{2},u_n+\\frac{h k^{(2)}_n}{2},v_n+\\frac{h l^{(2)}_n}{2}  ), \\; \\; \\; l^{(3)}_n=g(x_n+\\frac{h}{2},u_n+\\frac{h k^{(2)}_n}{2},v_n+\\frac{h l^{(2)}_n}{2}  )~~~~~~(7)$$\n",
    "\n",
    "$$k^{(4)}_n = f(x_n+h,u_n+h k^{(3)}_n, v_n+h l^{(3)}_n), \\; \\; \\; \n",
    "l^{(4)}_n = g(x_n+h,u_n+h k^{(3)}_n, v_n+h l^{(3)}_n)\n",
    "~~~~~~(8)$$ \n",
    "\n",
    "$$u_{n+1} = u_n + \\frac{h}{6} \\left [ k^{(1)}_n + 2 \\; k^{(2)}_n + 2 \\; k^{(3)}_n + k^{(4)}_n \n",
    "\\right ], \\; \\; \\; \n",
    "v_{n+1} = v_n + \\frac{h}{6} \\left [ l^{(1)}_n + 2 \\; l^{(2)}_n + 2 \\; l^{(3)}_n + l^{(4)}_n \n",
    "\\right ]\n",
    "~~(9)$$\n",
    "\n",
    "We will code this with the following *notation* substitutions: $\\bf{h}$ by $\\bf{dx}$, $\\bf{u}$ by $\\bf{uf}$, $\\bf{v}$ by $\\bf{vf}$, $\\bf{g(x,u,u')}$ by $\\bf{gf}$, $\\bf{f(x,u,u')}$ by $\\bf{ff}$, $\\bf{k_n^{(p)}}$ by $\\bf{knp}$, $\\bf{l_n^{(p)}}$ by $\\bf{lnp}$ where $\\bf{p}$ takes the values 1, 2, 3, and 4.\n"
   ]
  },
  {
   "cell_type": "markdown",
   "metadata": {
    "colab_type": "text",
    "id": "QtFzIdh-nmfx"
   },
   "source": [
    "**Exercise 2**: \"Translate\" the Runge-Kutta formulas into code by completing the designated sections."
   ]
  },
  {
   "cell_type": "code",
   "execution_count": 20,
   "metadata": {
    "colab": {},
    "colab_type": "code",
    "id": "HEpkQ3T4Lx6I"
   },
   "outputs": [],
   "source": [
    "#Function to find the solution of second order ODE with\n",
    "#Runge-Kutta 4th order method (RK4)\n",
    "\n",
    "def ode2_rk4(Nx, xmin, xmax, uf0, vf0):\n",
    "    #Diff eqns of form: \n",
    "    #                 d(uf)/dx=ff(x,uf,vf)\n",
    "    #                 d(vf)/dx=gf(x,uf,vf)\n",
    "    #Nx: Number of points to be used for integration\n",
    "    #xmin, xmax: Initial and final values of the independent variable (x)\n",
    "    #uf0, vf0: Initial (boundary) values of the dependent variables at x=xmin\n",
    "     \n",
    "    x = np.linspace(xmin, xmax, Nx)\n",
    "    dx = x[1] - x[0] # dx = h (lecture 8)\n",
    "    \n",
    "    uf = np.zeros(Nx) # uf = u (lecture 8)\n",
    "    vf = np.zeros(Nx) # vf = v (lecture 8)\n",
    "    \n",
    "    #Initial conditions on u and v\n",
    "    uf[0] = uf0\n",
    "    vf[0] = vf0\n",
    "    \n",
    "    #We define two variables that minimize the repetitive computations\n",
    "    #You can use these below while coding\n",
    "    \n",
    "    dxovr6 = dx / 6.0\n",
    "    dxovr2 = dx * 0.5\n",
    "\n",
    "    for n in range(Nx - 1):\n",
    "        #We need to suppy the functions ff(x,uf,vf) and gf(x,uf,vf)\n",
    "        # These are the same as f(x,u,v) and g(x,u,v).\n",
    "        \n",
    "        #Forumula (5) can be coded as:\n",
    "        kn1 = ff(x[n], uf[n], vf[n]) \n",
    "        ln1 = gf(x[n], uf[n], vf[n])\n",
    "\n",
    "        #Forumula (6) can be coded as\n",
    "\n",
    "        kn2 = ff(x[n] + dxovr2, uf[n] + dxovr2 * kn1, vf[n]+dxovr2 * ln1)\n",
    "        ln2 = gf(x[n] + dxovr2, uf[n] + dxovr2 * kn1, vf[n]+dxovr2 * ln1)\n",
    "\n",
    "        # Code formulas (7), (8), and (9) shown above with the appropriate notation substitutions\n",
    "        #-------------------------------------------------------------------- \n",
    "        # Equation 7\n",
    "        kn3 = ff(x[n] + dxovr2, uf[n] + dxovr2 * kn2, vf[n]+dxovr2 * ln2)\n",
    "        ln3 = gf(x[n] + dxovr2, uf[n] + dxovr2 * kn2, vf[n]+dxovr2 * ln2)\n",
    "        # Equation 8\n",
    "        kn4 = ff(x[n] + dx, uf[n] + dx * kn3, vf[n]+dx * ln3)\n",
    "        ln4 = gf(x[n] + dx, uf[n] + dx * kn3, vf[n]+dx * ln3)\n",
    "        # Equation 9\n",
    "        uf[n+1] = uf[n] + dxovr6 * (kn1 + kn2 * 2. + kn3 * 2. + kn4)\n",
    "        vf[n+1] = vf[n] + dxovr6 * (ln1 + ln2 * 2. + ln3 * 2. + ln4)\n",
    "        \n",
    "        #-------------------------------------------------------------------\n",
    "    return uf"
   ]
  },
  {
   "cell_type": "markdown",
   "metadata": {},
   "source": [
    "__________________________________________________________________________________________________________________________"
   ]
  },
  {
   "cell_type": "markdown",
   "metadata": {
    "colab_type": "text",
    "id": "-qBzAzykLx6N"
   },
   "source": [
    "### Exercise: Solve the eigenfunction problem \n",
    "We will now illustrate how to use the Euler and RK functions to solve the equation (eigenvalue problem):\n",
    "\n",
    "$$ \\frac{d^2 u}{dx^2} = -a^2 u $$\n",
    "\n",
    "where $a$=2.\n",
    "\n",
    "Note that this problem comprises three parts:\n",
    "1. We need to supply the functions `ff` (needed by RK) and `gf` (needed by both RK and Euler). You identify these by casting the ODE into a form discussed in lecture 8.\n",
    "2. We also need to supply the boundary (initial) conditions. \n",
    "3. We need to code the exact solution for comparison.\n",
    "\n",
    "Steps (1) and (2) will be common to all problems. Step (3) is needed only if you know the exact solution or, at least, an approximation to the exact solution."
   ]
  },
  {
   "cell_type": "code",
   "execution_count": 23,
   "metadata": {
    "colab": {},
    "colab_type": "code",
    "id": "6vuNerHOLx6O"
   },
   "outputs": [
    {
     "data": {
      "image/png": "[encoded data removed]",
      "text/plain": [
       "<Figure size 432x288 with 1 Axes>"
      ]
     },
     "metadata": {
      "needs_background": "light"
     },
     "output_type": "display_data"
    }
   ],
   "source": [
    "# Redo the sine/cosine function with the RK method\n",
    "# g(x,u,v) = -a**2 u, f(x,u,v) = v\n",
    "# Apply this for Nx=50, xmax=8.0, and compare to previous case with the same parameters. \n",
    "\n",
    "Nx=50\n",
    "xmin=0.0\n",
    "xmax=8.0\n",
    "x=np.linspace(xmin,xmax,Nx)\n",
    "\n",
    "\n",
    "a=2.0\n",
    "Afact=1.0\n",
    "\n",
    "#uf0=0.0\n",
    "#ud0=Afact*a\n",
    "uf0=Afact\n",
    "ud0=0.0\n",
    "\n",
    "#Define the functions gf and ff. \n",
    "#These are called from within the Euler and RK functions. They need to have the\n",
    "#same names as used in those functions.They need to have the same number of arguments.\n",
    "#The variable names can be different.\n",
    "\n",
    "def gf(x,uf,ud):\n",
    "    a=2.0\n",
    "    asq=a**2\n",
    "    return -asq*uf\n",
    "\n",
    "def ff(x,uf,ud):\n",
    "    return ud\n",
    "\n",
    "# The true (exact) solution in terms of the boundary conditions\n",
    "Aconst=ud0/a\n",
    "Bconst=uf0\n",
    "utrue=Aconst*np.sin(a*x)+Bconst*np.cos(a*x)\n",
    "\n",
    "# Find the solution using Euler method\n",
    "\n",
    "ufn=ode2_euler(Nx,xmin,xmax,uf0,ud0)\n",
    "\n",
    "# Find the solution using the Runge-Kutta (4th order) method\n",
    "\n",
    "uf2f=ode2_rk4(Nx, xmin, xmax, uf0, ud0)\n",
    "\n",
    "#Compare the solutions\n",
    "\n",
    "plt.plot(x,ufn,'go--', label=\"Euler\")               \n",
    "plt.plot(x,uf2f,'bo--', label=\"RK4\")\n",
    "plt.plot(x,utrue,'r-', label=\"Exact\")\n",
    "plt.legend()\n",
    "plt.show()\n"
   ]
  },
  {
   "cell_type": "markdown",
   "metadata": {},
   "source": [
    "___________________________________________________________________________________________________________________________"
   ]
  },
  {
   "cell_type": "markdown",
   "metadata": {
    "colab_type": "text",
    "id": "CIbPvovmLx6V"
   },
   "source": [
    "## Problem 1\n",
    "The following equation arises while describing steady-state heat conduction across a cylindrical pipe wall. The inside of the pipe ($x_0=0.1$) is held at 373 K and the outside at 300 K. Solve the following equation, using the Runge-Kutta method:\n",
    "\n",
    "$$\\frac{d^2 u}{dx^2}=-\\frac{1}{x}\\frac{du}{dx}$$\n",
    "\n",
    "over the domain $0.1\\le x\\le 0.5$. With $x_0=0.1$, also given are:\n",
    "\n",
    "$$u(x_0)=373.0$$ and $$\\frac{du}{dx}(x_0)=-453.6$$ Compare it with the \n",
    "exact solution:\n",
    "\n",
    "$$utrue=373.0-45.36*\\ln\\left (\\frac{x}{x_{0}}\\right ) $$\n",
    "\n",
    "where $\\ln$ is the natural logarithm."
   ]
  },
  {
   "cell_type": "code",
   "execution_count": 27,
   "metadata": {},
   "outputs": [
    {
     "data": {
      "image/png": "[encoded data removed]",
      "text/plain": [
       "<Figure size 432x288 with 1 Axes>"
      ]
     },
     "metadata": {
      "needs_background": "light"
     },
     "output_type": "display_data"
    }
   ],
   "source": [
    "\n",
    "Nx=50\n",
    "xmin=0.1\n",
    "xmax=0.5\n",
    "x=np.linspace(xmin,xmax,Nx)\n",
    "\n",
    "uf0= 373.0\n",
    "ud0=-453.6\n",
    "\n",
    "#Define the functions gf and ff. \n",
    "#These are called from within the Euler and RK functions. They need to have the\n",
    "#same names as used in those functions.They need to have the same number of arguments.\n",
    "#The variable names can be different.\n",
    "\n",
    "def gf(x,uf,ud):\n",
    "    return -(1/x) * ud\n",
    "\n",
    "def ff(x,uf,ud):\n",
    "    return ud\n",
    "\n",
    "# The true (exact) solution in terms of the boundary conditions\n",
    "utrue = 373.0 - 45.36 * np.log(x / x[0])\n",
    "\n",
    "# Find the solution using Euler method\n",
    "\n",
    "ufn=ode2_euler(Nx,xmin,xmax,uf0,ud0)\n",
    "\n",
    "# Find the solution using the Runge-Kutta (4th order) method\n",
    "\n",
    "uf2f=ode2_rk4(Nx, xmin, xmax, uf0, ud0)\n",
    "\n",
    "#Compare the solutions\n",
    "\n",
    "plt.plot(x,ufn,'go--', label=\"Euler\")               \n",
    "plt.plot(x,uf2f,'bo--', label=\"RK4\")\n",
    "plt.plot(x,utrue,'r-', label=\"Exact\")\n",
    "plt.legend()\n",
    "plt.show()\n",
    "\n"
   ]
  },
  {
   "cell_type": "markdown",
   "metadata": {
    "colab_type": "text",
    "id": "FkLaSOORLx6b"
   },
   "source": [
    "## Problem 2\n",
    "\n",
    "Consider the following equation:\n",
    "\\begin{equation}\n",
    "\\frac{d^2x}{dt^2} =A+B x+ C \\frac{dx}{dt} + D\\left ( \\frac{dx}{dt}\\right )^2 ~~~~~~~~~~~~~~~~~~~~~ (10)\n",
    "\\end{equation}\n",
    "where $A$, $B$, $C$, and $D$ are constants. <br>\n",
    "[Note: You have encountered a simplified form of this equation before. For $A=C=D=0$ and $B=-4$, it is the eigenfunction problem you encountered earlier.]\n",
    "\n",
    "The tasks for this problem are the following:\n",
    "\n",
    "(a) Write code (functions) for $g(x,u,v)$ and $f(x,u,v)$. <br><br>\n",
    "(b) Use the functions coded in part (a), and solve Eq. (10) for  $A=C=D=0$ and $B=-4$, and the boundary condition of the eigenfunction problem solved above (Exercise). <br><br>\n",
    "(c) Show that the solution obtained in part (b) is the same with the solution obtained in the eigenfunction problem (Exercise). This will serve as a check for the functions coded in part (a) of this problem."
   ]
  },
  {
   "cell_type": "code",
   "execution_count": 45,
   "metadata": {},
   "outputs": [
    {
     "data": {
      "image/png": "[encoded data removed]",
      "text/plain": [
       "<Figure size 432x288 with 1 Axes>"
      ]
     },
     "metadata": {
      "needs_background": "light"
     },
     "output_type": "display_data"
    }
   ],
   "source": [
    "# Redo the sine/cosine function with the RK method\n",
    "# g(x,u,v) = -a**2 u, f(x,u,v) = v\n",
    "# Apply this for Nx=50, xmax=8.0, and compare to previous case with the same parameters. \n",
    "\n",
    "Nx=50\n",
    "xmin=0.0\n",
    "xmax=8.0\n",
    "x=np.linspace(xmin,xmax,Nx)\n",
    "\n",
    "a=2.0\n",
    "Afact=1.0\n",
    "\n",
    "#uf0=0.0\n",
    "#ud0=Afact*a\n",
    "uf0=Afact\n",
    "ud0=0.0\n",
    "\n",
    "#Define the functions gf and ff. \n",
    "#These are called from within the Euler and RK functions. They need to have the\n",
    "#same names as used in those functions.They need to have the same number of arguments.\n",
    "#The variable names can be different.\n",
    "\n",
    "def gf(x,uf,ud):\n",
    "    A = 0\n",
    "    B = -4\n",
    "    C = 0\n",
    "    D = 0\n",
    "    return A + (B * uf) + (C * ud) + (D * (ud**2))\n",
    "\n",
    "def ff(x,uf,ud):\n",
    "    return ud\n",
    "\n",
    "# The true (exact) solution in terms of the boundary conditions\n",
    "Aconst=ud0/a\n",
    "Bconst=uf0\n",
    "utrue=Aconst*np.sin(a*x)+Bconst*np.cos(a*x)\n",
    "\n",
    "# Find the solution using Euler method\n",
    "\n",
    "ufn=ode2_euler(Nx,xmin,xmax,uf0,ud0)\n",
    "\n",
    "# Find the solution using the Runge-Kutta (4th order) method\n",
    "\n",
    "uf2f=ode2_rk4(Nx, xmin, xmax, uf0, ud0)\n",
    "\n",
    "#Compare the solutions\n",
    "\n",
    "plt.plot(x,ufn,'go--', label=\"Euler\")               \n",
    "plt.plot(x,uf2f,'bo--', label=\"RK4\")\n",
    "plt.plot(x,utrue,'r-', label=\"Exact\")\n",
    "plt.legend()\n",
    "plt.show()\n",
    "\n"
   ]
  },
  {
   "cell_type": "markdown",
   "metadata": {
    "colab_type": "text",
    "id": "mJ4h3gu-ZnQg"
   },
   "source": [
    "## Problem 3\n",
    "\n",
    "In Lab 4, you solved for the motion of a mass $m$ attached to a spring encountering some friction using Taylor expansion. The equation you considered was of the form:\n",
    "$$ m\\frac{d^2x}{dt^2} = -kx -c \\frac{dx}{dt}$$\n",
    "where $m=1$, $k=1$, $c=0.5$, the duration of motion was 50 seconds ($0 \\le t \\le 50$), and you solved for the position $x(t)$ of the mass.  \n",
    "\n",
    "In this Lab, you will solve the above differential equation using the Euler and RK functions you have developed.\n",
    "\n",
    "The initial conditions are $x(0)=2$ and $\\frac{dx}{dt} (0)=0$. Use Nx=1000. \n",
    "\n",
    "**Hint**: Utilize the method and functions developed in Problem 2. \"Map\" this problem's equation to Eq. (10) by identifying the proper constants (A, B, C, D).\n",
    "\n",
    "**Important note on variables' notation**: The Euler and RK methods were explained with the independent variable $x$ and dependent variable $u$. In this problem, the independent variable is time $t$ and the dependent variable (the position) is $x$. Regarding notation, in your code, you can continue using $x$ and $u$ or switch to $t$ and $x$.\n"
   ]
  },
  {
   "cell_type": "code",
   "execution_count": 56,
   "metadata": {},
   "outputs": [
    {
     "data": {
      "image/png": "[encoded data removed]",
      "text/plain": [
       "<Figure size 432x288 with 1 Axes>"
      ]
     },
     "metadata": {
      "needs_background": "light"
     },
     "output_type": "display_data"
    }
   ],
   "source": [
    "# Redo the sine/cosine function with the RK method\n",
    "# g(x,u,v) = -a**2 u, f(x,u,v) = v\n",
    "# Apply this for Nx=50, xmax=8.0, and compare to previous case with the same parameters. \n",
    "\n",
    "Nx=1000\n",
    "xmin=0.0\n",
    "xmax=50.0\n",
    "x=np.linspace(xmin,xmax,Nx)\n",
    "\n",
    "Afact=2.0\n",
    "\n",
    "#uf0=0.0\n",
    "#ud0=Afact*a\n",
    "uf0=Afact\n",
    "ud0=0.0\n",
    "\n",
    "#Define the functions gf and ff. \n",
    "#These are called from within the Euler and RK functions. They need to have the\n",
    "#same names as used in those functions.They need to have the same number of arguments.\n",
    "#The variable names can be different.\n",
    "\n",
    "def gf(x,uf,ud):\n",
    "    A = 0\n",
    "    B = -1\n",
    "    C = -.5\n",
    "    D = 0\n",
    "    return A + (B * uf) + (C * ud) + (D * (ud**2))\n",
    "\n",
    "def ff(x,uf,ud):\n",
    "    return ud\n",
    "\n",
    "# Find the solution using Euler method\n",
    "\n",
    "ufn=ode2_euler(Nx,xmin,xmax,uf0,ud0)\n",
    "\n",
    "# Find the solution using the Runge-Kutta (4th order) method\n",
    "\n",
    "uf2f=ode2_rk4(Nx, xmin, xmax, uf0, ud0)\n",
    "\n",
    "#plt.plot(x,ufn,'go--', label=\"Euler\")               \n",
    "plt.plot(x,uf2f,'bo--', label=\"RK4\")\n",
    "#plt.plot(x,utrue,'r-', label=\"Exact\")\n",
    "#plt.plot(t_array, x, 'r-', label='Exact')\n",
    "plt.legend()\n",
    "plt.show()"
   ]
  },
  {
   "cell_type": "code",
   "execution_count": null,
   "metadata": {},
   "outputs": [],
   "source": [
    "\n"
   ]
  },
  {
   "cell_type": "code",
   "execution_count": null,
   "metadata": {},
   "outputs": [],
   "source": []
  }
 ],
 "metadata": {
  "anaconda-cloud": {},
  "colab": {
   "name": "AM10_spring_2020_L8_lab_deliver.ipynb",
   "provenance": []
  },
  "kernelspec": {
   "display_name": "Python 3",
   "language": "python",
   "name": "python3"
  },
  "language_info": {
   "codemirror_mode": {
    "name": "ipython",
    "version": 3
   },
   "file_extension": ".py",
   "mimetype": "text/x-python",
   "name": "python",
   "nbconvert_exporter": "python",
   "pygments_lexer": "ipython3",
   "version": "3.7.3"
  }
 },
 "nbformat": 4,
 "nbformat_minor": 2
}
