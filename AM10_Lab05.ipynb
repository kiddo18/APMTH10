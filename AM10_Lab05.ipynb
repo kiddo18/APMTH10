{
 "cells": [
  {
   "cell_type": "code",
   "execution_count": null,
   "metadata": {},
   "outputs": [],
   "source": [
    "import numpy as np\n",
    "import matplotlib.pyplot as plt"
   ]
  },
  {
   "cell_type": "markdown",
   "metadata": {},
   "source": [
    "# Applied Math 10: Computing for Science and Engineering\n",
    "\n",
    "## Lab 5 : Elementary - Finding Roots\n",
    "\n",
    "**Spring 2020**\n",
    "\n",
    "---"
   ]
  },
  {
   "cell_type": "markdown",
   "metadata": {},
   "source": [
    "### Learning Goals of Lab \n",
    "\n",
    "An important feature of functions is the values of the argument where the function becomes zero, called a `root'. \n",
    "\n",
    "By the end of this lab, you will be able to perform the following operations:\n",
    "- Bracketing roots\n",
    "- Estimating roots using Bisection \n",
    "- Use a more accurate method to find the roots, Newton-Raphson method"
   ]
  },
  {
   "cell_type": "code",
   "execution_count": null,
   "metadata": {},
   "outputs": [],
   "source": [
    "# Here we define the function that we will be using to find its roots\n",
    "def fofx(x):\n",
    "    y = (x - 1.0) * (x - 2.0) * (x - 3.0) * (x - 4.0)\n",
    "# another choice\n",
    "#    y = np.sin(x) - x/2.0\n",
    "    return y\n"
   ]
  },
  {
   "cell_type": "code",
   "execution_count": null,
   "metadata": {},
   "outputs": [],
   "source": [
    "# Here we plot the function, and a horizontal line (dashed) to help visualize \n",
    "#  where the roots occur\n",
    "xmin = 0\n",
    "xmax = 5\n",
    "npoints = 40\n",
    "x = np.linspace(xmin, xmax, npoints)\n",
    "fig, ax = plt.subplots(figsize=(10,6))\n",
    "ax.plot(x, fofx(x), color='b', marker='', linestyle='-')\n",
    "ax.plot([xmin, xmax], [0, 0], color='k', marker='', linestyle=':')\n",
    "ax.set_xlabel('x')\n",
    "ax.set_ylabel('f(x)')\n",
    "plt.show(fig)"
   ]
  },
  {
   "cell_type": "markdown",
   "metadata": {},
   "source": [
    "#### 1. Bracketing\n",
    "\n",
    "A root is bracketed in an interval $(a, b)$ if the function changes sign over that interval, i.e., $f(a)$ and $f(b)$ have opposite signs.\n",
    "\n",
    "**Exercise 1** \n",
    "\n",
    "Create a function called `bracket()` to bracket the roots of a given mathematical function. The inputs arguments of `bracket()` should be \n",
    "\n",
    "1. independent variable defined in the range in which we want to find roots\n",
    "2. the values of the function in this interval\n",
    "\n",
    "The `bracket()` function should return a list of all the brackets found in the provided range and print the number of zero-crossings (i.e. roots) found. \n",
    "\n",
    "Once you have written the `bracket()` function test it on the above function."
   ]
  },
  {
   "cell_type": "code",
   "execution_count": null,
   "metadata": {},
   "outputs": [],
   "source": [
    "# Template for your code\n",
    "\n",
    "def bracket(x,my_fun):\n",
    "     ''' This code does the following: \n",
    "         1) define arrays for the bracket intervals, called \"bracket_a\" and \"bracket_b\"\n",
    "         2) iterate through all values of my_fun, to find where the function changes sign\n",
    "         3) save the values of x between which the value of my_fun changes sign to the \n",
    "         arrays bracket_a, bracket_b\n",
    "         4) keep track of the number of brackets (and roots) you found\n",
    "         5) return the number of roots, \"num_root\", and the brackets\n",
    "         6) print this information (num_roots, bracket_a, bracket_b) in a neat way\n",
    "         '''\n",
    "# my code here\n",
    "\n",
    "    return num_root, bracket_a, bracket_b"
   ]
  },
  {
   "cell_type": "code",
   "execution_count": null,
   "metadata": {},
   "outputs": [],
   "source": [
    "# Now use the bracket function to find the brackets of the roots for the\n",
    "#  function defined earlier in function \"fofx\"\n",
    "# We make this into a function so we can use it again later\n",
    "\n",
    "def bracket_plot(fofx,xmin,xmax,Nx):\n",
    "    x = np.linspace(xmin, xmax, Nx)\n",
    "\n",
    "    num_root, bracket_a, bracket_b = bracket(x, fofx)\n",
    "\n",
    "    fig1, ax1 = plt.subplots(figsize=(10,6))\n",
    "    ax1.plot(x, fofx(x), color='b', marker='', linestyle='-')\n",
    "    ax1.plot([xmin, xmax], [0, 0], color='k', marker='', linestyle=':')\n",
    "    for n in range(num_root):\n",
    "        ax1.plot(bracket_a[n],fofx(bracket_a[n]), 'r+', markersize=15)\n",
    "        ax1.plot(bracket_b[n],fofx(bracket_b[n]), 'r+', markersize=15)\n",
    "    ax1.set_ylim(-2, 2)\n",
    "    ax1.set_xlabel('x')\n",
    "    ax1.set_ylabel('f(x)')\n",
    "    plt.show(fig1)\n",
    "    \n",
    "    return num_root, bracket_a, bracket_b"
   ]
  },
  {
   "cell_type": "markdown",
   "metadata": {},
   "source": [
    "#### 2. Bisection\n",
    "\n",
    "In a given bracket $[a,b]$, we'd like to know the root with greater precision.\n",
    "\n",
    "The first check is to see if at the midpoint $c = (a+b)/2$ we already have a good estimate \n",
    "of the root, that is, $f(c) \\approx 0$, with some precision that we call \"epsilon\"\n",
    "$(\\epsilon)$, in other words, \n",
    "$$f(c) = 0 \\pm \\epsilon.$$\n",
    "If this is the case we are done. If not, we bisect the interval to lower-half and upper-half, and we check the same again, until we get the root within the desired precision. To do this, we figure out for with which end-point of the interval $[a,b]$, te function $f(a)$, $f(b)$ has the same sign as at the midpoint $f(c)$. We then choose as our new, half interval, the mid-point and the other end point, because the function changes sign between the mid-point and this other end-point."
   ]
  },
  {
   "cell_type": "markdown",
   "metadata": {},
   "source": [
    "**Exercise 2** \n",
    "\n",
    "Complete the code below to create the `bisection()` function. \n",
    "\n",
    "The input arguments for this function should be:\n",
    "\n",
    "1. a function the describes the mathematical expression whose roots we want to obtain, \n",
    "2. the interval, $a$, $b$, in which the root exists, and \n",
    "3. the precision tolerance $\\epsilon$ value at which the iteration loop should stop\n",
    "4. the maximum number of iterations we are willing to accept to get to the desired precision tolerance\n",
    "\n",
    "The output arguments for this function should be:\n",
    "\n",
    "1. the closest value to the root obtained (should be a value smaller than the precision tolerance $\\epsilon$)\n",
    "2. the number of iterations it took to get this value\n",
    "3. the value of the argument $x$ where the root occurs\n",
    "\n",
    "Once you have written the `bisection` function use it to find the roots in all the brackets identified for the function defined above."
   ]
  },
  {
   "cell_type": "code",
   "execution_count": null,
   "metadata": {},
   "outputs": [],
   "source": [
    "def bisection(my_fun, a, b, prec_eps,niter_max):\n",
    "    ''' Make sure you put here comments about the input \n",
    "            and output of your code\n",
    "        Make sure that your code has \"if\" and \"break\" statements \n",
    "            that allow it to stop if it exceeds the maximum number of \n",
    "            iterations allowed\n",
    "    '''\n",
    "# your code here\n",
    "\n",
    "    return root_check, niter, ccur"
   ]
  },
  {
   "cell_type": "code",
   "execution_count": null,
   "metadata": {},
   "outputs": [],
   "source": [
    "fig1, ax1 = plt.subplots(figsize=(10,6))\n",
    "ax1.plot(x, fofx(x), color='b', marker='', linestyle='-')\n",
    "ax1.plot([xmin, xmax], [0, 0], color='k', marker='', linestyle=':')\n",
    "for n in range(num_root):\n",
    "    ax1.plot(cfin[n], fofx(cfin[n]), 'ro', markersize=10)\n",
    "ax1.set_ylim(-2, 2)\n",
    "ax1.set_xlabel('x')\n",
    "ax1.set_ylabel('f(x)')\n",
    "plt.show(fig1)"
   ]
  },
  {
   "cell_type": "markdown",
   "metadata": {},
   "source": [
    "#### 3. Newton-Raphson \n",
    "\n",
    "This method was covered in lecture. It uses an initial guess and the Taylor expansion, to approximate the function as linear near the root, and in successive iterations approaches this root. The basic equation is:\n",
    "\n",
    "\\begin{equation}\n",
    "x_{n+1} = x_{n} - \\frac{f(x_n)}{f'(x_n)}\n",
    "\\end{equation}\n",
    "\n",
    "**Exercise 3:**\n",
    "\n",
    "Write a function called `newton_raphson()` that implements this method. \n",
    "\n",
    "The function should take as input:\n",
    "\n",
    "1. the name of the function whose roots you want to calculate\n",
    "2. the ininitesimal dx used to calculate the derivatives of the function, using the three-point formula we learned before\n",
    "3. an initial guess of the vlaue of $x$ where the root occurs \n",
    "4. the precision tolerance for the value of the roots (a small number)\n",
    "5. the number of iterations we are willing to make to converge to the roots with the desired precision tolerance\n",
    "\n",
    "The function should give as output:\n",
    "\n",
    "1. the value of $x$ where the root occurs\n",
    "2. the value of the function at this estimate of the root\n",
    "3. the number of iterations it took to get to this value\n"
   ]
  },
  {
   "cell_type": "code",
   "execution_count": null,
   "metadata": {},
   "outputs": [],
   "source": [
    "def newton_raphson(my_fun, x1, dx, prec_eps, niter_max):\n",
    "''' Make sure you put here comments about the input \n",
    "        and output of your code\n",
    "    Make sure that your code has \"if\" and \"break\" statements \n",
    "        that allow it to stop if it exceeds the maximum number of \n",
    "        iterations allowed\n",
    "    Also make sure the derivative is not too small a number, because \n",
    "        you are dividing by the derivative \n",
    "    '''\n",
    "# your code here\n",
    "\n",
    "    return xn, my_fun(xn), niter"
   ]
  },
  {
   "cell_type": "markdown",
   "metadata": {},
   "source": [
    "### Problem 1\n",
    "\n",
    "We want to apply the methods described above to find the roots of the following function:\n",
    "\n",
    "\\begin{equation}\n",
    "g(x) = x^6 - x - 1\n",
    "\\end{equation}\n",
    "\n",
    "First, bracket the roots.\n",
    "Then, use bisection to find approximations to the roots.\n",
    "Finally, use Newton-Raphson to find the roots to high precision."
   ]
  },
  {
   "cell_type": "markdown",
   "metadata": {},
   "source": [
    "### Problem 2\n",
    "\n",
    "Repeat the same process for the following function:\n",
    "\n",
    "\\begin{equation}\n",
    "h(x) = \\sin{x^6}\n",
    "\\end{equation}\n",
    "\n",
    "in the interval $x \\in [1,2]$, with a precision tolerance of $10^{-13}$.\n",
    "\n",
    "**Attention:** \n",
    "This function has many roots in this interval. To make sure you get all the roots bracketed you should start with some number of points Nx and keep increasing it until the number of roots does not change any more.\n",
    "\n",
    "Finally, compare the results from the bisection and the Newton-Raphson method.\n"
   ]
  },
  {
   "cell_type": "code",
   "execution_count": null,
   "metadata": {},
   "outputs": [],
   "source": []
  }
 ],
 "metadata": {
  "anaconda-cloud": {},
  "kernelspec": {
   "display_name": "Python 3",
   "language": "python",
   "name": "python3"
  },
  "language_info": {
   "codemirror_mode": {
    "name": "ipython",
    "version": 3
   },
   "file_extension": ".py",
   "mimetype": "text/x-python",
   "name": "python",
   "nbconvert_exporter": "python",
   "pygments_lexer": "ipython3",
   "version": "3.6.2"
  }
 },
 "nbformat": 4,
 "nbformat_minor": 2
}
