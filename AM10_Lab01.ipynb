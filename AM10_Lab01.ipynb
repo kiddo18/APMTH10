{
 "cells": [
  {
   "cell_type": "markdown",
   "metadata": {},
   "source": [
    "# Applied Math 10: Computing for Science and Engineering\n",
    "\n",
    "## Lab 1 : Basics - Introduction to Python\n",
    "\n",
    "**Spring 2020**\n",
    "\n",
    "---"
   ]
  },
  {
   "cell_type": "markdown",
   "metadata": {},
   "source": [
    "### Structure of the labs\n",
    "The labs for this class are designed to guide you through experimenting with code on your own. The labs have examples and exercises that we will go through during the lab time and a few problems at the end that you have to work on, on your own. We encourage you to collaborate with your peers however each one of you has to submit your own notebook to get credit.\n",
    "\n",
    "### Learning Goals of Lab \n",
    "\n",
    "By the end of this lab, you will feel familiar with:\n",
    "- The basics of python syntax in the context of numeric applications\n",
    "- Importing the `numpy` library and using it for basic numerical calculations"
   ]
  },
  {
   "cell_type": "markdown",
   "metadata": {},
   "source": [
    "### A very brief introduction to Python\n",
    "\n",
    "As [Wikipedia puts it](https://en.wikipedia.org/wiki/Python_(programming_language)), Python is an interpreted, high-level, general-purpose programming language. Python compels its user to follow a distinct style emphasizing code readability. The most apparent example is the use of whitespace indentation instead of brackets, braces, or heavy use of punctuation marks. It is a style that slowly grows on you. So, if you feel constrained by it, give Python a chance and you most likely will start enjoying it. Afterall, Python is the worlds most popular programming language [according to GitHub](http://pypl.github.io/PYPL.html).\n",
    "\n",
    "Being an open-source language it is being made more and more useful through all the immensity of libraries and modules that extend its functionality way beyond what comes built-in. Using these modules is often as easy as typing `import <module_name>`. On a different note, like any open-source project Python has its share of frivolous in-jokes, such as the two below. "
   ]
  },
  {
   "cell_type": "code",
   "execution_count": null,
   "metadata": {},
   "outputs": [],
   "source": [
    "import this"
   ]
  },
  {
   "cell_type": "code",
   "execution_count": null,
   "metadata": {},
   "outputs": [],
   "source": [
    "import antigravity"
   ]
  },
  {
   "cell_type": "markdown",
   "metadata": {},
   "source": [
    "So, without more ado, let's begin our journey of Computing for Science and Engineering using Python."
   ]
  },
  {
   "cell_type": "markdown",
   "metadata": {},
   "source": [
    "### 1. Basic Built-in Python Syntax"
   ]
  },
  {
   "cell_type": "markdown",
   "metadata": {
    "colab_type": "text",
    "id": "7AijFOYtQ-9R"
   },
   "source": [
    "#### 1.1 Hello, World!\n",
    "\n",
    "Let's start with the classic program that is traditionally used to introduce any language; printing the letters `Hello, World!` on the screen. This is as simple as typing print followed by round brackets containing the string Hello, World! Try it..."
   ]
  },
  {
   "cell_type": "code",
   "execution_count": null,
   "metadata": {
    "colab": {},
    "colab_type": "code",
    "id": "oT-p1YkareP0"
   },
   "outputs": [],
   "source": [
    "# Type in the text inside the angled brackets <print(\"Hello, World!\")>\n",
    "print(\"Hello, World!\")"
   ]
  },
  {
   "cell_type": "markdown",
   "metadata": {},
   "source": [
    "#### 1.2 Forced Indentation\n",
    "As mentioned earlier, Python forces a certain style of programming that is driven by using whitespace indentation instead of using brackets. You can use spaces or tabs for indentation depending on your personal preference. As a consequence, Python code generally looks more organized. Run the cell below and see the results. How do you fix the problem?"
   ]
  },
  {
   "cell_type": "code",
   "execution_count": 1,
   "metadata": {},
   "outputs": [
    {
     "ename": "IndentationError",
     "evalue": "unexpected indent (<ipython-input-1-f415ffdbbfe2>, line 2)",
     "output_type": "error",
     "traceback": [
      "\u001b[0;36m  File \u001b[0;32m\"<ipython-input-1-f415ffdbbfe2>\"\u001b[0;36m, line \u001b[0;32m2\u001b[0m\n\u001b[0;31m    print(\"Goodbye, World!\")\u001b[0m\n\u001b[0m    ^\u001b[0m\n\u001b[0;31mIndentationError\u001b[0m\u001b[0;31m:\u001b[0m unexpected indent\n"
     ]
    }
   ],
   "source": [
    "print(\"Hello, World!\")\n",
    "    print(\"Goodbye, World!\")"
   ]
  },
  {
   "cell_type": "code",
   "execution_count": 2,
   "metadata": {},
   "outputs": [
    {
     "name": "stdout",
     "output_type": "stream",
     "text": [
      "Hello, World!\n",
      "Goodbye, World!\n"
     ]
    }
   ],
   "source": [
    "# Type (or copy) the above code without the error\n",
    "print(\"Hello, World!\")\n",
    "print(\"Goodbye, World!\")"
   ]
  },
  {
   "cell_type": "markdown",
   "metadata": {
    "colab_type": "text",
    "id": "u1zVoc1nrXDe"
   },
   "source": [
    "#### 1.2 Variables\n",
    "Nearly always the first step in any numerical calculation is to create variables and assign values to them. "
   ]
  },
  {
   "cell_type": "code",
   "execution_count": 22,
   "metadata": {
    "colab": {},
    "colab_type": "code",
    "id": "UNZEeYFcQ7al"
   },
   "outputs": [
    {
     "name": "stdout",
     "output_type": "stream",
     "text": [
      "Hello World\n"
     ]
    }
   ],
   "source": [
    "# Assigning strings to variables\n",
    "a = \"Hello\"\n",
    "b = \"World\"\n",
    "print(a,b)"
   ]
  },
  {
   "cell_type": "code",
   "execution_count": 17,
   "metadata": {},
   "outputs": [
    {
     "name": "stdout",
     "output_type": "stream",
     "text": [
      "(4+7j)\n"
     ]
    }
   ],
   "source": [
    "# Assigning numeric values to variables\n",
    "a = 3\n",
    "b = 1\n",
    "c = 4 + 7j\n",
    "print(c)"
   ]
  },
  {
   "cell_type": "code",
   "execution_count": 4,
   "metadata": {},
   "outputs": [
    {
     "name": "stdout",
     "output_type": "stream",
     "text": [
      "2 3 4\n"
     ]
    }
   ],
   "source": [
    "# Single line, multiple assignments\n",
    "c,d,e = 2,3,4\n",
    "print(c,d,e)"
   ]
  },
  {
   "cell_type": "markdown",
   "metadata": {},
   "source": [
    "We can also assign values to variables by prompting the user to enter them. Execute the code below to see this in action."
   ]
  },
  {
   "cell_type": "code",
   "execution_count": 1,
   "metadata": {},
   "outputs": [
    {
     "name": "stdout",
     "output_type": "stream",
     "text": [
      "Enter the number 5:5\n",
      "5\n"
     ]
    }
   ],
   "source": [
    "x_user = input(\"Enter the number 5:\")\n",
    "print(x_user)"
   ]
  },
  {
   "cell_type": "markdown",
   "metadata": {},
   "source": [
    "Python reserves some names to be keywords and using these reserved keywords as variable names will result in Exceptions. Run the cell below to list all the reserved keywords."
   ]
  },
  {
   "cell_type": "code",
   "execution_count": 7,
   "metadata": {},
   "outputs": [
    {
     "name": "stdout",
     "output_type": "stream",
     "text": [
      "['False', 'None', 'True', 'and', 'as', 'assert', 'async', 'await', 'break', 'class', 'continue', 'def', 'del', 'elif', 'else', 'except', 'finally', 'for', 'from', 'global', 'if', 'import', 'in', 'is', 'lambda', 'nonlocal', 'not', 'or', 'pass', 'raise', 'return', 'try', 'while', 'with', 'yield']\n"
     ]
    }
   ],
   "source": [
    "from keyword import kwlist\n",
    "print(kwlist)"
   ]
  },
  {
   "cell_type": "markdown",
   "metadata": {
    "colab_type": "text",
    "id": "Vl2EFaVgR-Sa"
   },
   "source": [
    "#### 1.3 Numerical Operations\n",
    "\n",
    "Python has all the basic numerical operations built-in as shown below. However, the `numpy` module extends the capabilities of Pythons specifically for computing in scientific and engineering applications. We will rely heavily on the `numpy` module for this course."
   ]
  },
  {
   "cell_type": "code",
   "execution_count": 8,
   "metadata": {
    "colab": {},
    "colab_type": "code",
    "id": "sjliqZo4SRxy"
   },
   "outputs": [
    {
     "data": {
      "text/plain": [
       "10"
      ]
     },
     "execution_count": 8,
     "metadata": {},
     "output_type": "execute_result"
    }
   ],
   "source": [
    "# Addition\n",
    "7 + 3"
   ]
  },
  {
   "cell_type": "code",
   "execution_count": 9,
   "metadata": {
    "colab": {},
    "colab_type": "code",
    "id": "zabeBzYWehvT"
   },
   "outputs": [
    {
     "data": {
      "text/plain": [
       "4"
      ]
     },
     "execution_count": 9,
     "metadata": {},
     "output_type": "execute_result"
    }
   ],
   "source": [
    "# Subtraction\n",
    "7 - 3"
   ]
  },
  {
   "cell_type": "code",
   "execution_count": 10,
   "metadata": {
    "colab": {},
    "colab_type": "code",
    "id": "T7bTAp_7eWBg"
   },
   "outputs": [
    {
     "data": {
      "text/plain": [
       "21"
      ]
     },
     "execution_count": 10,
     "metadata": {},
     "output_type": "execute_result"
    }
   ],
   "source": [
    "# Multiplication\n",
    "7 * 3"
   ]
  },
  {
   "cell_type": "code",
   "execution_count": 11,
   "metadata": {
    "colab": {},
    "colab_type": "code",
    "id": "HOP4jg9ceY0g"
   },
   "outputs": [
    {
     "data": {
      "text/plain": [
       "2.3333333333333335"
      ]
     },
     "execution_count": 11,
     "metadata": {},
     "output_type": "execute_result"
    }
   ],
   "source": [
    "# Division\n",
    "7 / 3"
   ]
  },
  {
   "cell_type": "code",
   "execution_count": 2,
   "metadata": {
    "colab": {},
    "colab_type": "code",
    "id": "KCx0ZFRGnwuE"
   },
   "outputs": [
    {
     "data": {
      "text/plain": [
       "3"
      ]
     },
     "execution_count": 2,
     "metadata": {},
     "output_type": "execute_result"
    }
   ],
   "source": [
    "# Quotient from floor division \n",
    "7 // 2"
   ]
  },
  {
   "cell_type": "code",
   "execution_count": 13,
   "metadata": {
    "colab": {},
    "colab_type": "code",
    "id": "MrkGnEhLecCx"
   },
   "outputs": [
    {
     "data": {
      "text/plain": [
       "1"
      ]
     },
     "execution_count": 13,
     "metadata": {},
     "output_type": "execute_result"
    }
   ],
   "source": [
    "# Modulo\n",
    "7 % 3"
   ]
  },
  {
   "cell_type": "code",
   "execution_count": 15,
   "metadata": {
    "colab": {},
    "colab_type": "code",
    "id": "Z_Ts5ZwbfWz1"
   },
   "outputs": [
    {
     "data": {
      "text/plain": [
       "8"
      ]
     },
     "execution_count": 15,
     "metadata": {},
     "output_type": "execute_result"
    }
   ],
   "source": [
    "# Power\n",
    "x = 2\n",
    "x ** 3"
   ]
  },
  {
   "cell_type": "markdown",
   "metadata": {},
   "source": [
    "**Exercise 1.1**  Suppose a line passes through the following two points (4, 22) and (8, 30). Write a python code to calculate the slope ($m$) of that line and print it to the screen.\n",
    "\n",
    "*Hint:* \n",
    "\\begin{equation}\n",
    "m = \\frac{y_2-y_1}{x_2-x_1}\n",
    "\\end{equation}"
   ]
  },
  {
   "cell_type": "code",
   "execution_count": 16,
   "metadata": {},
   "outputs": [
    {
     "name": "stdout",
     "output_type": "stream",
     "text": [
      "2.0\n"
     ]
    }
   ],
   "source": [
    "# Solution\n",
    "x1, y1 = 4, 22\n",
    "x2, y2 = 8, 30\n",
    "\n",
    "m = (y2 - y1) / (x2 - x1)\n",
    "print(m)"
   ]
  },
  {
   "cell_type": "markdown",
   "metadata": {},
   "source": [
    "**Exercise 1.2** Write code below that prompts the user to enter two numbers and then performs the following operations on them: addition, subtraction, multiplication, division, and modulo. Print the outputs from each of these operations."
   ]
  },
  {
   "cell_type": "code",
   "execution_count": null,
   "metadata": {},
   "outputs": [],
   "source": [
    "# Solution\n",
    "xuser = int(input(\"Enter the number 5:\"))\n",
    "print(xuser)"
   ]
  },
  {
   "cell_type": "markdown",
   "metadata": {
    "colab_type": "text",
    "id": "UhDOKtK3rCEF"
   },
   "source": [
    "#### 1.4 Logical Operations\n",
    "Just like numeric operations, Python has built-in logical operations as well, i.e., less than, greater than, equal to etc. The result of a logical operation is always a Boolean value, i.e., either `True` or `False`."
   ]
  },
  {
   "cell_type": "code",
   "execution_count": null,
   "metadata": {
    "colab": {},
    "colab_type": "code",
    "id": "HiX8W7iBrBNn"
   },
   "outputs": [],
   "source": []
  },
  {
   "cell_type": "markdown",
   "metadata": {},
   "source": [
    "### 2 Python Libraries and modules"
   ]
  },
  {
   "cell_type": "markdown",
   "metadata": {
    "colab_type": "text",
    "id": "FvKrI0m5iBsM"
   },
   "source": [
    "Basic numerical operations like addition, division, multiplication, etc are build-in functions as you have seen above. For more advanced mathematical operations such as logs, square roots, etc, we can import Python libraries that include such function. One such library (or module, often used interchangably) is the `math` module. However, for science and engineering applications, the library `numpy` (and `scipy` for advanced integration and optimization functions) is much more powerful. In this course, we focus almost exclusively on using `numpy`. In a a few advanced labs later in the course, we will also encounter a few functions from `scipy`, however, one can always just use `numpy` to write their own functions that perform the same calculations, which is what you will learn to also do in this course.\n",
    "\n",
    "To import a library or module, simply use the statement `import <module name>`. Say, we import a fictitious module called `applmath10py` that contains a function `lab1`, then we can call the functions or classes defined in that module by using the `.` operator, as follows, `applmath10py.lab1`. Now, if you would like to use a number of such function from `applmath10py` and quite frequently, it is wasteful to keep typing the entire module name. So, Python has a keyword `as`, which you can find in the reserved keyword list that allows you to rename the module to something shorter. So, we might write `import applmath10py as am10` and all subsequent calls to functions within the `applmath10py` module can now be called as follows, `am10.lab1`. \n",
    "\n",
    "For `numpy`, the traditional standard short name is `np`. So, we import `numpy` as follows."
   ]
  },
  {
   "cell_type": "code",
   "execution_count": 2,
   "metadata": {
    "colab": {},
    "colab_type": "code",
    "id": "vs7XXP39hyf-"
   },
   "outputs": [],
   "source": [
    "# importing numpy\n",
    "import numpy as np"
   ]
  },
  {
   "cell_type": "markdown",
   "metadata": {},
   "source": [
    "Let's now use some commonly used basic functions from `numpy`."
   ]
  },
  {
   "cell_type": "markdown",
   "metadata": {
    "colab_type": "text",
    "id": "21sNqmVD8PjL"
   },
   "source": [
    "#### 2.1 Powers and Roots"
   ]
  },
  {
   "cell_type": "code",
   "execution_count": 21,
   "metadata": {
    "colab": {},
    "colab_type": "code",
    "id": "v3-wkQ6MlmF0"
   },
   "outputs": [
    {
     "name": "stdout",
     "output_type": "stream",
     "text": [
      "3.0\n"
     ]
    }
   ],
   "source": [
    "# square root\n",
    "a = 9\n",
    "print(np.sqrt(a))"
   ]
  },
  {
   "cell_type": "code",
   "execution_count": null,
   "metadata": {
    "colab": {},
    "colab_type": "code",
    "id": "Ywwb53RDmCoV"
   },
   "outputs": [],
   "source": [
    "# exponential\n"
   ]
  },
  {
   "cell_type": "code",
   "execution_count": 16,
   "metadata": {},
   "outputs": [
    {
     "name": "stdout",
     "output_type": "stream",
     "text": [
      "9\n"
     ]
    }
   ],
   "source": [
    "# powers\n",
    "x = 3\n",
    "y = 2\n",
    "z = np.power(x,y)\n",
    "print(z)"
   ]
  },
  {
   "cell_type": "markdown",
   "metadata": {
    "colab_type": "text",
    "id": "TDOVbKRrIvmG"
   },
   "source": [
    "#### 2.2 Trigonometric Functions"
   ]
  },
  {
   "cell_type": "code",
   "execution_count": null,
   "metadata": {},
   "outputs": [],
   "source": [
    "# sines, cosine, tangents\n"
   ]
  },
  {
   "cell_type": "markdown",
   "metadata": {},
   "source": [
    "**Exercise 2.1** Using `numpy` calculate the value of the function below for $x=\\pi/4$ and $x=60$ degrees, and print the result.\n",
    "\\begin{equation}\n",
    "f(x) = x^3\\sin{x}\n",
    "\\end{equation}\n",
    "*Hint:* To convert from $\\theta$ degrees to $\\omega$ radians, use $\\omega = \\theta \\pi/180$, or use the `numpy` function `radians`."
   ]
  },
  {
   "cell_type": "code",
   "execution_count": null,
   "metadata": {},
   "outputs": [],
   "source": [
    "# Solution\n"
   ]
  },
  {
   "cell_type": "markdown",
   "metadata": {},
   "source": [
    "Finally, it is important to note that we have not even talked about one of the most powerful object in `numpy`, which is the array. The next lecture and lab will be devoted to working with arrays in `numpy`."
   ]
  },
  {
   "cell_type": "markdown",
   "metadata": {},
   "source": [
    "### Problem 1\n",
    "Write code to calculate the value of the function below for $x=2.4$. The user should be prompted to enter a real number as the second variable, $y$. Print the output of the calculation. Then compare whether the absolute value of the output is greater than 500 and print the result.\n",
    "\\begin{equation}\n",
    "f(x, y) = x^y\\exp{y} \n",
    "\\end{equation}"
   ]
  },
  {
   "cell_type": "code",
   "execution_count": 19,
   "metadata": {},
   "outputs": [
    {
     "name": "stdout",
     "output_type": "stream",
     "text": [
      "Enter a real number as the second variable: 2\n",
      "Is the absolute value of output greater than 500: False\n"
     ]
    }
   ],
   "source": [
    "x = 2.4\n",
    "y = float(input(\"Enter a real number as the second variable: \"))\n",
    "\n",
    "ans = (np.power(x,y)) * (np.exp(y))\n",
    "print(\"Is the absolute value of output greater than 500:\", np.abs(ans) > 500)"
   ]
  },
  {
   "cell_type": "markdown",
   "metadata": {},
   "source": [
    "### Problem 2\n",
    "This problem has three parts. For each part, figure out what the code does and fix the errors. As the solution, write a print statement with text explaining what the code does at the end of the cell."
   ]
  },
  {
   "cell_type": "code",
   "execution_count": 9,
   "metadata": {},
   "outputs": [
    {
     "name": "stdout",
     "output_type": "stream",
     "text": [
      "Variable 1 = 1.4\n",
      "Code prints the value of var1\n"
     ]
    }
   ],
   "source": [
    "# Part A  \n",
    "var1 = (2 * (3 + 4) / 10)\n",
    "print('Variable 1 =', var1)\n",
    "\n",
    "print('Missing quotes')"
   ]
  },
  {
   "cell_type": "code",
   "execution_count": 21,
   "metadata": {},
   "outputs": [
    {
     "name": "stdout",
     "output_type": "stream",
     "text": [
      "Enter an integer: 5\n",
      "True\n",
      "Code evaluates whether the user's input is equal to the hypotenuse of a triangle whose sides are 3 units and 4 units \n"
     ]
    }
   ],
   "source": [
    "# Part B\n",
    "a = 3\n",
    "b = 4\n",
    "c_user = int(input(\"Enter an integer: \"))\n",
    "c = np.sqrt(b**2 + a**2)\n",
    "print(c_user == c)\n",
    "\n",
    "print(\"I forgot what I fixed, but it's fixed!\")"
   ]
  },
  {
   "cell_type": "code",
   "execution_count": 13,
   "metadata": {},
   "outputs": [
    {
     "name": "stdout",
     "output_type": "stream",
     "text": [
      "-80.53767779197439\n"
     ]
    }
   ],
   "source": [
    "# Part C\n",
    "x1, y1 = 10, 20\n",
    "x2, y2 = 8, 32\n",
    "m = (y2 - y1) / (x2 - x1)\n",
    "var2 = np.arctan(m) * 180 / np.pi\n",
    "print(var2)\n",
    "print(\"Code calculates the degrees of the angle between the line and x-axis\")\n",
    "print(\"np.pi instead of pi\")"
   ]
  },
  {
   "cell_type": "markdown",
   "metadata": {},
   "source": [
    "### Problem 3\n",
    "Say, you want to compare two numbers, $a=1.4\\times 10^{-8}$ and $b=1.37\\times 10^{-7}$, and output a boolean value depending on whether are within a certain tolerance ($\\epsilon=1\\times 10^{-7}$) of each other or not. Write code to perform the above."
   ]
  },
  {
   "cell_type": "code",
   "execution_count": 20,
   "metadata": {},
   "outputs": [
    {
     "name": "stdout",
     "output_type": "stream",
     "text": [
      "True\n"
     ]
    }
   ],
   "source": [
    "a = 1.4E-8\n",
    "b = 1.37E-7\n",
    "e = 1.0E7\n",
    "print(np.abs(a-b) <= e)"
   ]
  }
 ],
 "metadata": {
  "colab": {
   "collapsed_sections": [],
   "name": "lab1.ipynb",
   "provenance": [],
   "version": "0.3.2"
  },
  "kernelspec": {
   "display_name": "Python 3",
   "language": "python",
   "name": "python3"
  },
  "language_info": {
   "codemirror_mode": {
    "name": "ipython",
    "version": 3
   },
   "file_extension": ".py",
   "mimetype": "text/x-python",
   "name": "python",
   "nbconvert_exporter": "python",
   "pygments_lexer": "ipython3",
   "version": "3.7.3"
  }
 },
 "nbformat": 4,
 "nbformat_minor": 1
}
