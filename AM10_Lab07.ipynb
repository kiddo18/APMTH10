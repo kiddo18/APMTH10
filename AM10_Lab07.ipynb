{
 "cells": [
  {
   "cell_type": "code",
   "execution_count": 5,
   "metadata": {
    "colab": {},
    "colab_type": "code",
    "collapsed": true,
    "id": "DAT0P-h6LiZy",
    "jupyter": {
     "outputs_hidden": true
    }
   },
   "outputs": [],
   "source": [
    "import numpy as np\n",
    "import random as rd\n",
    "import matplotlib.pyplot as plt\n",
    "import time"
   ]
  },
  {
   "cell_type": "markdown",
   "metadata": {
    "colab_type": "text",
    "id": "_eWb79fRLiZ8"
   },
   "source": [
    "# Applied Math 10: Computing for Science and Engineering\n",
    "<br>\n",
    "\n",
    "## Lab 7 : Elementary - First-order Ordinary Differential Equations (ODEs)\n",
    "\n",
    "**Spring 2020**<br/>\n",
    "<br>\n",
    "**Instructor**: K. Indireshkumar (Kumar)<br/>\n",
    "**Material**: K. Indireshkumar (Kumar)"
   ]
  },
  {
   "cell_type": "markdown",
   "metadata": {
    "colab_type": "text",
    "id": "cznLLI5SLiZ-"
   },
   "source": [
    "### Learning Goals of Lab \n",
    "In this lab, we continue the work started in Lecture 7. Our objective in this lab is to:\n",
    "\n",
    "- explore the Runge-Kutta methods\n",
    "- write Python functions for all the methods of solving first order ODEs discussed in the class\n",
    "- solve a few ODEs "
   ]
  },
  {
   "cell_type": "markdown",
   "metadata": {
    "colab_type": "text",
    "id": "XolwMNC2Liaj"
   },
   "source": [
    "## Functions for Euler and modified Euler methods\n",
    "\n",
    "We will start by writing functions for all the methods discussed in lecture 7 generalizing the methods to a broader class of functions, i.e.\n",
    "$$ \\frac{du}{dx} = f(x,u) $$\n",
    "\n",
    "where $f(x,u)$ can be changed without modifying the core of the integration routine. "
   ]
  },
  {
   "cell_type": "markdown",
   "metadata": {
    "colab_type": "text",
    "id": "aQszgn5_bPEG"
   },
   "source": [
    "### Function for the Euler method:\n",
    "\n",
    "From Lecture 7, we note that:\n",
    "$$ \n",
    "u(x_{n+1}) = u(x_n) + \\Delta x \\cdot f(u(x_n), x_n)$$\n",
    "\n",
    "**Exercise 1: Fill in the missing code in the function for the Euler method**"
   ]
  },
  {
   "cell_type": "code",
   "execution_count": 6,
   "metadata": {
    "colab": {},
    "colab_type": "code",
    "collapsed": true,
    "id": "leH3bNwTLial",
    "jupyter": {
     "outputs_hidden": true
    }
   },
   "outputs": [],
   "source": [
    "def euler(Nx, xmin, xmax, uf0):\n",
    "    #Diff eqn of form: d(uf)/dx=ff(x,uf) \n",
    "    #Nx: Number of points to be used for integration\n",
    "    #xmin, xmax: Initial and final values of the independent variable (x)\n",
    "    #uf0: Initial value of the dependent variable at x=xmin\n",
    "    \n",
    "    #Assume the function f(u,x) is of form:\n",
    "    \n",
    "    #ff(x[n], uf[n])\n",
    "    \n",
    "    #For any function f(u,x) on the RHS, you need to provide\n",
    "    #a python function. For example, for the eigenfunction problem:\n",
    "    \n",
    "    #def ff(x, y):\n",
    "    #    a=2.0\n",
    "    #    dydx = a * y\n",
    "    #    return dydx\n",
    "    \n",
    "    #Define x\n",
    "    x = np.linspace(xmin, xmax, Nx)\n",
    "    #Calculate dx\n",
    "    dx = x[1] - x[0]\n",
    "    #Set up the array for ux\n",
    "    uf = np.zeros(Nx)\n",
    "    #Define the initial condition\n",
    "    uf[0] = uf0\n",
    "    #We need to write another function ff(x[n],uf[n])\n",
    "    #for the integrand. We will do it later when we need to\n",
    "    #solve the equation for particular cases.\n",
    "    for n in range(0, Nx - 1):\n",
    "        #Fill in the code for uf[n+1]\n",
    "        '''--------------------------------------'''\n",
    "        uf[n+1] = uf[n] + dx * ff(x[n], uf[n])\n",
    "        '''--------------------------------------'''\n",
    "        \n",
    "    return uf"
   ]
  },
  {
   "cell_type": "markdown",
   "metadata": {
    "colab_type": "text",
    "id": "a7MofgAvav4d"
   },
   "source": [
    "### Function for the modified-Euler method\n",
    "Again the formula for the modified-Euler method is:\n",
    "$$u_{n+1} = u_n + \\frac{1}{2} \\Delta x \\left \\{ f(x_n, u_n) + f(x_{n+1}, u_n+\\Delta x \\cdot f(x_n, u_n) ) \\right \\}$$\n",
    "\n",
    "**Exercise 2: Fill in the missing code in the function for the modified-Euler method**"
   ]
  },
  {
   "cell_type": "code",
   "execution_count": 7,
   "metadata": {
    "colab": {},
    "colab_type": "code",
    "collapsed": true,
    "id": "3KVSfiAzLiap",
    "jupyter": {
     "outputs_hidden": true
    }
   },
   "outputs": [],
   "source": [
    "def mod_euler(Nx, xmin, xmax, uf0):\n",
    "    #Diff eqn of form: d(uf)/dx=ff(x,uf)\n",
    "    #Nx: Number of points to be used for integration\n",
    "    #xmin, xmax: Initial and final values of the independent variable (x)\n",
    "    #uf0: Initial value of the dependent variable at x=xmin\n",
    "     \n",
    "    #Define x\n",
    "    x = np.linspace(xmin, xmax, Nx)\n",
    "    #Determine dx\n",
    "    dx = x[1] - x[0]\n",
    "    #Set up the array for ux and initialize it to zero\n",
    "    uf = np.zeros(Nx)\n",
    "    #Specify the boundary (initial) condition at x=xmin\n",
    "    uf[0] = uf0\n",
    "\n",
    "    for n in range(Nx - 1):\n",
    "        # uf[n+1] is of the form: uf[n+1] = uf[n] + 0.5 * dx * (ff1 + ff2)\n",
    "        '''Write in the code for ff1 and ff2'''\n",
    "        '''--------------------------------------'''\n",
    "        ff1 = ff(x[n], uf[n])\n",
    "        ff2 = ff(x[n+1], (uf[n] + (dx * ff1)))\n",
    "        '''-------------------------------------------'''\n",
    "        uf[n+1] = uf[n] + 0.5 * dx * (ff1 + ff2)\n",
    "    return uf"
   ]
  },
  {
   "cell_type": "markdown",
   "metadata": {
    "colab_type": "text",
    "id": "tXexqB-Vgz94"
   },
   "source": [
    "## Problem 1\n",
    "\n",
    "Solve the problem:\n",
    "\n",
    "$$ \\frac{du}{dx} = a u $$\n",
    "\n",
    "over the domain $0 \\le x \\le 3$. Here, $a=-50.0$ and $u(0)=1.0$.\n",
    "\n",
    "Try Nx=100. Use the functions you wrote for Euler and  modified-Euler methods. Plot the solutions."
   ]
  },
  {
   "cell_type": "markdown",
   "metadata": {
    "colab_type": "text",
    "id": "RuLrD17fUEsA"
   },
   "source": [
    "The solution has two parts:\n",
    "- Define the function to calculate RHS of ODE\n",
    "- Call the functions for Euler and modified-Euler methods you have completed."
   ]
  },
  {
   "cell_type": "code",
   "execution_count": 8,
   "metadata": {
    "colab": {},
    "colab_type": "code",
    "collapsed": true,
    "id": "dZe5nj8douGQ",
    "jupyter": {
     "outputs_hidden": true
    }
   },
   "outputs": [],
   "source": [
    "#Define the function (RHS of ODE)\n",
    "# (RHS of the differential equation -- f(x,u))\n",
    "def ff(x,u):\n",
    "    a=-50.0\n",
    "    #a=2.0 uncommenting this gives the same equation as in class.\n",
    "    '''---complete the function for the eigenfunction problem-------'''\n",
    "    dudx = a * u\n",
    "    return dudx\n",
    "    '''---------------------------------------------------------'''"
   ]
  },
  {
   "cell_type": "code",
   "execution_count": 13,
   "metadata": {
    "colab": {},
    "colab_type": "code",
    "collapsed": true,
    "id": "GMO6XrYWq_OM",
    "jupyter": {
     "outputs_hidden": true
    }
   },
   "outputs": [
    {
     "data": {
      "text/plain": [
       "[<matplotlib.lines.Line2D at 0x116c742b0>]"
      ]
     },
     "execution_count": 13,
     "metadata": {},
     "output_type": "execute_result"
    },
    {
     "data": {
      "image/png": "[encoded data removed]",
      "text/plain": [
       "<Figure size 432x288 with 1 Axes>"
      ]
     },
     "metadata": {
      "needs_background": "light"
     },
     "output_type": "display_data"
    }
   ],
   "source": [
    "#Exact solution \n",
    "# No need to fill in anything. Study carefully.\n",
    "\n",
    "#Parameters\n",
    "\n",
    "# a below should be the same as in the function\n",
    "a=-50.0 \n",
    "#a=2.0 ## uncommenting this will give  you the same\n",
    "       ## problem as in class. \n",
    "\n",
    "Afact=1.0\n",
    "Nx=100\n",
    "xmin=0.0\n",
    "xmax=3.0\n",
    "\n",
    "#Setup x \n",
    "x = np.linspace(xmin, xmax, Nx)\n",
    "\n",
    "#Calculate the exact solution\n",
    "utrue = Afact * np.exp(a * x)\n",
    "\n",
    "#Plot exact solution u(x)\n",
    "plt.plot(x, utrue)"
   ]
  },
  {
   "cell_type": "code",
   "execution_count": 14,
   "metadata": {
    "colab": {
     "base_uri": "https://localhost:8080/",
     "height": 265
    },
    "colab_type": "code",
    "id": "72PXLm1ZGqqt",
    "outputId": "6d96a9dd-b6aa-4019-a661-bd33c198a1ad"
   },
   "outputs": [
    {
     "data": {
      "image/png": "[encoded data removed]",
      "text/plain": [
       "<Figure size 432x288 with 1 Axes>"
      ]
     },
     "metadata": {
      "needs_background": "light"
     },
     "output_type": "display_data"
    }
   ],
   "source": [
    "# Apply Euler's and modified-Euler's methods to the eigenfunction problem\n",
    "\n",
    "#define the initial value uf0\n",
    "'''-----------------------------'''\n",
    "uf0 = Afact\n",
    "'''----------------------------'''\n",
    "\n",
    "#call the functions.\n",
    "#(uf1 is for Euler and uf2 is for modified-Euler)\n",
    "'''--------------------------------------'''\n",
    "uf1 = euler(Nx, xmin, xmax, uf0)\n",
    "uf2 = mod_euler(Nx, xmin, xmax, uf0)\n",
    "'''--------------------------------------'''\n",
    "\n",
    "plt.plot(x, uf1, 'b-',label=\"euler\")\n",
    "plt.plot(x, uf2, 'g-',label=\"mod-euler\")\n",
    "\n",
    "plt.plot(x, utrue, 'r-', label=\"exact solution\")\n",
    "plt.legend()\n",
    "plt.show()\n"
   ]
  },
  {
   "cell_type": "markdown",
   "metadata": {
    "colab_type": "text",
    "id": "L8Nm6Ly2c3zx"
   },
   "source": [
    "### Function for the second-order RK method\n",
    "\n",
    "$$k^{(1)}_n = f(x_n,u_n), \\; \\; \\; \n",
    "k^{(2)}_n=f(x_n+\\frac{h}{2},u_n+\\frac{h k^{(1)}_n}{2} ), \\; \\; \\; \n",
    "k^{(3)}_n = f(x_n+h,u_n+h k^{(2)}_n)\n",
    "$$ \n",
    "\n",
    "$$u_{n+1} = u_n + \\frac{h}{4} \\left [ k^{(1)}_n + 2 \\; k^{(2)}_n + k^{(3)}_n \n",
    "\\right ] $$"
   ]
  },
  {
   "cell_type": "code",
   "execution_count": 16,
   "metadata": {
    "colab": {},
    "colab_type": "code",
    "id": "cYgMi2z5Liau"
   },
   "outputs": [],
   "source": [
    "def runge_kutta2(Nx, xmin, xmax, uf0):\n",
    "    #Diff eqn of form: d(uf)/dx=ff(x,uf)\n",
    "    #Nx: Number of points to be used for integration\n",
    "    #xmin, xmax: Initial and final values of the independent variable (x)\n",
    "    #uf0: Initial value of the dependent variable at x=xmin\n",
    "    \n",
    "    #Define x\n",
    "    x = np.linspace(xmin, xmax, Nx)\n",
    "    #Find dx\n",
    "    dx = x[1] - x[0]\n",
    "    #Set up the array for uf\n",
    "    uf = np.zeros(Nx)\n",
    "    #Specify the boundary (or initial) condition for uf.\n",
    "    uf[0] = uf0\n",
    "    \n",
    "    #We define two variables that minimize the repetitive computations\n",
    "    \n",
    "    dxovr4 = dx * 0.25\n",
    "    dxovr2 = dx * 0.5\n",
    "\n",
    "    for n in range(Nx - 1):\n",
    "        #Write in the code for kn1, kn2, and kn3 \n",
    "        '''---------------------------------------'''\n",
    "        kn1 = ff(x[n], uf[n])\n",
    "        kn2 = ff(x[n] + dxovr2, uf[n] + dxovr2 * kn1)\n",
    "        kn3 = ff(x[n] + dx, uf[n] + dx * kn2)\n",
    "        \n",
    "        '''----------------------------------------'''\n",
    "        uf[n+1] = uf[n] + dxovr4 * (kn1 + 2.0 * kn2 + kn3)\n",
    "    return uf"
   ]
  },
  {
   "cell_type": "markdown",
   "metadata": {
    "colab_type": "text",
    "id": "qVzIjRwKfjbX"
   },
   "source": [
    "### Function for the fourth-order RK method \n",
    "\n",
    "Fourth order RK is given by:\n",
    "\n",
    "$$k^{(1)}_n = f(x_n,u_n), \\; \\; \\; \n",
    "k^{(2)}_n=f(x_n+\\frac{h}{2},u_n+\\frac{h k^{(1)}_n}{2} ), \\; \\; \\; \n",
    "k^{(3)}_n=f(x_n+\\frac{h}{2},u_n+\\frac{h k^{(2)}_n}{2} ), \\; \\; \\; \n",
    "k^{(4)}_n = f(x_n+h,u_n+h k^{(3)}_n)\n",
    "$$ \n",
    "\n",
    "$$u_{n+1} = u_n + \\frac{h}{6} \\left [ k^{(1)}_n + 2 \\; k^{(2)}_n + 2 \\; k^{(3)}_n + k^{(4)}_n \n",
    "\\right ] $$\n"
   ]
  },
  {
   "cell_type": "code",
   "execution_count": 17,
   "metadata": {
    "colab": {},
    "colab_type": "code",
    "collapsed": true,
    "id": "I1d1gMNSLiaz",
    "jupyter": {
     "outputs_hidden": true
    }
   },
   "outputs": [],
   "source": [
    "def runge_kutta4(Nx, xmin, xmax, uf0):\n",
    "    #Diff eqn of form: d(uf)/dx=ff(x,uf)\n",
    "    #Nx: Number of points to be used for integration\n",
    "    #xmin, xmax: Initial and final values of the independent variable (x)\n",
    "    #uf0: Initial value of the dependent variable at x=xmin\n",
    "    \n",
    "    #Set up x\n",
    "    x = np.linspace(xmin, xmax, Nx)\n",
    "    #Determine dx\n",
    "    dx = x[1] - x[0]\n",
    "    #Set up the array for uf\n",
    "    uf = np.zeros(Nx)\n",
    "    #Initialize uf\n",
    "    uf[0] = uf0\n",
    "    \n",
    "    #We define two variables that minimize the repetitive computations\n",
    "    \n",
    "    dxovr6 = dx / 6.0\n",
    "    dxovr2 = dx * 0.5\n",
    "\n",
    "    for n in range(Nx - 1):\n",
    "      #Fill in the expressions for kn1, kn2, kn3, and kn4\n",
    "        '''-------------------------------------'''\n",
    "        kn1 = ff(x[n], uf[n])\n",
    "        kn2 = ff(x[n] + dxovr2, uf[n] + dxovr2 * kn1)\n",
    "        kn3 = ff(x[n] + dxovr2, uf[n] + dxovr2 * kn2)\n",
    "        kn4 = ff(x[n] + dx, uf[n] + dx * kn3)\n",
    "        \n",
    "        '''-------------------------------------'''\n",
    "        uf[n+1] = uf[n] + dxovr6 * (kn1 + 2.0 * kn2 + 2.0 * kn3 + kn4)\n",
    "    return uf"
   ]
  },
  {
   "cell_type": "markdown",
   "metadata": {
    "colab_type": "text",
    "id": "E12nF-iOLia9"
   },
   "source": [
    "## Problem 1 (continued)\n",
    "\n",
    "Solve problem 1 with Runge-Kutta 2nd order (RK2) and 4th order (RK4) methods"
   ]
  },
  {
   "cell_type": "code",
   "execution_count": 19,
   "metadata": {
    "colab": {
     "base_uri": "https://localhost:8080/",
     "height": 265
    },
    "colab_type": "code",
    "id": "fDFGrGJqLia-",
    "outputId": "108a2e08-69d6-45f1-f3a2-2270bfd88118"
   },
   "outputs": [
    {
     "data": {
      "image/png": "[encoded data removed]",
      "text/plain": [
       "<Figure size 432x288 with 1 Axes>"
      ]
     },
     "metadata": {
      "needs_background": "light"
     },
     "output_type": "display_data"
    }
   ],
   "source": [
    "#Solution for problem 1 with Runge-Kutta :\n",
    "\n",
    "#Call the functions for RK2 and RK4 and store them in\n",
    "#uf3 and uf4\n",
    "'''---------------------------'''\n",
    "uf3 = runge_kutta2(Nx, xmin, xmax, uf0)\n",
    "uf4 = runge_kutta4(Nx, xmin, xmax, uf0)\n",
    "\n",
    "'''---------------------------'''\n",
    "plt.plot(x, uf1, 'b-',label=\"euler\")\n",
    "plt.plot(x, uf2, 'g-',label=\"mod-euler\")\n",
    "plt.plot(x, uf3, 'c-',label=\"RK2\")\n",
    "plt.plot(x, uf4, 'm-',label=\"RK4\")\n",
    "\n",
    "plt.plot(x, utrue, 'r-', label='Exact solution')\n",
    "plt.legend()\n",
    "plt.show()"
   ]
  },
  {
   "cell_type": "markdown",
   "metadata": {
    "colab_type": "text",
    "id": "Mip5Au_sLibE"
   },
   "source": [
    "## Problem 2"
   ]
  },
  {
   "cell_type": "markdown",
   "metadata": {
    "colab_type": "text",
    "id": "JbH9r23rLibF"
   },
   "source": [
    "Solve the following ODE:\n",
    "\n",
    "\\begin{equation}\n",
    "\\frac{dn}{dt} = rn(1-\\frac{n}{N}) \\hspace{6cm} (1)\n",
    "\\end{equation}\n",
    "\n",
    "over the domain $0 \\le t \\le 30$. Here,  $r=0.5$, $N=10$, and $n(t=0)=n_0=0.001$.\n",
    "Plot the solutions and compare them to the exact solution (see below)  with Runge-Kutta 4th order method.\n",
    "\n",
    "   This problem has the exact solution:\n",
    "   \\begin{equation}\n",
    "    n(t)=\\frac{N}{1+\\left[\\frac{N}{n_0}-1\\right]e^{-rt}} \\hspace{6cm} (2)\n",
    "   \\end{equation}\n",
    "   "
   ]
  },
  {
   "cell_type": "markdown",
   "metadata": {
    "colab_type": "text",
    "id": "Agoh5EFMY48F"
   },
   "source": [
    "### Steps involved:\n",
    "\n",
    "- The steps involved are the same as in the eigen-function problem (i.e. Problem 1)\n",
    "- You need to define the function, i.e. RHS of the ODE\n",
    "- You need to code the exact solution, which is given above. Carefully note all the parameters: r, N, xmin, xmax, initial value. These need to be defined\n",
    "- Specify the initial value, i.e. n at t=0\n",
    "- Compute the solution by calling RK4\n"
   ]
  },
  {
   "cell_type": "code",
   "execution_count": 52,
   "metadata": {
    "collapsed": true,
    "jupyter": {
     "outputs_hidden": true
    }
   },
   "outputs": [],
   "source": [
    "#Define the function (RHS of ODE)\n",
    "# (RHS of the differential equation -- f(x,u))\n",
    "def ff(x,u):\n",
    "    r = 0.5\n",
    "    Nconst = 10\n",
    "    #a=2.0 uncommenting this gives the same equation as in class.\n",
    "    '''---complete the function for the eigenfunction problem-------'''\n",
    "    dudx = r * u * (1 - (u / Nconst))\n",
    "    return dudx\n",
    "    '''---------------------------------------------------------'''"
   ]
  },
  {
   "cell_type": "code",
   "execution_count": 55,
   "metadata": {},
   "outputs": [
    {
     "data": {
      "text/plain": [
       "[<matplotlib.lines.Line2D at 0x1177b9e48>]"
      ]
     },
     "execution_count": 55,
     "metadata": {},
     "output_type": "execute_result"
    },
    {
     "data": {
      "image/png": "[encoded data removed]",
      "text/plain": [
       "<Figure size 432x288 with 1 Axes>"
      ]
     },
     "metadata": {
      "needs_background": "light"
     },
     "output_type": "display_data"
    }
   ],
   "source": [
    "#Exact solution \n",
    "# No need to fill in anything. Study carefully.\n",
    "\n",
    "#Parameters\n",
    "\n",
    "# a below should be the same as in the function\n",
    "r = 0.5\n",
    "Nconst = 10\n",
    "#a=2.0 ## uncommenting this will give  you the same\n",
    "       ## problem as in class. \n",
    "    \n",
    "Nx=100\n",
    "xmin=0.\n",
    "xmax=30.\n",
    "\n",
    "#Setup x \n",
    "x = np.linspace(xmin, xmax, Nx)\n",
    "\n",
    "#Setup nf array\n",
    "uf = np.zeros(Nx)\n",
    "uf0 = 0.001\n",
    "\n",
    "\n",
    "#Calculate the exact solution\n",
    "utrue = Nconst / (1 + (((Nconst/uf0)-1) * np.exp(-r*x)))\n",
    "                  \n",
    "#Plot exact solution u(x)\n",
    "plt.plot(x, utrue)"
   ]
  },
  {
   "cell_type": "code",
   "execution_count": 56,
   "metadata": {},
   "outputs": [
    {
     "data": {
      "image/png": "[encoded data removed]",
      "text/plain": [
       "<Figure size 432x288 with 1 Axes>"
      ]
     },
     "metadata": {
      "needs_background": "light"
     },
     "output_type": "display_data"
    }
   ],
   "source": [
    "#Solution for problem 1 with Runge-Kutta :\n",
    "\n",
    "#Call the functions for RK2 and RK4 and store them in \n",
    "#uf4\n",
    "'''---------------------------'''\n",
    "uf4 = runge_kutta4(Nx, xmin, xmax,uf0)\n",
    "\n",
    "'''---------------------------'''\n",
    "plt.plot(x, uf4, 'b-',label=\"RK4\")\n",
    "\n",
    "plt.plot(x, utrue, 'r-', label='Exact solution')\n",
    "plt.legend()\n",
    "plt.show()"
   ]
  },
  {
   "cell_type": "code",
   "execution_count": null,
   "metadata": {},
   "outputs": [],
   "source": []
  }
 ],
 "metadata": {
  "anaconda-cloud": {},
  "colab": {
   "name": "AM10_spring_2020_L7_lab_deliver.ipynb",
   "provenance": []
  },
  "kernelspec": {
   "display_name": "Python 3",
   "language": "python",
   "name": "python3"
  },
  "language_info": {
   "codemirror_mode": {
    "name": "ipython",
    "version": 3
   },
   "file_extension": ".py",
   "mimetype": "text/x-python",
   "name": "python",
   "nbconvert_exporter": "python",
   "pygments_lexer": "ipython3",
   "version": "3.7.3"
  }
 },
 "nbformat": 4,
 "nbformat_minor": 2
}
