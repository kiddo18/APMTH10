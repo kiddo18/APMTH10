{
 "cells": [
  {
   "cell_type": "markdown",
   "metadata": {},
   "source": [
    "# AM10 - Spring 2020\n",
    "\n",
    "# LAB 02"
   ]
  },
  {
   "cell_type": "markdown",
   "metadata": {},
   "source": [
    "### Structure of the Lab\n",
    "The labs for this class are designed to guide you through experimenting with code on your own. The labs have examples and exercises that we will go through during the lab time and a few problems at the end that you have to work on, on your own. We encourage you to collaborate with your peers however each one of you has to submit your own notebook to get credit.\n",
    "\n",
    "\n",
    "### Learning Goals:\n",
    "\n",
    "Arrays, array-generating functions and properties (numpy.linspace, numpy.arange, zeros, ones, shape, slicing, sum, ave, max, min), multidimensional arrays, dot product, matrices, matrix-vector multiplication.\n",
    "\n",
    "Loops: for, while, if/elif/else.\n",
    "\n",
    "File types, reading/writing file (open, close, read, write)."
   ]
  },
  {
   "cell_type": "markdown",
   "metadata": {},
   "source": [
    "<hr style=\"height:2px;color:#000000\">"
   ]
  },
  {
   "cell_type": "markdown",
   "metadata": {},
   "source": [
    "## Python lists v. numpy.arrays\n",
    "in Python, a list is a collection of elements; all the elements are placed inside a square bracket [ ], separated by commas. A list can have any number of items and they may be of different types (integer, float, string etc.)\n",
    "\n",
    "An array is a collection of elements of the same type. \n"
   ]
  },
  {
   "cell_type": "markdown",
   "metadata": {},
   "source": [
    "Example of lists:"
   ]
  },
  {
   "cell_type": "code",
   "execution_count": 1,
   "metadata": {},
   "outputs": [
    {
     "name": "stdout",
     "output_type": "stream",
     "text": "<class 'list'> <class 'list'>\n"
    }
   ],
   "source": [
    "a = [2, 3, \"Ford\"] # a is a list containing elements of different types\n",
    "b = [3., 6., 9.]   # b is a list containing elements of the same type (floating numbers)\n",
    "                # although it contains elements of the same type, it is not defined as a numpy.array;\n",
    "                # we cannot perform numerical operations with lists\n",
    "        \n",
    "print(type(a), type(b))"
   ]
  },
  {
   "cell_type": "code",
   "execution_count": 5,
   "metadata": {},
   "outputs": [
    {
     "ename": "TypeError",
     "evalue": "unsupported operand type(s) for /: 'list' and 'int'",
     "output_type": "error",
     "traceback": [
      "\u001b[0;31m---------------------------------------------------------------------------\u001b[0m",
      "\u001b[0;31mTypeError\u001b[0m                                 Traceback (most recent call last)",
      "\u001b[0;32m<ipython-input-5-b2d51d95d8a1>\u001b[0m in \u001b[0;36m<module>\u001b[0;34m\u001b[0m\n\u001b[1;32m      1\u001b[0m \u001b[0;31m# print b/3; what do you think the result will be?\u001b[0m\u001b[0;34m\u001b[0m\u001b[0;34m\u001b[0m\u001b[0;34m\u001b[0m\u001b[0m\n\u001b[1;32m      2\u001b[0m \u001b[0;34m\u001b[0m\u001b[0m\n\u001b[0;32m----> 3\u001b[0;31m \u001b[0mprint\u001b[0m\u001b[0;34m(\u001b[0m\u001b[0mb\u001b[0m\u001b[0;34m/\u001b[0m\u001b[0;36m3\u001b[0m\u001b[0;34m)\u001b[0m\u001b[0;34m\u001b[0m\u001b[0;34m\u001b[0m\u001b[0m\n\u001b[0m",
      "\u001b[0;31mTypeError\u001b[0m: unsupported operand type(s) for /: 'list' and 'int'"
     ]
    }
   ],
   "source": [
    "# print b/3; what do you think the result will be?\n",
    "\n",
    "print(b/3)\n"
   ]
  },
  {
   "cell_type": "markdown",
   "metadata": {},
   "source": [
    "Introducing numpy.arrays:"
   ]
  },
  {
   "cell_type": "code",
   "execution_count": 4,
   "metadata": {},
   "outputs": [],
   "source": [
    "import numpy as np"
   ]
  },
  {
   "cell_type": "code",
   "execution_count": 2,
   "metadata": {
    "scrolled": true
   },
   "outputs": [
    {
     "name": "stdout",
     "output_type": "stream",
     "text": [
      "[3 6 9]\n",
      "\n",
      "[[3]\n",
      " [6]\n",
      " [9]]\n"
     ]
    }
   ],
   "source": [
    "# defining numpy.arrays\n",
    "\n",
    "c = np.array([3, 6, 9]) # This is how we define a 1D numpy.array\n",
    "d = np.array([[3],[6],[9]]) # This is how we define a 2D numpy.array\n",
    "\n",
    "print(c)\n",
    "print()\n",
    "print(d)"
   ]
  },
  {
   "cell_type": "markdown",
   "metadata": {},
   "source": [
    "### Exercise 0\n",
    "Print c/3, d/3; what do you think the results will be?\n",
    "\n"
   ]
  },
  {
   "cell_type": "code",
   "execution_count": 4,
   "metadata": {},
   "outputs": [
    {
     "name": "stdout",
     "output_type": "stream",
     "text": [
      "[1. 2. 3.]\n",
      "[[1.]\n",
      " [2.]\n",
      " [3.]]\n"
     ]
    }
   ],
   "source": [
    "# your code here\n",
    "print(c/3)\n",
    "print(d/3)"
   ]
  },
  {
   "cell_type": "markdown",
   "metadata": {},
   "source": [
    "## Array Operations\n",
    "\n",
    "It is very important to be able to operate with arrays as needed and access all single elements of arrays for various applications. Python made it very easy to do this.\n",
    "\n",
    "### Basic Array Algebra"
   ]
  },
  {
   "cell_type": "code",
   "execution_count": 5,
   "metadata": {},
   "outputs": [
    {
     "name": "stdout",
     "output_type": "stream",
     "text": [
      "A = [1 3 5 7 9]\n",
      "B = [0 2 4 6 8]\n",
      "\n",
      "C = [ 1  5  9 13 17]\n",
      "B-A = [-1 -1 -1 -1 -1]\n",
      "B.A = 140\n"
     ]
    }
   ],
   "source": [
    "A = np.array([1,3,5,7,9])\n",
    "B = np.array([0,2,4,6,8])\n",
    "\n",
    "#D = B[::-1] # presents reverse of array B\n",
    "print(\"A =\", A)\n",
    "print(\"B =\", B)\n",
    "print()\n",
    "\n",
    "C = A + B \n",
    "print (\"C =\", C)\n",
    "print (\"B-A =\", B-A) # element by element deduction\n",
    "print (\"B.A =\", np.dot(B,A)) # dot operation of two vectors (We will see more of this later in the lab)"
   ]
  },
  {
   "cell_type": "code",
   "execution_count": 6,
   "metadata": {},
   "outputs": [
    {
     "name": "stdout",
     "output_type": "stream",
     "text": [
      "E = [1. 3. 5. 7. 9.]\n",
      "F = [0. 2. 4. 6. 8.]\n",
      "E-F = [1. 1. 1. 1. 1.]\n",
      "E.F = 140.0\n"
     ]
    }
   ],
   "source": [
    "# we can generate arrays by array-generating functions such as numpy.linspace and numpy.arange\n",
    "\n",
    "E = np.linspace(1,9,5) # this linspace produces an array with length of 5 between 1 and 9 (inclu 9) with elements of equal space\n",
    "F = np.linspace(0,8,5)\n",
    "\n",
    "print(\"E =\", E)\n",
    "print(\"F =\", F)\n",
    "print (\"E-F =\", E-F) # element by element deduction\n",
    "print (\"E.F =\", np.dot(E,F)) # dot operation of two vectors (We will see more of this later in the lab)"
   ]
  },
  {
   "cell_type": "code",
   "execution_count": 7,
   "metadata": {},
   "outputs": [
    {
     "name": "stdout",
     "output_type": "stream",
     "text": [
      "G = [1 6]\n",
      "H = [0 5]\n"
     ]
    }
   ],
   "source": [
    "# generate arrays by numpy.arange\n",
    "G = np.arange(1,9,5) # not including 9\n",
    "H = np.arange(0,8,5)\n",
    "\n",
    "print(\"G =\", G)\n",
    "print(\"H =\", H)"
   ]
  },
  {
   "cell_type": "markdown",
   "metadata": {},
   "source": [
    "### Accessing elements of an array:\n",
    "\n",
    "You will soon find out, for any mathematical operation you need to be able to access different portions of an array."
   ]
  },
  {
   "cell_type": "markdown",
   "metadata": {},
   "source": [
    "#### Example"
   ]
  },
  {
   "cell_type": "code",
   "execution_count": 17,
   "metadata": {},
   "outputs": [
    {
     "name": "stdout",
     "output_type": "stream",
     "text": [
      "[ 2  5 62  5 42 52]\n",
      "[62  5 42 52]\n",
      "[62 42 48]\n",
      "[62  5 42 52 48  5]\n",
      "[52 48  5]\n",
      "[ 2  5 62  5 42 52 48  5]\n"
     ]
    }
   ],
   "source": [
    "numbers_array = np.array([2,5,62,5,42,52,48,5])\n",
    "\n",
    "print(numbers_array[:-2]) # print all elements except the last two\n",
    "print(numbers_array[2:6]) # 3rd to 6th\n",
    "print(numbers_array[2:8:2]) # 3rd to 7th in steps of 2\n",
    "print(numbers_array[2:]) # beginning from 3rd element to the end\n",
    "print(numbers_array[5:])  # 6th to end\n",
    "print(numbers_array[:])   # beginning to end"
   ]
  },
  {
   "cell_type": "code",
   "execution_count": 18,
   "metadata": {},
   "outputs": [
    {
     "name": "stdout",
     "output_type": "stream",
     "text": [
      "[62 42 48]\n",
      "[62  5 42 52 48  5]\n",
      "[52 48  5]\n",
      "[ 2  5 62  5 42 52 48  5]\n"
     ]
    }
   ],
   "source": [
    "# your answer here\n",
    "\n",
    "print(numbers_array[2:7:2]) # 3rd to 7th in steps of 2\n",
    "print(numbers_array[2:]) # beginning to 3rd element to the end\n",
    "print(numbers_array[5:])  # 6th to end\n",
    "print(numbers_array[:])   # beginning to end"
   ]
  },
  {
   "cell_type": "markdown",
   "metadata": {},
   "source": [
    "### Exercise 1\n",
    "\n",
    "Make a linspace of (evenly distibuted) numbers from 1 to 20 and print the 4th element to 8th element of the linspace in steps of 2."
   ]
  },
  {
   "cell_type": "code",
   "execution_count": 23,
   "metadata": {},
   "outputs": [
    {
     "name": "stdout",
     "output_type": "stream",
     "text": [
      "[ 1.  2.  3.  4.  5.  6.  7.  8.  9. 10. 11. 12. 13. 14. 15. 16. 17. 18.\n",
      " 19. 20.]\n",
      "Answer: [4. 6. 8.]\n"
     ]
    }
   ],
   "source": [
    "#Your code here\n",
    "a = np.linspace(1,20,num=20)\n",
    "print(a)\n",
    "# numpy.linspace(start, stop, num=50, endpoint=True, retstep=False, dtype=None, axis=0)[source]\n",
    "# Returns num evenly spaced samples, calculated over the interval [start, stop]. The endpoint of the interval can optionally be excluded.\n",
    "print(\"Answer:\",a[3:8:2])\n"
   ]
  },
  {
   "cell_type": "markdown",
   "metadata": {},
   "source": [
    "<hr style=\"height:2px;color:#000000\">"
   ]
  },
  {
   "cell_type": "markdown",
   "metadata": {},
   "source": [
    "### Defining arrays with 1 row or 1 column and transpose of arrays\n",
    "\n",
    "Please see the following example carefully:\n",
    "\n",
    "#### Example:"
   ]
  },
  {
   "cell_type": "code",
   "execution_count": 24,
   "metadata": {},
   "outputs": [
    {
     "name": "stdout",
     "output_type": "stream",
     "text": [
      "a = [3 6 9]\n",
      "a1 = [[3]\n",
      " [6]\n",
      " [9]]\n",
      "b = a1.transpose() = [[3 6 9]]\n",
      "a1.T = [[3 6 9]]\n"
     ]
    }
   ],
   "source": [
    "a = np.array([3,6,9]) # row\n",
    "a1 = np.array([[3],[6],[9]]) # column\n",
    "print('a =', a)\n",
    "print('a1 =', a1)\n",
    "b= a1.transpose() #This is one way to define transpose of an array\n",
    "print('b = a1.transpose() =', b)\n",
    "\n",
    "# getting same result by a1.T\n",
    "print('a1.T =', a1.T) # attribute of array a1"
   ]
  },
  {
   "cell_type": "markdown",
   "metadata": {},
   "source": [
    "## 2D Arrays\n",
    "\n",
    "We can create muti-dimensional arrays or matrices using the array module. But for this lab we only focus on 1D and 2D arrays. 2D arrays are also known as matrices.\n",
    "\n",
    "#### Example :"
   ]
  },
  {
   "cell_type": "code",
   "execution_count": 25,
   "metadata": {
    "scrolled": true
   },
   "outputs": [
    {
     "name": "stdout",
     "output_type": "stream",
     "text": [
      "A = [[ 1  4  5 12]\n",
      " [-5  8  9  0]\n",
      " [-6  7 11 19]]\n",
      "A[1] = [-5  8  9  0]\n",
      "A[1][2] = 9\n"
     ]
    }
   ],
   "source": [
    "# Accessing elements of a 2D array:\n",
    "# 3x4 matrix\n",
    "A = np.array([[ 1,  4,  5, 12],\n",
    " [-5, 8,  9,  0],\n",
    " [-6, 7, 11, 19]])\n",
    "\n",
    "print(\"A =\", A)\n",
    "print(\"A[1] =\", A[1])      # 2nd row\n",
    "print(\"A[1][2] =\", A[1][2])   # element of 2nd row, 3rd column \n"
   ]
  },
  {
   "cell_type": "markdown",
   "metadata": {},
   "source": [
    "### Exercise 2"
   ]
  },
  {
   "cell_type": "code",
   "execution_count": 31,
   "metadata": {},
   "outputs": [
    {
     "name": "stdout",
     "output_type": "stream",
     "text": [
      "A[1,2] =  9\n",
      "A[1][2] = 9\n",
      "A[0][3] = 12\n",
      "A[:,3] = [12  0 19]\n"
     ]
    }
   ],
   "source": [
    "# print the following\n",
    "# A[1][2] = second row, third column\n",
    "print(\"A[1,2] = \",A[1,2])\n",
    "print(\"A[1][2] =\", A[1][2])   # 3rd element of 2nd row (another notation)\n",
    "print(\"A[0][3] =\", A[0][3])   # Last element of 1st row\n",
    "print(\"A[:,3] =\",  A[:,3])  # 4th column of the matrix A"
   ]
  },
  {
   "cell_type": "markdown",
   "metadata": {},
   "source": [
    "### Matrix Multiplication"
   ]
  },
  {
   "cell_type": "code",
   "execution_count": 33,
   "metadata": {},
   "outputs": [
    {
     "name": "stdout",
     "output_type": "stream",
     "text": [
      "A =  [[ 3  6  7]\n",
      " [ 5 -3  0]]\n",
      "B =  [[ 1  1]\n",
      " [ 2  1]\n",
      " [ 3 -3]]\n",
      "C =  [[ 36 -12]\n",
      " [ -1   2]]\n",
      "D =  [[ 3 12 21]\n",
      " [ 5 -3  0]]\n",
      "E = [[ 36 -12]\n",
      " [ -1   2]]\n"
     ]
    }
   ],
   "source": [
    "A = np.array([[3,6,7], [5,-3,0]])\n",
    "B = np.array([[1,1],[2,1],[3,-3]])\n",
    "\n",
    "C = np.dot(A,B) # Matrix multiplication\n",
    "# row vector dot column vector is the underlying mechanism to produce the element of the resulting matrix\n",
    "# However, there exist other multiplication schemes, i.e.:\n",
    "\n",
    "D = A*(B.T)  #Note: * is used for multiplication of corresponding elements of two arrays. B.T is transpose of B\n",
    "\n",
    "print('A = ', A)\n",
    "print('B = ', B)\n",
    "print('C = ', C)\n",
    "print('D = ', D)\n",
    "\n",
    "E = np.matmul(A,B)\n",
    "print('E =', E)"
   ]
  },
  {
   "cell_type": "markdown",
   "metadata": {},
   "source": [
    "### Generating useful arrays (initializing)"
   ]
  },
  {
   "cell_type": "code",
   "execution_count": 34,
   "metadata": {},
   "outputs": [
    {
     "name": "stdout",
     "output_type": "stream",
     "text": [
      "a = [[0. 0.]\n",
      " [0. 0.]]\n",
      "b = [[1. 1. 1.]\n",
      " [1. 1. 1.]\n",
      " [1. 1. 1.]]\n",
      "c = [[1. 0. 0. 0.]\n",
      " [0. 1. 0. 0.]\n",
      " [0. 0. 1. 0.]\n",
      " [0. 0. 0. 1.]]\n"
     ]
    }
   ],
   "source": [
    "a = np.zeros((2,2))   # Create an array of all zeros\n",
    "print('a =', a)              # Prints \"[[ 0.  0.]\n",
    "                      #          [ 0.  0.]]\"\n",
    "\n",
    "b = np.ones((3,3))    # Create an array of all ones\n",
    "print('b =', b)              # Prints rows of \"[[ 1.  1. 1.]]\"\n",
    "\n",
    "c = np.eye(4)         # Create an identity array of size n\n",
    "print('c =', c)"
   ]
  },
  {
   "cell_type": "markdown",
   "metadata": {},
   "source": [
    "## Array indexing\n",
    "\n",
    "Numpy offers several ways to index into arrays.\n",
    "\n",
    "### Slicing (and modifying) \n",
    "\n",
    "Numpy arrays can be sliced. Since arrays may be multidimensional, you must specify a slice for each dimension of the array:"
   ]
  },
  {
   "cell_type": "code",
   "execution_count": null,
   "metadata": {
    "scrolled": true
   },
   "outputs": [],
   "source": [
    "a = np.array([[1,2,3,4],[5,6,7,8],[9,10,11,12]])\n",
    "\n",
    "# Use slicing to pull out the subarray consisting of the first 2 rows\n",
    "# and columns 1 and 2; b is the following array of shape (2, 2):\n",
    "# [[2 3]\n",
    "#  [6 7]]\n",
    "b = a[:2, 1:3] \n",
    "\n",
    "print(a)\n",
    "print(b)\n"
   ]
  },
  {
   "cell_type": "code",
   "execution_count": null,
   "metadata": {},
   "outputs": [],
   "source": [
    "# Note: b is a reference of a part of a! \n",
    "# Modifying b elements automatically modifies the respective elements of array a (and vice versa)\n",
    "\n",
    "# In other words: A slice of an array is a view into the same data, so modifying it will modify the original array.\n",
    "\n",
    "print(a[0,1])   # Prints \"2\"\n",
    "b[0,0] =  77    # b[0, 0] is the same piece of data as a[0, 1]\n",
    "print(a[0,1])   # Prints \"77\"\n",
    "print(a)"
   ]
  },
  {
   "cell_type": "code",
   "execution_count": null,
   "metadata": {},
   "outputs": [],
   "source": [
    "# How to avoid modifying the original array:\n",
    "\n",
    "a = np.array([[1,2,3,4],[5,6,7,8],[9,10,11,12]])\n",
    "\n",
    "b = a[:2, 1:3].copy()   \n",
    "\n",
    "print(a)\n",
    "print(b)\n",
    "\n",
    "# A slice of an array is a view into the same data, so modifying it\n",
    "# will modify the original array.\n",
    "print(a[0,1])   # Prints \"2\"\n",
    "b[0,0] =  77    # b[0, 0] is the same piece of data as a[0, 1]\n",
    "print('a[0,1] =', a[0,1])   # Prints \"2\", because a is not affected by the modification\n",
    "print(a)\n"
   ]
  },
  {
   "cell_type": "markdown",
   "metadata": {},
   "source": [
    "### Reshaping\n",
    "\n",
    "We can use reshape to change the matrix dimensions.\n",
    "\n",
    "#### Example:"
   ]
  },
  {
   "cell_type": "code",
   "execution_count": null,
   "metadata": {},
   "outputs": [],
   "source": [
    "a = np.arange(4) #arange would create an array of tandem numbers \n",
    "print(np.shape(a))\n",
    "# print(a.shape)\n",
    "b = a.reshape(2,2)\n",
    "\n",
    "c = np.arange(12).reshape(3,4)\n",
    "\n",
    "print('a=  ', a)\n",
    "print('b=  ', b)\n",
    "print('c=  ', c)"
   ]
  },
  {
   "cell_type": "code",
   "execution_count": null,
   "metadata": {},
   "outputs": [],
   "source": [
    "# introducing diagonal\n",
    "d = b.diagonal()\n",
    "print(d)"
   ]
  },
  {
   "cell_type": "markdown",
   "metadata": {},
   "source": [
    "### Exercise 3:\n",
    "\n",
    "Make array of [0 4 8] by using arange, reshape and diagonal."
   ]
  },
  {
   "cell_type": "code",
   "execution_count": null,
   "metadata": {},
   "outputs": [],
   "source": [
    "#Your response here\n"
   ]
  },
  {
   "cell_type": "markdown",
   "metadata": {},
   "source": [
    "## Matrix Operations\n",
    "\n",
    "### numpy.dot\n",
    "If both a and b are 1-D arrays, it is inner product of vectors.<br>\n",
    "If both a and b are 2-D arrays, it is matrix multiplication. <br>\n",
    "\n",
    "How each dot product element is calculated: dot(a, b)[i,j,k,m] = sum(a[i,j,:] * b[k,:,m])\n",
    " "
   ]
  },
  {
   "cell_type": "markdown",
   "metadata": {},
   "source": [
    "Examples of real-life applications: mechanical work is the dot product of force and displacement vectors; power is the dot product of force and velocity.\n",
    "\n",
    "There are different ways of doing dot product in Python."
   ]
  },
  {
   "cell_type": "code",
   "execution_count": 35,
   "metadata": {},
   "outputs": [
    {
     "name": "stdout",
     "output_type": "stream",
     "text": [
      "v = [12  4  5]\n",
      "w = [12  4  5]\n",
      "x = [12  4  5]\n",
      "y = [12  4  5]\n",
      "z = [12  4  5]\n"
     ]
    }
   ],
   "source": [
    "# given two arrays a and b:\n",
    "\n",
    "a = np.array([[5, 1, 3],\n",
    "            [1, 1, 1],\n",
    "            [1, 2, 1]])\n",
    "b = np.array([1, 1, 2])\n",
    "\n",
    "v = np.dot(a, b)\n",
    "w = a@b\n",
    "x = np.inner(a, b) #The inner product is completely different with dot product when dealing with matrices\n",
    "y = np.tensordot(a, b, axes=1)\n",
    "z = np.matmul(a, b)\n",
    "\n",
    "print('v =', v)\n",
    "print('w =', w)\n",
    "print('x =', x)\n",
    "print('y =', y)\n",
    "print('z =', z)"
   ]
  },
  {
   "cell_type": "code",
   "execution_count": 37,
   "metadata": {},
   "outputs": [
    {
     "name": "stdout",
     "output_type": "stream",
     "text": [
      "a=  [[5 1 3]\n",
      " [1 1 1]\n",
      " [1 2 1]]\n",
      "c=  [[5 1 1]\n",
      " [1 1 2]\n",
      " [3 1 1]]\n"
     ]
    }
   ],
   "source": [
    "c = a.T           #transpose of an array\n",
    "print(\"a= \", a)\n",
    "print(\"c= \", c)"
   ]
  },
  {
   "cell_type": "code",
   "execution_count": 38,
   "metadata": {},
   "outputs": [
    {
     "name": "stdout",
     "output_type": "stream",
     "text": [
      "[[29 12 19]\n",
      " [ 7  4  5]\n",
      " [ 8  5  6]]\n"
     ]
    }
   ],
   "source": [
    "A= np.inner(a, c) # inner product\n",
    "print(A)"
   ]
  },
  {
   "cell_type": "code",
   "execution_count": null,
   "metadata": {},
   "outputs": [],
   "source": [
    "B= np.dot(a, c)\n",
    "print(B)"
   ]
  },
  {
   "cell_type": "code",
   "execution_count": null,
   "metadata": {},
   "outputs": [],
   "source": [
    "# outer product\n",
    "\n",
    "G=np.array([1, 2, 3])\n",
    "H=np.array([1, 1, 4])\n",
    "np.outer(G,H)"
   ]
  },
  {
   "cell_type": "markdown",
   "metadata": {},
   "source": [
    "#### Cross Product"
   ]
  },
  {
   "cell_type": "code",
   "execution_count": null,
   "metadata": {},
   "outputs": [],
   "source": [
    "A=np.array([1, 3, 5])\n",
    "B=np.array([2, 4, 6])\n",
    "C=np.cross(A, B)\n",
    "print('C= ', C)"
   ]
  },
  {
   "cell_type": "markdown",
   "metadata": {},
   "source": [
    "# Problem 1\n",
    "Find the angle in degrees between the following vectors: \n",
    "$ \\vec{a}=3\\vec{i}+5\\vec{j}-3\\vec{k}\\, and\\, \\vec{b}=-\\vec{i}+3\\vec{k} $.\n",
    "\n",
    "Reminder: $cos(\\Theta)=\\frac{\\vec{a}.\\vec{b}}{|\\vec{a}|.|\\vec{b}|} $.\n",
    "\n",
    "\n",
    "Hints: \n",
    "\n",
    "(a) in numpy, if y=np.cos(x) then x=np.arccos(y) \n",
    "\n",
    "(b) in order to calculate the norm $|\\vec{a}|$ you may use $|\\vec{a}| = np.sqrt(x^2+y^2+z^2)$, where $\\vec{a}=x\\vec{i}+y\\vec{j}+z\\vec{k} \\ \\ \\ \\ $        (similarly for $|\\vec{b}|$)"
   ]
  },
  {
   "cell_type": "code",
   "execution_count": 48,
   "metadata": {},
   "outputs": [
    {
     "name": "stdout",
     "output_type": "stream",
     "text": [
      "-12\n",
      "Magnitude of a vector: 6.557438524302\n",
      "Magnitude of b vector: 3.1622776601683795\n",
      "degrees =  125.35855428656183\n"
     ]
    }
   ],
   "source": [
    "# Arrays\n",
    "a = np.array([3,5,-3])\n",
    "b = np.array([-1,0,3])\n",
    "# Dot product of a and b\n",
    "adotb = np.dot(a,b)\n",
    "print(adotb)\n",
    "\n",
    "# Magnitudes of a and b\n",
    "maga = np.linalg.norm(a)\n",
    "print(\"Magnitude of a vector:\", maga)\n",
    "magb = np.linalg.norm(b)\n",
    "print(\"Magnitude of b vector:\", magb)\n",
    "\n",
    "# Plug & chug\n",
    "costheta = adotb / (maga*magb)\n",
    "angle = np.arccos(costheta)\n",
    "\n",
    "# Convert\n",
    "angle = angle * 180 / np.pi\n",
    "print(\"degrees = \",angle)"
   ]
  },
  {
   "cell_type": "markdown",
   "metadata": {},
   "source": [
    "# Problem 2\n",
    "Find a normal unit vector perpendicular to the following vectors:\n",
    "$ \\vec{a}=3\\vec{i}+5\\vec{j}-3\\vec{k} $, and $ \\vec{b}=-\\vec{i}+3\\vec{k} $.\n",
    "After finding the normal unit vector, check if the absolute value of it is indeed one (1), and if the dot product of it to each one of the constructing vectors is zero.\n"
   ]
  },
  {
   "cell_type": "code",
   "execution_count": 65,
   "metadata": {},
   "outputs": [
    {
     "name": "stdout",
     "output_type": "stream",
     "text": [
      "Normal vector: [15 -6  5]\n",
      "Magnitude of normal unit vector: 1.0\n",
      "Dot product of normal vector and a vector: 2.220446049250313e-16\n"
     ]
    }
   ],
   "source": [
    "# Cross product\n",
    "acrossb = np.cross(a,b)\n",
    "print(\"Normal vector:\", acrossb)\n",
    "\n",
    "# Calculate normal unit vector\n",
    "acrossb = acrossb / np.linalg.norm(acrossb) # np.linalg.norm() calculates magnitude of a vector\n",
    "\n",
    "# Magnitude of cross product vector\n",
    "magcross = np.linalg.norm(acrossb)\n",
    "print(\"Magnitude of normal unit vector:\", magcross)\n",
    "\n",
    "# Dot product normal vector and a vector\n",
    "check = acrossb @ a\n",
    "print(\"Dot product of normal vector and a vector:\", check)"
   ]
  },
  {
   "cell_type": "markdown",
   "metadata": {},
   "source": [
    "# Problem 3 \n"
   ]
  },
  {
   "cell_type": "markdown",
   "metadata": {},
   "source": [
    "The following rotation matrix in three-dimensional space takes any vector $\\vec{r}=(x,y,z)$ and rotates it by angle $\\theta$ around the $z$-axis.\n",
    "\n",
    "$$ R(\\theta) = \\left ( \\begin{array}{ccc}\n",
    "\\cos(\\theta) & -\\sin(\\theta) & 0 \\\\\n",
    "\\sin(\\theta) & \\cos(\\theta)  & 0  \\\\\n",
    "0 & 0 & 1 \\\\ \n",
    "\\end{array} \\right ) $$"
   ]
  },
  {
   "cell_type": "markdown",
   "metadata": {},
   "source": [
    "(a) Rotate a unit vector in the x-axis by an angle of $\\pi$/2.\n",
    "\n",
    "Hint: the rotated (\"new\") vector is obtained by the dot product of the rotation matrix $R(\\theta)$ with the original vector ($\\vec{r}$) as follows: <br>\n",
    "<br> \n",
    "$$\\vec{{r_{new}}} = R(\\theta).\\vec{r}$$\n",
    "<br>\n",
    "Note: in the above expression, $\\vec{r}$ must be construed as the transpose of the numpy.array representation of the original vector."
   ]
  },
  {
   "cell_type": "markdown",
   "metadata": {},
   "source": [
    "(a) Rotate a unit vector in the x-axis by an angle of $\\pi$/2."
   ]
  },
  {
   "cell_type": "code",
   "execution_count": 69,
   "metadata": {},
   "outputs": [
    {
     "name": "stdout",
     "output_type": "stream",
     "text": [
      "Rotation matrix R =  [[ 6.123234e-17 -1.000000e+00  0.000000e+00]\n",
      " [ 1.000000e+00  6.123234e-17  0.000000e+00]\n",
      " [ 0.000000e+00  0.000000e+00  1.000000e+00]]\n",
      "Rotated vector =  [6.123234e-17 1.000000e+00 0.000000e+00]\n"
     ]
    }
   ],
   "source": [
    "# Init\n",
    "ta = np.pi / 2\n",
    "rx = np.array([1,0,0])\n",
    "\n",
    "# Rotation matrix R\n",
    "matrixR = np.array([[np.cos(ta), -np.sin(ta),0],[np.sin(ta), np.cos(ta),0],[0,0,1]])\n",
    "print(\"Rotation matrix R = \",matrixR)\n",
    "\n",
    "# Rotated vector rnew\n",
    "rnewa = matrixR@(rx.T)\n",
    "print(\"Rotated vector = \",rnewa) # should be equal to unit vector in y-axis\n"
   ]
  },
  {
   "cell_type": "markdown",
   "metadata": {},
   "source": [
    "(b) Rotate a unit vector in the x-axis by an angle of $\\pi$/4.\n",
    "\n"
   ]
  },
  {
   "cell_type": "code",
   "execution_count": 76,
   "metadata": {},
   "outputs": [
    {
     "name": "stdout",
     "output_type": "stream",
     "text": [
      "Rotation matrix R =  [[ 0.70710678 -0.70710678  0.        ]\n",
      " [ 0.70710678  0.70710678  0.        ]\n",
      " [ 0.          0.          1.        ]]\n",
      "Rotated vector =  [0.70710678 0.70710678 0.        ]\n"
     ]
    }
   ],
   "source": [
    "# Init\n",
    "tb = np.pi / 4\n",
    "rx = np.array([1,0,0])\n",
    "\n",
    "# Rotation matrix R\n",
    "matrixR = np.array([[np.cos(tb), -np.sin(tb),0],[np.sin(tb), np.cos(tb),0],[0,0,1]])\n",
    "print(\"Rotation matrix R = \",matrixR)\n",
    "\n",
    "# Rotated vector rnew\n",
    "rnewb = matrixR@(rx.T)\n",
    "print(\"Rotated vector = \",rnewb) # should be equal to unit vector in y-axis"
   ]
  },
  {
   "cell_type": "markdown",
   "metadata": {},
   "source": [
    "(c) Rotate a unit vector in the y-axis by an angle of 2$\\pi$."
   ]
  },
  {
   "cell_type": "code",
   "execution_count": 84,
   "metadata": {},
   "outputs": [
    {
     "name": "stdout",
     "output_type": "stream",
     "text": [
      "Rotation matrix R =  [[ 1.0000000e+00  2.4492936e-16  0.0000000e+00]\n",
      " [-2.4492936e-16  1.0000000e+00  0.0000000e+00]\n",
      " [ 0.0000000e+00  0.0000000e+00  1.0000000e+00]]\n",
      "Rotated vector =  [2.4492936e-16 1.0000000e+00 0.0000000e+00]\n"
     ]
    }
   ],
   "source": [
    "# Init\n",
    "tc = 2 * np.pi\n",
    "ry = np.array([0,1,0])\n",
    "\n",
    "# Rotation matrix R\n",
    "matrixR = np.array([[np.cos(tc), -np.sin(tc),0],[np.sin(tc), np.cos(tc),0],[0,0,1]])\n",
    "print(\"Rotation matrix R = \",matrixR)\n",
    "\n",
    "# Rotated vector rnew\n",
    "rnewc = matrixR@(ry.T)\n",
    "print(\"Rotated vector = \",rnewc) # should be equal to unit vector in y-axis"
   ]
  },
  {
   "cell_type": "markdown",
   "metadata": {},
   "source": [
    "<hr style=\"height:2px;color:#000000\">"
   ]
  },
  {
   "cell_type": "markdown",
   "metadata": {},
   "source": [
    "## Loops and ifs"
   ]
  },
  {
   "cell_type": "markdown",
   "metadata": {},
   "source": [
    "## Numeric Range Loop\n",
    "\n",
    "The most basic for loop is a simple numeric range statement with start and end values. The exact format varies depending on the language but typically looks something like this:"
   ]
  },
  {
   "cell_type": "code",
   "execution_count": null,
   "metadata": {},
   "outputs": [],
   "source": [
    "for i in range(1,3):\n",
    "    print('i= ', i)\n",
    "    \n",
    "print()\n",
    "\n",
    "for j in range(0,10,3):\n",
    "    print('j= ', j)\n",
    "    \n",
    "print()\n",
    "    \n",
    "for k in range(-10,-100,-30):\n",
    "    print('k= ', k)\n"
   ]
  },
  {
   "cell_type": "code",
   "execution_count": null,
   "metadata": {},
   "outputs": [],
   "source": [
    "# Example of printing an array using for loops:\n",
    "\n",
    "A=np.array([1,2,3,4,5,6])\n",
    "\n",
    "for i in range(0,4):\n",
    "    print(A[i])\n",
    "\n",
    "print()\n",
    "\n",
    "# another way of printing an array using for loops:\n",
    "\n",
    "for a in A[0:4]:\n",
    "    print(a)\n",
    "\n",
    "print()\n",
    "    \n",
    "for a in A:\n",
    "    print(a)"
   ]
  },
  {
   "cell_type": "markdown",
   "metadata": {},
   "source": [
    "### Exercise 4\n",
    "\n",
    "Use a for loop to print the position of a ball, moving with constant speed $v$ = 2 m/s, each second for a total of 10 seconds (starting from 0)."
   ]
  },
  {
   "cell_type": "code",
   "execution_count": null,
   "metadata": {},
   "outputs": [],
   "source": [
    "# Define the \"dimension\" of the problem (that is, the length of arrays)\n",
    "ndim = \n",
    "\n",
    "# Define the time array\n",
    "time = \n",
    "\n",
    "# velocity\n",
    "vel = \n",
    "\n",
    "# Initialize the position array\n",
    "pos = \n",
    "\n",
    "# remember that position = velocity * time, for this problem\n",
    "\n",
    "# use a for loop to calculate position values\n",
    "for i in range(,):\n",
    "    \n",
    "    \n",
    "print('time (s) = \\t', time)\n",
    "print('position (m) = \\t', pos)"
   ]
  },
  {
   "cell_type": "markdown",
   "metadata": {},
   "source": [
    "## While loop"
   ]
  },
  {
   "cell_type": "code",
   "execution_count": null,
   "metadata": {},
   "outputs": [],
   "source": [
    "x = 1\n",
    "while x<5:\n",
    "    print(x)\n",
    "    x += 1"
   ]
  },
  {
   "cell_type": "markdown",
   "metadata": {},
   "source": [
    "## Nested loops"
   ]
  },
  {
   "cell_type": "code",
   "execution_count": null,
   "metadata": {},
   "outputs": [],
   "source": [
    "for x in range(1,3):\n",
    "    for y in range(1,3):\n",
    "        print (\"x =\", x, \"\\t y =\", y, \"\\t x + y =\", x + y)"
   ]
  },
  {
   "cell_type": "markdown",
   "metadata": {},
   "source": [
    "## Early exit"
   ]
  },
  {
   "cell_type": "code",
   "execution_count": null,
   "metadata": {},
   "outputs": [],
   "source": [
    "for x in range(1,15):\n",
    "    print(x)\n",
    "    if x == 7:\n",
    "        break"
   ]
  },
  {
   "cell_type": "markdown",
   "metadata": {},
   "source": [
    "## Conditional loops"
   ]
  },
  {
   "cell_type": "code",
   "execution_count": null,
   "metadata": {},
   "outputs": [],
   "source": [
    "for x in range(1,3):\n",
    "    print(x)\n",
    "else:\n",
    "    print ('Final x = %d' % (x))\n"
   ]
  },
  {
   "cell_type": "markdown",
   "metadata": {},
   "source": [
    "## if-elif-else Statements\n",
    "Python supports the usual logical conditions from mathematics:\n",
    "\n",
    "Equals: a == b\n",
    "Not Equals: a != b\n",
    "Less than: a < b\n",
    "Less than or equal to: a <= b\n",
    "Greater than: a > b\n",
    "Greater than or equal to: a >= b\n",
    "These conditions can be used in several ways, most commonly in \"if statements\" and loops.\n",
    "\n",
    "An \"if statement\" is written by using the if keyword."
   ]
  },
  {
   "cell_type": "code",
   "execution_count": null,
   "metadata": {},
   "outputs": [],
   "source": [
    "a = 3\n",
    "b = 9\n",
    "if b > a:\n",
    "  print(\"b is greater than a\")"
   ]
  },
  {
   "cell_type": "code",
   "execution_count": null,
   "metadata": {},
   "outputs": [],
   "source": [
    "a = 15\n",
    "b = 15\n",
    "if b > a:\n",
    "  print(\"b is greater than a\")\n",
    "elif a == b:\n",
    "  print(\"a and b are equal\")"
   ]
  },
  {
   "cell_type": "code",
   "execution_count": null,
   "metadata": {},
   "outputs": [],
   "source": [
    "a = 15\n",
    "b = 15\n",
    "if b > a:\n",
    "  print(\"b is greater than a\")\n",
    "elif a == b:\n",
    "  print(\"a and b are equal\")\n",
    "else:\n",
    "  print(\"a is greater than b\")"
   ]
  },
  {
   "cell_type": "markdown",
   "metadata": {},
   "source": [
    "## Logical statements <i>and</i> & <i>or</i>"
   ]
  },
  {
   "cell_type": "code",
   "execution_count": null,
   "metadata": {},
   "outputs": [],
   "source": [
    "a, b, c = 1, 2, 3\n",
    "if a > b and c > a:\n",
    "    print(\"Both Conditions are True\")\n",
    "elif c > a and b > a:\n",
    "    print(\"At least one of the conditions is True\")\n",
    "else:\n",
    "    print(\"None of the Conditions are True\")"
   ]
  },
  {
   "cell_type": "code",
   "execution_count": null,
   "metadata": {},
   "outputs": [],
   "source": [
    "if a > b or b > a:\n",
    "    print(\"At least one of the conditions is True\")"
   ]
  },
  {
   "cell_type": "markdown",
   "metadata": {},
   "source": [
    "<hr style=\"height:2px;color:#000000\">"
   ]
  },
  {
   "cell_type": "markdown",
   "metadata": {},
   "source": [
    "# File Handling in Python\n",
    " "
   ]
  },
  {
   "cell_type": "markdown",
   "metadata": {},
   "source": [
    "#### Example: \n",
    "Create two arrays and write out these arrays in a .csv format. Then, read your file back and print the arrays.  "
   ]
  },
  {
   "cell_type": "code",
   "execution_count": 81,
   "metadata": {},
   "outputs": [
    {
     "name": "stdout",
     "output_type": "stream",
     "text": [
      "(2, 5)\n",
      "[[ 0.  1.  2.  3.  4.]\n",
      " [10. 11. 12. 13. 14.]]\n"
     ]
    }
   ],
   "source": [
    "# Write into csv arrays\n",
    "a = np.array([0.,1.,2.,3.,4.])\n",
    "b = np.array([10.,11.,12.,13.,14.])\n",
    "\n",
    "ab = np.array([a, b])\n",
    "np.savetxt(\"outab.txt\", ab, fmt=\"%10.3f\")\n",
    "print(ab.shape)\n",
    "print(ab)"
   ]
  },
  {
   "cell_type": "code",
   "execution_count": 82,
   "metadata": {},
   "outputs": [
    {
     "name": "stdout",
     "output_type": "stream",
     "text": [
      "[0. 1. 2. 3. 4.] [10. 11. 12. 13. 14.]\n"
     ]
    },
    {
     "data": {
      "text/plain": [
       "(array([0., 1., 2., 3., 4.]), array([10., 11., 12., 13., 14.]))"
      ]
     },
     "execution_count": 82,
     "metadata": {},
     "output_type": "execute_result"
    }
   ],
   "source": [
    "# Read arrays from csv\n",
    "\n",
    "[a_read, b_read] = np.loadtxt(\"outab.txt\")\n",
    "print(a_read, b_read)\n",
    "a_read, b_read"
   ]
  },
  {
   "cell_type": "code",
   "execution_count": 83,
   "metadata": {},
   "outputs": [
    {
     "name": "stdout",
     "output_type": "stream",
     "text": [
      "5 5\n",
      "[0. 1. 2. 3. 4.]\n",
      "[10. 11. 12. 13. 14.]\n"
     ]
    }
   ],
   "source": [
    "# another approach to write into csv\n",
    "# (concatenating the arrays by means of the numpy function np.c_[a,b]):\n",
    "\n",
    "np.savetxt('outab2.csv', np.c_[a, b], fmt='%10.5f %10.5f', delimiter = ',')\n",
    "\n",
    "a_read, b_read =np.loadtxt('outab2.csv', unpack = True)\n",
    "print(np.size(a_read), np.size(b_read))\n",
    "print(a_read)\n",
    "print(b_read)\n"
   ]
  },
  {
   "cell_type": "markdown",
   "metadata": {},
   "source": [
    "# Problem 4"
   ]
  },
  {
   "cell_type": "markdown",
   "metadata": {},
   "source": [
    "Create three arrays:<br> \n",
    "a) x with 10 numbers between \n",
    "$[\\begin{array}{r}-5.0,& 5.0\\\\\\end{array}]$ <br>\n",
    "b) $y1=1+ \\ x^2$ and <br>\n",
    "c) $y2=1+\\ x^3$. <br>Write out these three arrays in a .csv format file using Python. Then read your file back and print the arrays in this file."
   ]
  },
  {
   "cell_type": "code",
   "execution_count": 3,
   "metadata": {},
   "outputs": [
    {
     "name": "stdout",
     "output_type": "stream",
     "text": [
      "10 10 10\n",
      "[-5.      -3.88889 -2.77778 -1.66667 -0.55556  0.55556  1.66667  2.77778\n",
      "  3.88889  5.     ]\n",
      "[26.      16.12346  8.71605  3.77778  1.30864  1.30864  3.77778  8.71605\n",
      " 16.12346 26.     ]\n",
      "[-124.       -57.81344  -20.43347   -3.62963    0.82853    1.17147\n",
      "    5.62963   22.43347   59.81344  126.     ]\n"
     ]
    }
   ],
   "source": [
    "x = np.linspace(-5.0,5.0,10)\n",
    "y1 = 1 + x**2\n",
    "y2 = 1 + x**3\n",
    "\n",
    "'''\n",
    "print(\"x:\", x)\n",
    "print(\"y1:\", y1)\n",
    "print(\"y2:\", y2)\n",
    "'''\n",
    "\n",
    "# Write into csv\n",
    "np.savetxt('output.csv', np.c_[x,y1, y2], fmt='%10.5f %10.5f %10.5f', delimiter = ',')\n",
    "\n",
    "# Read\n",
    "a_read, b_read, c_read = np.loadtxt('output.csv', unpack = True)\n",
    "print(np.size(a_read), np.size(b_read), np.size(c_read))\n",
    "\n",
    "print(a_read)\n",
    "print(b_read)\n",
    "print(c_read)"
   ]
  },
  {
   "cell_type": "code",
   "execution_count": null,
   "metadata": {},
   "outputs": [],
   "source": []
  }
 ],
 "metadata": {
  "kernelspec": {
   "display_name": "Python 3.7.6 64-bit ('APMATH10': conda)",
   "language": "python",
   "name": "python37664bitapmath10condafd18a692606a4b65b65ae56dd708c298"
  },
  "language_info": {
   "codemirror_mode": {
    "name": "ipython",
    "version": 3
   },
   "file_extension": ".py",
   "mimetype": "text/x-python",
   "name": "python",
   "nbconvert_exporter": "python",
   "pygments_lexer": "ipython3",
   "version": "3.7.6-final"
  },
  "pycharm": {
   "stem_cell": {
    "cell_type": "raw",
    "metadata": {
     "collapsed": false
    },
    "source": []
   }
  }
 },
 "nbformat": 4,
 "nbformat_minor": 2
}